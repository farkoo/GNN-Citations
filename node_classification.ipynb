{
  "nbformat": 4,
  "nbformat_minor": 0,
  "metadata": {
    "colab": {
      "name": "node-classification.ipynb",
      "provenance": [],
      "collapsed_sections": []
    },
    "kernelspec": {
      "name": "python3",
      "display_name": "Python 3"
    },
    "language_info": {
      "name": "python"
    }
  },
  "cells": [
    {
      "cell_type": "code",
      "execution_count": 45,
      "metadata": {
        "id": "IYDLTCK4yLpL"
      },
      "outputs": [],
      "source": [
        "import numpy as np\n",
        "import os\n",
        "import pandas as pd\n",
        "import networkx as nx\n",
        "import matplotlib.pyplot as plt\n",
        "import tensorflow as tf\n",
        "from tensorflow import keras\n",
        "from sklearn.model_selection import train_test_split"
      ]
    },
    {
      "cell_type": "code",
      "source": [
        "zip_file = keras.utils.get_file(\n",
        "    fname=\"cora.tgz\",\n",
        "    origin=\"https://linqs-data.soe.ucsc.edu/public/lbc/cora.tgz\",\n",
        "    extract=True,\n",
        ")\n",
        "data_dir = os.path.join(os.path.dirname(zip_file), \"cora\")"
      ],
      "metadata": {
        "id": "y1URFw6VzIsp"
      },
      "execution_count": 46,
      "outputs": []
    },
    {
      "cell_type": "code",
      "source": [
        "citations = pd.read_csv(\n",
        "    os.path.join(data_dir, \"cora.cites\"),\n",
        "    sep=\"\\t\",\n",
        "    header=None,\n",
        "    names=[\"target\", \"source\"],\n",
        ")\n",
        "print(\"Citations shape:\", citations.shape)"
      ],
      "metadata": {
        "colab": {
          "base_uri": "https://localhost:8080/"
        },
        "id": "EhtRMHpPzRa_",
        "outputId": "a4e85a5c-8892-44d0-9f99-bcdffeb3423c"
      },
      "execution_count": 47,
      "outputs": [
        {
          "output_type": "stream",
          "name": "stdout",
          "text": [
            "Citations shape: (5429, 2)\n"
          ]
        }
      ]
    },
    {
      "cell_type": "code",
      "source": [
        "column_names = [\"paper_id\"] + [f\"term_{idx}\" for idx in range(1433)] + [\"subject\"]\n",
        "papers = pd.read_csv(\n",
        "    os.path.join(data_dir, \"cora.content\"), sep=\"\\t\", header=None, names=column_names,\n",
        ")\n",
        "print(\"Papers shape:\", papers.shape)\n",
        "papers = papers.sort_values(by = 'paper_id')"
      ],
      "metadata": {
        "colab": {
          "base_uri": "https://localhost:8080/"
        },
        "id": "HtvvDBIIzbry",
        "outputId": "cca0f803-2a6b-4417-8997-4ffd7706ff4f"
      },
      "execution_count": 49,
      "outputs": [
        {
          "output_type": "stream",
          "name": "stdout",
          "text": [
            "Papers shape: (2708, 1435)\n"
          ]
        }
      ]
    },
    {
      "cell_type": "code",
      "source": [
        "G = nx.DiGraph()\n",
        "G.add_nodes_from(np.unique(papers['paper_id']))\n",
        "for i in range(citations.shape[0]):\n",
        "  G.add_edge(citations.iloc[i]['source'], citations.iloc[i]['target'])"
      ],
      "metadata": {
        "id": "yWUt5ts7zoOi"
      },
      "execution_count": 18,
      "outputs": []
    },
    {
      "cell_type": "code",
      "source": [
        "features = pd.DataFrame(columns={\"node\"})\n",
        "# degree_centrality = nx.degree_centrality(G)\n",
        "# features['node'] = degree_centrality.keys()\n",
        "features['node'] = np.union1d(np.unique(citations['source']), np.unique(citations['target']))\n",
        "features.insert(features.shape[1],\"degree_centrality\", nx.degree_centrality(G).values())\n",
        "features.insert(features.shape[1],\"in_degree_centrality\", nx.in_degree_centrality(G).values())\n",
        "features.insert(features.shape[1],\"out_degree_centrality\", nx.out_degree_centrality(G).values())\n",
        "features.insert(features.shape[1],\"average_neighbor_degree\", nx.average_neighbor_degree(G).values())\n",
        "features.insert(features.shape[1],\"eigenvector_centrality\", nx.eigenvector_centrality(G).values())\n",
        "features.insert(features.shape[1],\"closeness_centrality\", nx.closeness_centrality(G).values())\n",
        "# features.insert(features.shape[1],\"current_flow_closeness_centrality\", nx.current_flow_closeness_centrality(G).values())\n",
        "features.insert(features.shape[1],\"betweenness_centrality\", nx.betweenness_centrality(G).values())\n",
        "# features.insert(features.shape[1],\"current_flow_betweenness_centrality\", nx.current_flow_betweenness_centrality(G).values())\n",
        "features.insert(features.shape[1],\"load_centrality\", nx.load_centrality(G).values())\n",
        "features.insert(features.shape[1],\"harmonic_centrality\", nx.harmonic_centrality(G).values())\n",
        "# features.insert(features.shape[1],\"second_order_centrality\", nx.second_order_centrality(G).values())\n",
        "features.insert(features.shape[1],\"pagerank\", nx.pagerank(G, alpha = 0.8).values())\n",
        "features.insert(features.shape[1],\"subject\", papers['subject'])"
      ],
      "metadata": {
        "id": "3V6sP7Nu1Uri"
      },
      "execution_count": 19,
      "outputs": []
    },
    {
      "cell_type": "code",
      "source": [
        "# from networkx.algorithms import node_classification\n",
        "# node_classification.harmonic_function(G)"
      ],
      "metadata": {
        "id": "AUUdj9463iyw"
      },
      "execution_count": null,
      "outputs": []
    },
    {
      "cell_type": "code",
      "source": [
        "# G1 = nx.Graph()\n",
        "# for i in range(citations.shape[0]):\n",
        "#   G1.add_edge(citations.iloc[i]['source'], citations.iloc[i]['target'])"
      ],
      "metadata": {
        "id": "xxLWTY_n5hTz"
      },
      "execution_count": 35,
      "outputs": []
    },
    {
      "cell_type": "code",
      "source": [
        "class_values = sorted(papers[\"subject\"].unique())\n",
        "class_idx = {name: id for id, name in enumerate(class_values)}\n",
        "paper_idx = {name: idx for idx, name in enumerate(sorted(papers[\"paper_id\"].unique()))}\n",
        "\n",
        "papers[\"paper_id\"] = papers[\"paper_id\"].apply(lambda name: paper_idx[name])\n",
        "citations[\"source\"] = citations[\"source\"].apply(lambda name: paper_idx[name])\n",
        "citations[\"target\"] = citations[\"target\"].apply(lambda name: paper_idx[name])\n",
        "papers[\"subject\"] = papers[\"subject\"].apply(lambda value: class_idx[value])"
      ],
      "metadata": {
        "id": "vxf3at3y9OTT"
      },
      "execution_count": 20,
      "outputs": []
    },
    {
      "cell_type": "code",
      "source": [
        "X = features.to_numpy()[:, 1:11]\n",
        "Y = features.to_numpy()[:, 11]\n",
        "x_train, x_test, y_train, y_test = train_test_split(X, Y, test_size=0.33, random_state=42)"
      ],
      "metadata": {
        "id": "sCSC1jBjPlmU"
      },
      "execution_count": 98,
      "outputs": []
    },
    {
      "cell_type": "code",
      "source": [
        "from sklearn.ensemble import RandomForestClassifier\n",
        "\n",
        "model = RandomForestClassifier(max_depth=10, random_state=0)\n",
        "model.fit(x_train, y_train)\n",
        "\n",
        "# make prediction\n",
        "test_prediction = model.predict(x_test)\n",
        "\n",
        "# calculate the accuracy\n",
        "true_predicted = 0\n",
        "for i in range(len(test_prediction)):\n",
        "    if test_prediction[i] == list(y_test)[i]:\n",
        "        true_predicted +=1\n",
        "\n",
        "numberOfTestNodes = len(y_test)\n",
        "\n",
        "print('Accuracy: ', true_predicted/numberOfTestNodes)"
      ],
      "metadata": {
        "colab": {
          "base_uri": "https://localhost:8080/"
        },
        "id": "2kef-8rT_-Jh",
        "outputId": "a7c4c9a7-206d-407d-dad8-34430ba9564d"
      },
      "execution_count": 99,
      "outputs": [
        {
          "output_type": "stream",
          "name": "stdout",
          "text": [
            "Accuracy:  0.3042505592841163\n"
          ]
        }
      ]
    },
    {
      "cell_type": "code",
      "source": [
        "X_all = pd.concat([features, papers], axis=1).drop(['paper_id', 'subject', 'node'], axis=1).to_numpy()\n",
        "Y_all = features.to_numpy()[:, 11]\n",
        "x_train, x_test, y_train, y_test = train_test_split(X_all, Y_all, test_size=0.33, random_state=42)"
      ],
      "metadata": {
        "id": "2uPxnu9kIjpi"
      },
      "execution_count": 88,
      "outputs": []
    },
    {
      "cell_type": "code",
      "source": [
        "from sklearn.ensemble import RandomForestClassifier\n",
        "\n",
        "model = RandomForestClassifier(max_depth=10, random_state=0)\n",
        "model.fit(x_train, y_train)\n",
        "\n",
        "# make prediction\n",
        "test_prediction = model.predict(x_test)\n",
        "\n",
        "# calculate the accuracy\n",
        "true_predicted = 0\n",
        "for i in range(len(test_prediction)):\n",
        "    if test_prediction[i] == list(y_test)[i]:\n",
        "        true_predicted +=1\n",
        "\n",
        "numberOfTestNodes = len(y_test)\n",
        "\n",
        "print('Accuracy: ', true_predicted/numberOfTestNodes)"
      ],
      "metadata": {
        "colab": {
          "base_uri": "https://localhost:8080/"
        },
        "id": "1WVNW_6emz6h",
        "outputId": "f7a6e2ae-f6c2-4970-9e8c-370bf81cb586"
      },
      "execution_count": 94,
      "outputs": [
        {
          "output_type": "stream",
          "name": "stdout",
          "text": [
            "Accuracy:  0.5894854586129754\n"
          ]
        }
      ]
    },
    {
      "cell_type": "code",
      "source": [
        "x = papers.to_numpy()[:, 1:1432]\n",
        "y = features.to_numpy()[:, 11]\n",
        "x_train, x_test, y_train, y_test = train_test_split(x, y, test_size=0.33, random_state=42)"
      ],
      "metadata": {
        "id": "f0QRP94gn9YV"
      },
      "execution_count": 103,
      "outputs": []
    },
    {
      "cell_type": "code",
      "source": [
        "from sklearn.ensemble import RandomForestClassifier\n",
        "\n",
        "model = RandomForestClassifier(max_depth=10, random_state=0)\n",
        "model.fit(x_train, y_train)\n",
        "\n",
        "# make prediction\n",
        "test_prediction = model.predict(x_test)\n",
        "\n",
        "# calculate the accuracy\n",
        "true_predicted = 0\n",
        "for i in range(len(test_prediction)):\n",
        "    if test_prediction[i] == list(y_test)[i]:\n",
        "        true_predicted +=1\n",
        "\n",
        "numberOfTestNodes = len(y_test)\n",
        "\n",
        "print('Accuracy: ', true_predicted/numberOfTestNodes)"
      ],
      "metadata": {
        "colab": {
          "base_uri": "https://localhost:8080/"
        },
        "id": "yDSBMEBfuNkf",
        "outputId": "3de9e497-7856-4925-9f0c-e37eda76a4b4"
      },
      "execution_count": 104,
      "outputs": [
        {
          "output_type": "stream",
          "name": "stdout",
          "text": [
            "Accuracy:  0.31767337807606266\n"
          ]
        }
      ]
    },
    {
      "cell_type": "code",
      "source": [
        ""
      ],
      "metadata": {
        "id": "K_SxZOenuT2d"
      },
      "execution_count": null,
      "outputs": []
    }
  ]
}