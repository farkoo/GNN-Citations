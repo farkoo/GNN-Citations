{
  "cells": [
    {
      "cell_type": "markdown",
      "metadata": {
        "id": "9z47kkx5U8oR"
      },
      "source": [
        "# Node Classification with Graph Neural Networks\n",
        "\n",
        "**Author:** [Khalid Salama](https://www.linkedin.com/in/khalid-salama-24403144/)<br>\n",
        "**Date created:** 2021/05/30<br>\n",
        "**Last modified:** 2021/05/30<br>\n",
        "**Description:** Implementing a graph neural network model for predicting the topic of a paper given its citations."
      ]
    },
    {
      "cell_type": "markdown",
      "metadata": {
        "id": "0Z9h5WdLU8oa"
      },
      "source": [
        "## Introduction\n",
        "\n",
        "Many datasets in various machine learning (ML) applications have structural relationships\n",
        "between their entities, which can be represented as graphs. Such application includes\n",
        "social and communication networks analysis, traffic prediction, and fraud detection.\n",
        "[Graph representation Learning](https://www.cs.mcgill.ca/~wlh/grl_book/)\n",
        "aims to build and train models for graph datasets to be used for a variety of ML tasks.\n",
        "\n",
        "This example demonstrate a simple implementation of a [Graph Neural Network](https://arxiv.org/pdf/1901.00596.pdf)\n",
        "(GNN) model. The model is used for a node prediction task on the [Cora dataset](https://relational.fit.cvut.cz/dataset/CORA)\n",
        "to predict the subject of a paper given its words and citations network.\n",
        "\n",
        "Note that, **we implement a Graph Convolution Layer from scratch** to provide better\n",
        "understanding of how they work. However, there is a number of specialized TensorFlow-based\n",
        "libraries that provide rich GNN APIs, such as [Spectral](https://graphneural.network/),\n",
        "[StellarGraph](https://stellargraph.readthedocs.io/en/stable/README.html), and\n",
        "[GraphNets](https://github.com/deepmind/graph_nets)."
      ]
    },
    {
      "cell_type": "markdown",
      "metadata": {
        "id": "ZGZGwyJfU8ob"
      },
      "source": [
        "## Setup"
      ]
    },
    {
      "cell_type": "code",
      "execution_count": 11,
      "metadata": {
        "id": "lIA3R-nyU8od"
      },
      "outputs": [],
      "source": [
        "import os\n",
        "import pandas as pd\n",
        "import numpy as np\n",
        "import networkx as nx\n",
        "import matplotlib.pyplot as plt\n",
        "import tensorflow as tf\n",
        "from tensorflow import keras\n",
        "from tensorflow.keras import layers\n",
        "from sklearn.model_selection import train_test_split"
      ]
    },
    {
      "cell_type": "markdown",
      "metadata": {
        "id": "SmoA8-WDU8og"
      },
      "source": [
        "## Prepare the Dataset\n",
        "\n",
        "The Cora dataset consists of 2,708 scientific papers classified into one of seven classes.\n",
        "The citation network consists of 5,429 links. Each paper has a binary word vector of size\n",
        "1,433, indicating the presence of a corresponding word.\n",
        "\n",
        "### Download the dataset\n",
        "\n",
        "The dataset has two tap-separated files: `cora.cites` and `cora.content`.\n",
        "\n",
        "1. The `cora.cites` includes the citation records with two columns:\n",
        "`cited_paper_id` (target) and `citing_paper_id` (source).\n",
        "2. The `cora.content` includes the paper content records with 1,435 columns:\n",
        "`paper_id`, `subject`, and 1,433 binary features.\n",
        "\n",
        "Let's download the dataset."
      ]
    },
    {
      "cell_type": "code",
      "execution_count": 2,
      "metadata": {
        "id": "8dMFCeAoU8oi",
        "outputId": "b2cd4c71-0574-4b17-d864-193588468894",
        "colab": {
          "base_uri": "https://localhost:8080/"
        }
      },
      "outputs": [
        {
          "output_type": "stream",
          "name": "stdout",
          "text": [
            "Downloading data from https://linqs-data.soe.ucsc.edu/public/lbc/cora.tgz\n",
            "172032/168052 [==============================] - 0s 0us/step\n",
            "180224/168052 [================================] - 0s 0us/step\n"
          ]
        }
      ],
      "source": [
        "zip_file = keras.utils.get_file(\n",
        "    fname=\"cora.tgz\",\n",
        "    origin=\"https://linqs-data.soe.ucsc.edu/public/lbc/cora.tgz\",\n",
        "    extract=True,\n",
        ")\n",
        "data_dir = os.path.join(os.path.dirname(zip_file), \"cora\")"
      ]
    },
    {
      "cell_type": "markdown",
      "metadata": {
        "id": "A2S1ZTPnU8oj"
      },
      "source": [
        "### Process and visualize the dataset\n",
        "\n",
        "Then we load the citations data into a Pandas DataFrame."
      ]
    },
    {
      "cell_type": "code",
      "execution_count": 3,
      "metadata": {
        "id": "zkHbBpOIU8ok",
        "outputId": "dfab7f27-d970-4205-a2c0-686aa3bff585",
        "colab": {
          "base_uri": "https://localhost:8080/"
        }
      },
      "outputs": [
        {
          "output_type": "stream",
          "name": "stdout",
          "text": [
            "Citations shape: (5429, 2)\n"
          ]
        }
      ],
      "source": [
        "citations = pd.read_csv(\n",
        "    os.path.join(data_dir, \"cora.cites\"),\n",
        "    sep=\"\\t\",\n",
        "    header=None,\n",
        "    names=[\"target\", \"source\"],\n",
        ")\n",
        "print(\"Citations shape:\", citations.shape)"
      ]
    },
    {
      "cell_type": "markdown",
      "metadata": {
        "id": "S3Fb_hspU8ok"
      },
      "source": [
        "Now we display a sample of the `citations` DataFrame.\n",
        "The `target` column includes the paper ids cited by the paper ids in the `source` column."
      ]
    },
    {
      "cell_type": "code",
      "execution_count": null,
      "metadata": {
        "id": "-ETbbnOOU8ol"
      },
      "outputs": [],
      "source": [
        "citations.sample(frac=1).head()"
      ]
    },
    {
      "cell_type": "markdown",
      "metadata": {
        "id": "tLIM7C9tU8om"
      },
      "source": [
        "Now let's load the papers data into a Pandas DataFrame."
      ]
    },
    {
      "cell_type": "code",
      "execution_count": 5,
      "metadata": {
        "id": "VLfiu6rGU8om",
        "outputId": "7a5a7467-403f-4823-fb78-6663f6c81777",
        "colab": {
          "base_uri": "https://localhost:8080/"
        }
      },
      "outputs": [
        {
          "output_type": "stream",
          "name": "stdout",
          "text": [
            "Papers shape: (2708, 1435)\n"
          ]
        }
      ],
      "source": [
        "column_names = [\"paper_id\"] + [f\"term_{idx}\" for idx in range(1433)] + [\"subject\"]\n",
        "papers = pd.read_csv(\n",
        "    os.path.join(data_dir, \"cora.content\"), sep=\"\\t\", header=None, names=column_names,\n",
        ")\n",
        "print(\"Papers shape:\", papers.shape)\n",
        "papers = papers.sort_values(by = 'paper_id')"
      ]
    },
    {
      "cell_type": "markdown",
      "metadata": {
        "id": "WNdkRCXtU8on"
      },
      "source": [
        "Now we display a sample of the `papers` DataFrame. The DataFrame includes the `paper_id`\n",
        "and the `subject` columns, as well as 1,433 binary column representing whether a term exists\n",
        "in the paper or not."
      ]
    },
    {
      "cell_type": "code",
      "execution_count": null,
      "metadata": {
        "id": "Txk5qdXDU8on"
      },
      "outputs": [],
      "source": [
        "print(papers.sample(5).T)"
      ]
    },
    {
      "cell_type": "markdown",
      "metadata": {
        "id": "N2FP67WyU8oo"
      },
      "source": [
        "Let's display the count of the papers in each subject."
      ]
    },
    {
      "cell_type": "code",
      "execution_count": null,
      "metadata": {
        "id": "Lfio3phFU8oo"
      },
      "outputs": [],
      "source": [
        "print(papers.subject.value_counts())"
      ]
    },
    {
      "cell_type": "markdown",
      "metadata": {
        "id": "GCQsIkwqU8op"
      },
      "source": [
        "We convert the paper ids and the subjects into zero-based indices."
      ]
    },
    {
      "cell_type": "code",
      "execution_count": 6,
      "metadata": {
        "id": "OvSzXLvzU8op"
      },
      "outputs": [],
      "source": [
        "class_values = sorted(papers[\"subject\"].unique())\n",
        "class_idx = {name: id for id, name in enumerate(class_values)}\n",
        "paper_idx = {name: idx for idx, name in enumerate(sorted(papers[\"paper_id\"].unique()))}\n",
        "\n",
        "papers[\"paper_id\"] = papers[\"paper_id\"].apply(lambda name: paper_idx[name])\n",
        "citations[\"source\"] = citations[\"source\"].apply(lambda name: paper_idx[name])\n",
        "citations[\"target\"] = citations[\"target\"].apply(lambda name: paper_idx[name])\n",
        "papers[\"subject\"] = papers[\"subject\"].apply(lambda value: class_idx[value])"
      ]
    },
    {
      "cell_type": "markdown",
      "metadata": {
        "id": "90A2SDjAU8oq"
      },
      "source": [
        "Now let's visualize the citation graph. Each node in the graph represents a paper,\n",
        "and the color of the node corresponds to its subject. Note that we only show a sample of\n",
        "the papers in the dataset."
      ]
    },
    {
      "cell_type": "code",
      "execution_count": null,
      "metadata": {
        "id": "SazGmjlUU8oq"
      },
      "outputs": [],
      "source": [
        "plt.figure(figsize=(10, 10))\n",
        "colors = papers[\"subject\"].tolist()\n",
        "cora_graph = nx.from_pandas_edgelist(citations.sample(n=1500))\n",
        "subjects = list(papers[papers[\"paper_id\"].isin(list(cora_graph.nodes))][\"subject\"])\n",
        "nx.draw_spring(cora_graph, node_size=15, node_color=subjects)\n"
      ]
    },
    {
      "cell_type": "markdown",
      "metadata": {
        "id": "e8WHW68XU8oq"
      },
      "source": [
        "### Split the dataset into stratified train and test sets"
      ]
    },
    {
      "cell_type": "code",
      "execution_count": 21,
      "metadata": {
        "id": "rayLNtMBU8or",
        "outputId": "64c761bf-b1b4-4aa4-fc0b-0dfe79f881f8",
        "colab": {
          "base_uri": "https://localhost:8080/"
        }
      },
      "outputs": [
        {
          "output_type": "stream",
          "name": "stdout",
          "text": [
            "Train data shape: (1352, 1435)\n",
            "Test data shape: (1356, 1435)\n"
          ]
        }
      ],
      "source": [
        "train_data, test_data = [], []\n",
        "\n",
        "for _, group_data in papers.groupby(\"subject\"):\n",
        "    # Select around 50% of the dataset for training.\n",
        "    random_selection = np.random.rand(len(group_data.index)) <= 0.5\n",
        "    train_data.append(group_data[random_selection])\n",
        "    test_data.append(group_data[~random_selection])\n",
        "\n",
        "train_data = pd.concat(train_data).sample(frac=1)\n",
        "test_data = pd.concat(test_data).sample(frac=1)\n",
        "\n",
        "print(\"Train data shape:\", train_data.shape)\n",
        "print(\"Test data shape:\", test_data.shape)"
      ]
    },
    {
      "cell_type": "code",
      "source": [
        "G = nx.DiGraph()\n",
        "G.add_nodes_from(np.unique(papers['paper_id']))\n",
        "for i in range(citations.shape[0]):\n",
        "  G.add_edge(citations.iloc[i]['source'], citations.iloc[i]['target'])"
      ],
      "metadata": {
        "id": "DAXgaVUnqn_D"
      },
      "execution_count": 8,
      "outputs": []
    },
    {
      "cell_type": "code",
      "source": [
        "features = pd.DataFrame(columns={\"node\"})\n",
        "# degree_centrality = nx.degree_centrality(G)\n",
        "# features['node'] = degree_centrality.keys()\n",
        "features['node'] = np.union1d(np.unique(citations['source']), np.unique(citations['target']))\n",
        "features.insert(features.shape[1],\"degree_centrality\", nx.degree_centrality(G).values())\n",
        "features.insert(features.shape[1],\"in_degree_centrality\", nx.in_degree_centrality(G).values())\n",
        "features.insert(features.shape[1],\"out_degree_centrality\", nx.out_degree_centrality(G).values())\n",
        "features.insert(features.shape[1],\"average_neighbor_degree\", nx.average_neighbor_degree(G).values())\n",
        "features.insert(features.shape[1],\"eigenvector_centrality\", nx.eigenvector_centrality(G).values())\n",
        "features.insert(features.shape[1],\"closeness_centrality\", nx.closeness_centrality(G).values())\n",
        "# features.insert(features.shape[1],\"current_flow_closeness_centrality\", nx.current_flow_closeness_centrality(G).values())\n",
        "features.insert(features.shape[1],\"betweenness_centrality\", nx.betweenness_centrality(G).values())\n",
        "# features.insert(features.shape[1],\"current_flow_betweenness_centrality\", nx.current_flow_betweenness_centrality(G).values())\n",
        "features.insert(features.shape[1],\"load_centrality\", nx.load_centrality(G).values())\n",
        "features.insert(features.shape[1],\"harmonic_centrality\", nx.harmonic_centrality(G).values())\n",
        "# features.insert(features.shape[1],\"second_order_centrality\", nx.second_order_centrality(G).values())\n",
        "features.insert(features.shape[1],\"pagerank\", nx.pagerank(G, alpha = 0.8).values())\n",
        "features.insert(features.shape[1],\"clustering\", nx.clustering(G).values())\n",
        "features.insert(features.shape[1],\"subject\", papers['subject'])"
      ],
      "metadata": {
        "id": "OZ05rq1aqo9E"
      },
      "execution_count": 9,
      "outputs": []
    },
    {
      "cell_type": "code",
      "source": [
        "len(nx.hits(G))"
      ],
      "metadata": {
        "id": "abMpLVdfBqsL",
        "outputId": "b41550de-b808-4148-f3ee-2b52571ef3b1",
        "colab": {
          "base_uri": "https://localhost:8080/"
        }
      },
      "execution_count": 110,
      "outputs": [
        {
          "output_type": "execute_result",
          "data": {
            "text/plain": [
              "2"
            ]
          },
          "metadata": {},
          "execution_count": 110
        }
      ]
    },
    {
      "cell_type": "code",
      "source": [
        "X = features.to_numpy()[:, 1:11]\n",
        "Y = features.to_numpy()[:, 11]\n",
        "x_train, x_test, y_train, y_test = train_test_split(X, Y, test_size=0.33, random_state=42)"
      ],
      "metadata": {
        "id": "lS-G73ruqqLu"
      },
      "execution_count": 86,
      "outputs": []
    },
    {
      "cell_type": "code",
      "source": [
        "X_all = pd.concat([features, papers], axis=1).drop(['paper_id', 'subject', 'node'], axis=1).to_numpy()\n",
        "Y_all = features.to_numpy()[:, 11]\n",
        "x_train_all, x_test_all, y_train_all, y_test_all = train_test_split(X_all, Y_all, test_size=0.33, random_state=42)"
      ],
      "metadata": {
        "id": "2fJ-Rozfqp14"
      },
      "execution_count": 87,
      "outputs": []
    },
    {
      "cell_type": "code",
      "source": [
        "from sklearn.ensemble import RandomForestClassifier\n",
        "\n",
        "model = RandomForestClassifier(max_depth=10, random_state=0)\n",
        "model.fit(x_train, y_train)\n",
        "\n",
        "# make prediction\n",
        "test_prediction = model.predict(x_test)\n",
        "\n",
        "# calculate the accuracy\n",
        "true_predicted = 0\n",
        "for i in range(len(test_prediction)):\n",
        "    if test_prediction[i] == list(y_test)[i]:\n",
        "        true_predicted +=1\n",
        "\n",
        "numberOfTestNodes = len(y_test)\n",
        "\n",
        "print('Accuracy: ', true_predicted/numberOfTestNodes)"
      ],
      "metadata": {
        "id": "MHCDQqbkCqTi"
      },
      "execution_count": null,
      "outputs": []
    },
    {
      "cell_type": "markdown",
      "metadata": {
        "id": "zG-MNMI4U8or"
      },
      "source": [
        "## Implement Train and Evaluate Experiment"
      ]
    },
    {
      "cell_type": "code",
      "execution_count": 14,
      "metadata": {
        "id": "yGkIRcs8U8os"
      },
      "outputs": [],
      "source": [
        "hidden_units = [32, 32]\n",
        "learning_rate = 0.01\n",
        "dropout_rate = 0.5\n",
        "num_epochs = 300\n",
        "batch_size = 256"
      ]
    },
    {
      "cell_type": "markdown",
      "metadata": {
        "id": "3tMl_jehU8os"
      },
      "source": [
        "This function compiles and trains an input model using the given training data."
      ]
    },
    {
      "cell_type": "code",
      "execution_count": 15,
      "metadata": {
        "id": "oMHkOQYxU8os"
      },
      "outputs": [],
      "source": [
        "def run_experiment(model, x_train, y_train):\n",
        "    # Compile the model.\n",
        "    model.compile(\n",
        "        optimizer=keras.optimizers.Adam(learning_rate),\n",
        "        loss=keras.losses.SparseCategoricalCrossentropy(from_logits=True),\n",
        "        metrics=[keras.metrics.SparseCategoricalAccuracy(name=\"acc\")],\n",
        "    )\n",
        "    # Create an early stopping callback.\n",
        "    early_stopping = keras.callbacks.EarlyStopping(\n",
        "        monitor=\"val_acc\", patience=50, restore_best_weights=True\n",
        "    )\n",
        "    # Fit the model.\n",
        "    history = model.fit(\n",
        "        x=x_train,\n",
        "        y=y_train,\n",
        "        epochs=num_epochs,\n",
        "        batch_size=batch_size,\n",
        "        validation_split=0.15,\n",
        "        callbacks=[early_stopping],\n",
        "    )\n",
        "\n",
        "    return history\n"
      ]
    },
    {
      "cell_type": "markdown",
      "metadata": {
        "id": "9JFiBqsrU8os"
      },
      "source": [
        "This function displays the loss and accuracy curves of the model during training."
      ]
    },
    {
      "cell_type": "code",
      "execution_count": 16,
      "metadata": {
        "id": "kn_ZDJW4U8ot"
      },
      "outputs": [],
      "source": [
        "def display_learning_curves(history):\n",
        "    fig, (ax1, ax2) = plt.subplots(1, 2, figsize=(15, 5))\n",
        "\n",
        "    ax1.plot(history.history[\"loss\"])\n",
        "    ax1.plot(history.history[\"val_loss\"])\n",
        "    ax1.legend([\"train\", \"test\"], loc=\"upper right\")\n",
        "    ax1.set_xlabel(\"Epochs\")\n",
        "    ax1.set_ylabel(\"Loss\")\n",
        "\n",
        "    ax2.plot(history.history[\"acc\"])\n",
        "    ax2.plot(history.history[\"val_acc\"])\n",
        "    ax2.legend([\"train\", \"test\"], loc=\"upper right\")\n",
        "    ax2.set_xlabel(\"Epochs\")\n",
        "    ax2.set_ylabel(\"Accuracy\")\n",
        "    plt.show()\n"
      ]
    },
    {
      "cell_type": "markdown",
      "metadata": {
        "id": "dW8defSxU8ot"
      },
      "source": [
        "## Implement Feedforward Network (FFN) Module\n",
        "\n",
        "We will use this module in the baseline and the GNN models."
      ]
    },
    {
      "cell_type": "code",
      "execution_count": 17,
      "metadata": {
        "id": "s3DDmi9lU8ot"
      },
      "outputs": [],
      "source": [
        "def create_ffn(hidden_units, dropout_rate, name=None):\n",
        "    fnn_layers = []\n",
        "\n",
        "    for units in hidden_units:\n",
        "        fnn_layers.append(layers.BatchNormalization())\n",
        "        fnn_layers.append(layers.Dropout(dropout_rate))\n",
        "        fnn_layers.append(layers.Dense(units, activation=tf.nn.gelu))\n",
        "\n",
        "    return keras.Sequential(fnn_layers, name=name)\n"
      ]
    },
    {
      "cell_type": "markdown",
      "metadata": {
        "id": "icZZeZkRU8ou"
      },
      "source": [
        "## Build a Baseline Neural Network Model\n",
        "\n",
        "### Prepare the data for the baseline model"
      ]
    },
    {
      "cell_type": "code",
      "execution_count": 22,
      "metadata": {
        "id": "oAOvGjd8U8ou"
      },
      "outputs": [],
      "source": [
        "feature_names = set(papers.columns) - {\"paper_id\", \"subject\"}\n",
        "num_features = len(feature_names)\n",
        "num_classes = len(class_idx)\n",
        "\n",
        "# Create train and test features as a numpy array.\n",
        "X_train = train_data[feature_names].to_numpy()\n",
        "X_test = test_data[feature_names].to_numpy()\n",
        "# Create train and test targets as a numpy array.\n",
        "Y_train = train_data[\"subject\"]\n",
        "Y_test = test_data[\"subject\"]"
      ]
    },
    {
      "cell_type": "markdown",
      "metadata": {
        "id": "RTBhMXAwU8ou"
      },
      "source": [
        "### Implement a baseline classifier\n",
        "\n",
        "We add five FFN blocks with skip connections, so that we generate a baseline model with\n",
        "roughly the same number of parameters as the GNN models to be built later."
      ]
    },
    {
      "cell_type": "code",
      "execution_count": 49,
      "metadata": {
        "id": "cznyFbVCU8ov",
        "outputId": "43684e37-205a-4cc7-c7f7-9742988c3b1d",
        "colab": {
          "base_uri": "https://localhost:8080/"
        }
      },
      "outputs": [
        {
          "output_type": "stream",
          "name": "stdout",
          "text": [
            "Model: \"baseline\"\n",
            "__________________________________________________________________________________________________\n",
            " Layer (type)                   Output Shape         Param #     Connected to                     \n",
            "==================================================================================================\n",
            " input_features (InputLayer)    [(None, 10)]         0           []                               \n",
            "                                                                                                  \n",
            " ffn_block1 (Sequential)        (None, 32)           1576        ['input_features[0][0]']         \n",
            "                                                                                                  \n",
            " ffn_block2 (Sequential)        (None, 32)           2368        ['ffn_block1[0][0]']             \n",
            "                                                                                                  \n",
            " skip_connection2 (Add)         (None, 32)           0           ['ffn_block1[0][0]',             \n",
            "                                                                  'ffn_block2[0][0]']             \n",
            "                                                                                                  \n",
            " ffn_block3 (Sequential)        (None, 32)           2368        ['skip_connection2[0][0]']       \n",
            "                                                                                                  \n",
            " skip_connection3 (Add)         (None, 32)           0           ['skip_connection2[0][0]',       \n",
            "                                                                  'ffn_block3[0][0]']             \n",
            "                                                                                                  \n",
            " ffn_block4 (Sequential)        (None, 32)           2368        ['skip_connection3[0][0]']       \n",
            "                                                                                                  \n",
            " skip_connection4 (Add)         (None, 32)           0           ['skip_connection3[0][0]',       \n",
            "                                                                  'ffn_block4[0][0]']             \n",
            "                                                                                                  \n",
            " ffn_block5 (Sequential)        (None, 32)           2368        ['skip_connection4[0][0]']       \n",
            "                                                                                                  \n",
            " skip_connection5 (Add)         (None, 32)           0           ['skip_connection4[0][0]',       \n",
            "                                                                  'ffn_block5[0][0]']             \n",
            "                                                                                                  \n",
            " ffn_block6 (Sequential)        (None, 32)           2368        ['skip_connection5[0][0]']       \n",
            "                                                                                                  \n",
            " skip_connection6 (Add)         (None, 32)           0           ['skip_connection5[0][0]',       \n",
            "                                                                  'ffn_block6[0][0]']             \n",
            "                                                                                                  \n",
            " ffn_block7 (Sequential)        (None, 32)           2368        ['skip_connection6[0][0]']       \n",
            "                                                                                                  \n",
            " skip_connection7 (Add)         (None, 32)           0           ['skip_connection6[0][0]',       \n",
            "                                                                  'ffn_block7[0][0]']             \n",
            "                                                                                                  \n",
            " logits (Dense)                 (None, 7)            231         ['skip_connection7[0][0]']       \n",
            "                                                                                                  \n",
            "==================================================================================================\n",
            "Total params: 16,015\n",
            "Trainable params: 15,163\n",
            "Non-trainable params: 852\n",
            "__________________________________________________________________________________________________\n"
          ]
        }
      ],
      "source": [
        "def create_baseline_model(hidden_units, num_classes, dropout_rate=0.2):\n",
        "    inputs = layers.Input(shape=(num_features,), name=\"input_features\")\n",
        "    x = create_ffn(hidden_units, dropout_rate, name=f\"ffn_block1\")(inputs)\n",
        "    for block_idx in range(6):\n",
        "        # Create an FFN block.\n",
        "        x1 = create_ffn(hidden_units, dropout_rate, name=f\"ffn_block{block_idx + 2}\")(x)\n",
        "        # Add skip connection.\n",
        "        x = layers.Add(name=f\"skip_connection{block_idx + 2}\")([x, x1])\n",
        "    # Compute logits.\n",
        "    logits = layers.Dense(num_classes, name=\"logits\")(x)\n",
        "    # Create the model.\n",
        "    return keras.Model(inputs=inputs, outputs=logits, name=\"baseline\")"
      ]
    },
    {
      "cell_type": "markdown",
      "metadata": {
        "id": "O6Ca4KkiU8ov"
      },
      "source": [
        "### Train the baseline classifier"
      ]
    },
    {
      "cell_type": "code",
      "source": [
        "X_train.shape, Y_train.shape, x_train.shape, y_train.shape"
      ],
      "metadata": {
        "id": "nq3G8d1hraj5",
        "outputId": "f2427a49-4af6-499b-d6f1-93e5f9b73815",
        "colab": {
          "base_uri": "https://localhost:8080/"
        }
      },
      "execution_count": 25,
      "outputs": [
        {
          "output_type": "execute_result",
          "data": {
            "text/plain": [
              "((1352, 1433), (1352,), (1814, 10), (1814,))"
            ]
          },
          "metadata": {},
          "execution_count": 25
        }
      ]
    },
    {
      "cell_type": "code",
      "source": [
        ""
      ],
      "metadata": {
        "id": "sNXDhw8ur0Ni"
      },
      "execution_count": 32,
      "outputs": []
    },
    {
      "cell_type": "code",
      "execution_count": 37,
      "metadata": {
        "id": "F155_QZmU8ov",
        "outputId": "c5170976-288c-408e-b431-e43945bd3877",
        "colab": {
          "base_uri": "https://localhost:8080/"
        }
      },
      "outputs": [
        {
          "output_type": "stream",
          "name": "stdout",
          "text": [
            "Epoch 1/300\n",
            "7/7 [==============================] - 4s 73ms/step - loss: 3.3265 - acc: 0.1966 - val_loss: 2.1831 - val_acc: 0.1392\n",
            "Epoch 2/300\n",
            "7/7 [==============================] - 0s 10ms/step - loss: 2.5522 - acc: 0.1804 - val_loss: 2.0194 - val_acc: 0.1319\n",
            "Epoch 3/300\n",
            "7/7 [==============================] - 0s 10ms/step - loss: 2.2752 - acc: 0.2103 - val_loss: 1.9726 - val_acc: 0.1355\n",
            "Epoch 4/300\n",
            "7/7 [==============================] - 0s 10ms/step - loss: 2.3059 - acc: 0.1947 - val_loss: 1.9384 - val_acc: 0.1355\n",
            "Epoch 5/300\n",
            "7/7 [==============================] - 0s 12ms/step - loss: 2.2154 - acc: 0.2187 - val_loss: 1.9085 - val_acc: 0.1648\n",
            "Epoch 6/300\n",
            "7/7 [==============================] - 0s 11ms/step - loss: 2.2374 - acc: 0.2167 - val_loss: 1.8984 - val_acc: 0.2674\n",
            "Epoch 7/300\n",
            "7/7 [==============================] - 0s 15ms/step - loss: 2.1503 - acc: 0.2596 - val_loss: 1.8807 - val_acc: 0.2747\n",
            "Epoch 8/300\n",
            "7/7 [==============================] - 0s 11ms/step - loss: 2.1125 - acc: 0.2596 - val_loss: 1.8768 - val_acc: 0.2784\n",
            "Epoch 9/300\n",
            "7/7 [==============================] - 0s 10ms/step - loss: 2.1241 - acc: 0.2446 - val_loss: 1.8898 - val_acc: 0.2747\n",
            "Epoch 10/300\n",
            "7/7 [==============================] - 0s 10ms/step - loss: 2.0783 - acc: 0.2421 - val_loss: 1.8900 - val_acc: 0.2784\n",
            "Epoch 11/300\n",
            "7/7 [==============================] - 0s 11ms/step - loss: 2.0641 - acc: 0.2615 - val_loss: 1.8915 - val_acc: 0.2821\n",
            "Epoch 12/300\n",
            "7/7 [==============================] - 0s 13ms/step - loss: 2.0605 - acc: 0.2628 - val_loss: 1.9025 - val_acc: 0.2711\n",
            "Epoch 13/300\n",
            "7/7 [==============================] - 0s 10ms/step - loss: 2.0620 - acc: 0.2395 - val_loss: 1.8883 - val_acc: 0.2821\n",
            "Epoch 14/300\n",
            "7/7 [==============================] - 0s 10ms/step - loss: 2.0791 - acc: 0.2602 - val_loss: 1.8809 - val_acc: 0.2821\n",
            "Epoch 15/300\n",
            "7/7 [==============================] - 0s 10ms/step - loss: 2.0142 - acc: 0.2674 - val_loss: 1.8840 - val_acc: 0.2821\n",
            "Epoch 16/300\n",
            "7/7 [==============================] - 0s 10ms/step - loss: 2.0135 - acc: 0.2472 - val_loss: 1.8781 - val_acc: 0.2821\n",
            "Epoch 17/300\n",
            "7/7 [==============================] - 0s 13ms/step - loss: 2.0252 - acc: 0.2414 - val_loss: 1.8847 - val_acc: 0.2784\n",
            "Epoch 18/300\n",
            "7/7 [==============================] - 0s 10ms/step - loss: 1.9737 - acc: 0.2583 - val_loss: 1.8803 - val_acc: 0.2821\n",
            "Epoch 19/300\n",
            "7/7 [==============================] - 0s 10ms/step - loss: 2.0046 - acc: 0.2602 - val_loss: 1.8843 - val_acc: 0.2674\n",
            "Epoch 20/300\n",
            "7/7 [==============================] - 0s 14ms/step - loss: 1.9919 - acc: 0.2271 - val_loss: 1.8966 - val_acc: 0.2711\n",
            "Epoch 21/300\n",
            "7/7 [==============================] - 0s 12ms/step - loss: 1.9921 - acc: 0.2453 - val_loss: 1.8869 - val_acc: 0.2711\n",
            "Epoch 22/300\n",
            "7/7 [==============================] - 0s 10ms/step - loss: 2.0064 - acc: 0.2842 - val_loss: 1.8897 - val_acc: 0.2747\n",
            "Epoch 23/300\n",
            "7/7 [==============================] - 0s 10ms/step - loss: 1.9648 - acc: 0.2745 - val_loss: 1.9066 - val_acc: 0.2711\n",
            "Epoch 24/300\n",
            "7/7 [==============================] - 0s 13ms/step - loss: 1.9318 - acc: 0.2732 - val_loss: 1.8886 - val_acc: 0.2747\n",
            "Epoch 25/300\n",
            "7/7 [==============================] - 0s 10ms/step - loss: 1.9516 - acc: 0.2719 - val_loss: 1.8793 - val_acc: 0.2747\n",
            "Epoch 26/300\n",
            "7/7 [==============================] - 0s 10ms/step - loss: 1.9320 - acc: 0.2706 - val_loss: 1.8880 - val_acc: 0.2821\n",
            "Epoch 27/300\n",
            "7/7 [==============================] - 0s 11ms/step - loss: 1.9648 - acc: 0.2459 - val_loss: 1.8975 - val_acc: 0.2821\n",
            "Epoch 28/300\n",
            "7/7 [==============================] - 0s 10ms/step - loss: 1.9473 - acc: 0.2310 - val_loss: 1.8988 - val_acc: 0.2784\n",
            "Epoch 29/300\n",
            "7/7 [==============================] - 0s 10ms/step - loss: 1.9647 - acc: 0.2472 - val_loss: 1.8948 - val_acc: 0.2821\n",
            "Epoch 30/300\n",
            "7/7 [==============================] - 0s 10ms/step - loss: 1.9427 - acc: 0.2401 - val_loss: 1.9039 - val_acc: 0.2711\n",
            "Epoch 31/300\n",
            "7/7 [==============================] - 0s 11ms/step - loss: 1.9510 - acc: 0.2609 - val_loss: 1.9071 - val_acc: 0.2747\n",
            "Epoch 32/300\n",
            "7/7 [==============================] - 0s 10ms/step - loss: 1.9295 - acc: 0.2764 - val_loss: 1.8966 - val_acc: 0.2784\n",
            "Epoch 33/300\n",
            "7/7 [==============================] - 0s 10ms/step - loss: 1.9159 - acc: 0.2868 - val_loss: 1.8957 - val_acc: 0.2821\n",
            "Epoch 34/300\n",
            "7/7 [==============================] - 0s 10ms/step - loss: 1.9537 - acc: 0.2492 - val_loss: 1.8979 - val_acc: 0.2784\n",
            "Epoch 35/300\n",
            "7/7 [==============================] - 0s 12ms/step - loss: 1.9097 - acc: 0.2777 - val_loss: 1.8847 - val_acc: 0.2784\n",
            "Epoch 36/300\n",
            "7/7 [==============================] - 0s 11ms/step - loss: 1.9381 - acc: 0.2946 - val_loss: 1.8847 - val_acc: 0.2821\n",
            "Epoch 37/300\n",
            "7/7 [==============================] - 0s 10ms/step - loss: 1.9070 - acc: 0.2881 - val_loss: 1.8812 - val_acc: 0.2784\n",
            "Epoch 38/300\n",
            "7/7 [==============================] - 0s 10ms/step - loss: 1.8745 - acc: 0.2862 - val_loss: 1.8789 - val_acc: 0.2821\n",
            "Epoch 39/300\n",
            "7/7 [==============================] - 0s 10ms/step - loss: 1.8684 - acc: 0.2810 - val_loss: 1.8808 - val_acc: 0.2784\n",
            "Epoch 40/300\n",
            "7/7 [==============================] - 0s 10ms/step - loss: 1.8731 - acc: 0.2745 - val_loss: 1.8779 - val_acc: 0.2784\n",
            "Epoch 41/300\n",
            "7/7 [==============================] - 0s 10ms/step - loss: 1.8931 - acc: 0.2777 - val_loss: 1.8761 - val_acc: 0.2821\n",
            "Epoch 42/300\n",
            "7/7 [==============================] - 0s 13ms/step - loss: 1.8759 - acc: 0.2829 - val_loss: 1.8861 - val_acc: 0.2784\n",
            "Epoch 43/300\n",
            "7/7 [==============================] - 0s 11ms/step - loss: 1.9005 - acc: 0.2849 - val_loss: 1.8830 - val_acc: 0.2821\n",
            "Epoch 44/300\n",
            "7/7 [==============================] - 0s 10ms/step - loss: 1.8966 - acc: 0.2927 - val_loss: 1.8816 - val_acc: 0.2821\n",
            "Epoch 45/300\n",
            "7/7 [==============================] - 0s 11ms/step - loss: 1.8747 - acc: 0.2953 - val_loss: 1.8738 - val_acc: 0.2821\n",
            "Epoch 46/300\n",
            "7/7 [==============================] - 0s 11ms/step - loss: 1.8707 - acc: 0.2797 - val_loss: 1.8749 - val_acc: 0.2821\n",
            "Epoch 47/300\n",
            "7/7 [==============================] - 0s 10ms/step - loss: 1.8816 - acc: 0.2803 - val_loss: 1.8744 - val_acc: 0.2821\n",
            "Epoch 48/300\n",
            "7/7 [==============================] - 0s 11ms/step - loss: 1.8740 - acc: 0.2933 - val_loss: 1.8750 - val_acc: 0.2821\n",
            "Epoch 49/300\n",
            "7/7 [==============================] - 0s 10ms/step - loss: 1.8961 - acc: 0.2842 - val_loss: 1.8823 - val_acc: 0.2784\n",
            "Epoch 50/300\n",
            "7/7 [==============================] - 0s 11ms/step - loss: 1.8934 - acc: 0.2648 - val_loss: 1.8789 - val_acc: 0.2821\n",
            "Epoch 51/300\n",
            "7/7 [==============================] - 0s 10ms/step - loss: 1.8760 - acc: 0.2726 - val_loss: 1.8749 - val_acc: 0.2821\n",
            "Epoch 52/300\n",
            "7/7 [==============================] - 0s 10ms/step - loss: 1.8807 - acc: 0.2875 - val_loss: 1.8740 - val_acc: 0.2821\n",
            "Epoch 53/300\n",
            "7/7 [==============================] - 0s 10ms/step - loss: 1.9149 - acc: 0.2849 - val_loss: 1.8826 - val_acc: 0.2821\n",
            "Epoch 54/300\n",
            "7/7 [==============================] - 0s 10ms/step - loss: 1.8775 - acc: 0.2933 - val_loss: 1.8848 - val_acc: 0.2821\n",
            "Epoch 55/300\n",
            "7/7 [==============================] - 0s 10ms/step - loss: 1.8776 - acc: 0.2894 - val_loss: 1.8922 - val_acc: 0.2784\n",
            "Epoch 56/300\n",
            "7/7 [==============================] - 0s 10ms/step - loss: 1.9036 - acc: 0.2764 - val_loss: 1.9005 - val_acc: 0.2747\n",
            "Epoch 57/300\n",
            "7/7 [==============================] - 0s 10ms/step - loss: 1.8803 - acc: 0.2888 - val_loss: 1.8916 - val_acc: 0.2784\n",
            "Epoch 58/300\n",
            "7/7 [==============================] - 0s 10ms/step - loss: 1.8679 - acc: 0.2920 - val_loss: 1.8796 - val_acc: 0.2821\n",
            "Epoch 59/300\n",
            "7/7 [==============================] - 0s 10ms/step - loss: 1.8833 - acc: 0.2810 - val_loss: 1.8792 - val_acc: 0.2784\n",
            "Epoch 60/300\n",
            "7/7 [==============================] - 0s 10ms/step - loss: 1.8794 - acc: 0.2771 - val_loss: 1.8844 - val_acc: 0.2821\n",
            "Epoch 61/300\n",
            "7/7 [==============================] - 0s 15ms/step - loss: 1.8902 - acc: 0.2914 - val_loss: 1.8919 - val_acc: 0.2821\n"
          ]
        }
      ],
      "source": [
        "num_features = 10\n",
        "baseline_model = create_baseline_model(hidden_units, num_classes, dropout_rate)\n",
        "baseline_model.summary()\n",
        "history1 = run_experiment(baseline_model, x_train, y_train)"
      ]
    },
    {
      "cell_type": "markdown",
      "metadata": {
        "id": "b2hYo3L3U8ow"
      },
      "source": [
        "Let's plot the learning curves."
      ]
    },
    {
      "cell_type": "code",
      "execution_count": 39,
      "metadata": {
        "id": "WdGWlkffU8ow",
        "outputId": "a5a7d2ab-65f5-4b60-efa9-9dd3ff0e16e0",
        "colab": {
          "base_uri": "https://localhost:8080/",
          "height": 334
        }
      },
      "outputs": [
        {
          "output_type": "display_data",
          "data": {
            "image/png": "[encoded data removed]",
            "text/plain": [
              "<Figure size 1080x360 with 2 Axes>"
            ]
          },
          "metadata": {
            "needs_background": "light"
          }
        }
      ],
      "source": [
        "display_learning_curves(history1)"
      ]
    },
    {
      "cell_type": "markdown",
      "metadata": {
        "id": "_kzH73G-U8ow"
      },
      "source": [
        "Now we evaluate the baseline model on the test data split."
      ]
    },
    {
      "cell_type": "code",
      "execution_count": 40,
      "metadata": {
        "id": "lTLrIFKgU8ow",
        "outputId": "5f35f699-8995-42dc-cce6-fe1a890d8768",
        "colab": {
          "base_uri": "https://localhost:8080/"
        }
      },
      "outputs": [
        {
          "output_type": "stream",
          "name": "stdout",
          "text": [
            "Test accuracy: 31.77%\n"
          ]
        }
      ],
      "source": [
        "_, test_accuracy = baseline_model.evaluate(x=x_test, y=y_test, verbose=0)\n",
        "print(f\"Test accuracy: {round(test_accuracy * 100, 2)}%\")"
      ]
    },
    {
      "cell_type": "code",
      "source": [
        "num_features = 1433\n",
        "baseline_model = create_baseline_model(hidden_units, num_classes, dropout_rate)\n",
        "baseline_model.summary()\n",
        "history2 = run_experiment(baseline_model, X_train, Y_train)"
      ],
      "metadata": {
        "id": "nQjc0Isksu5D",
        "outputId": "9b1a064f-1471-42de-a5bd-f2406eb701d8",
        "colab": {
          "base_uri": "https://localhost:8080/"
        }
      },
      "execution_count": 50,
      "outputs": [
        {
          "output_type": "stream",
          "name": "stdout",
          "text": [
            "Model: \"baseline\"\n",
            "__________________________________________________________________________________________________\n",
            " Layer (type)                   Output Shape         Param #     Connected to                     \n",
            "==================================================================================================\n",
            " input_features (InputLayer)    [(None, 1433)]       0           []                               \n",
            "                                                                                                  \n",
            " ffn_block1 (Sequential)        (None, 32)           52804       ['input_features[0][0]']         \n",
            "                                                                                                  \n",
            " ffn_block2 (Sequential)        (None, 32)           2368        ['ffn_block1[0][0]']             \n",
            "                                                                                                  \n",
            " skip_connection2 (Add)         (None, 32)           0           ['ffn_block1[0][0]',             \n",
            "                                                                  'ffn_block2[0][0]']             \n",
            "                                                                                                  \n",
            " ffn_block3 (Sequential)        (None, 32)           2368        ['skip_connection2[0][0]']       \n",
            "                                                                                                  \n",
            " skip_connection3 (Add)         (None, 32)           0           ['skip_connection2[0][0]',       \n",
            "                                                                  'ffn_block3[0][0]']             \n",
            "                                                                                                  \n",
            " ffn_block4 (Sequential)        (None, 32)           2368        ['skip_connection3[0][0]']       \n",
            "                                                                                                  \n",
            " skip_connection4 (Add)         (None, 32)           0           ['skip_connection3[0][0]',       \n",
            "                                                                  'ffn_block4[0][0]']             \n",
            "                                                                                                  \n",
            " ffn_block5 (Sequential)        (None, 32)           2368        ['skip_connection4[0][0]']       \n",
            "                                                                                                  \n",
            " skip_connection5 (Add)         (None, 32)           0           ['skip_connection4[0][0]',       \n",
            "                                                                  'ffn_block5[0][0]']             \n",
            "                                                                                                  \n",
            " ffn_block6 (Sequential)        (None, 32)           2368        ['skip_connection5[0][0]']       \n",
            "                                                                                                  \n",
            " skip_connection6 (Add)         (None, 32)           0           ['skip_connection5[0][0]',       \n",
            "                                                                  'ffn_block6[0][0]']             \n",
            "                                                                                                  \n",
            " ffn_block7 (Sequential)        (None, 32)           2368        ['skip_connection6[0][0]']       \n",
            "                                                                                                  \n",
            " skip_connection7 (Add)         (None, 32)           0           ['skip_connection6[0][0]',       \n",
            "                                                                  'ffn_block7[0][0]']             \n",
            "                                                                                                  \n",
            " logits (Dense)                 (None, 7)            231         ['skip_connection7[0][0]']       \n",
            "                                                                                                  \n",
            "==================================================================================================\n",
            "Total params: 67,243\n",
            "Trainable params: 63,545\n",
            "Non-trainable params: 3,698\n",
            "__________________________________________________________________________________________________\n",
            "Epoch 1/300\n",
            "5/5 [==============================] - 5s 145ms/step - loss: 3.8451 - acc: 0.1871 - val_loss: 2.0104 - val_acc: 0.1429\n",
            "Epoch 2/300\n",
            "5/5 [==============================] - 0s 23ms/step - loss: 2.8623 - acc: 0.2054 - val_loss: 1.9445 - val_acc: 0.1429\n",
            "Epoch 3/300\n",
            "5/5 [==============================] - 0s 26ms/step - loss: 2.3998 - acc: 0.2715 - val_loss: 1.9358 - val_acc: 0.2562\n",
            "Epoch 4/300\n",
            "5/5 [==============================] - 0s 25ms/step - loss: 2.2930 - acc: 0.2385 - val_loss: 1.9267 - val_acc: 0.2217\n",
            "Epoch 5/300\n",
            "5/5 [==============================] - 0s 28ms/step - loss: 2.0706 - acc: 0.2759 - val_loss: 1.9265 - val_acc: 0.1478\n",
            "Epoch 6/300\n",
            "5/5 [==============================] - 0s 24ms/step - loss: 2.0323 - acc: 0.3072 - val_loss: 1.9288 - val_acc: 0.1675\n",
            "Epoch 7/300\n",
            "5/5 [==============================] - 0s 24ms/step - loss: 1.9264 - acc: 0.3124 - val_loss: 1.8870 - val_acc: 0.1773\n",
            "Epoch 8/300\n",
            "5/5 [==============================] - 0s 24ms/step - loss: 1.8358 - acc: 0.3429 - val_loss: 1.8576 - val_acc: 0.2118\n",
            "Epoch 9/300\n",
            "5/5 [==============================] - 0s 24ms/step - loss: 1.7511 - acc: 0.3838 - val_loss: 1.8390 - val_acc: 0.2315\n",
            "Epoch 10/300\n",
            "5/5 [==============================] - 0s 24ms/step - loss: 1.7005 - acc: 0.3856 - val_loss: 1.8079 - val_acc: 0.2562\n",
            "Epoch 11/300\n",
            "5/5 [==============================] - 0s 26ms/step - loss: 1.6101 - acc: 0.4038 - val_loss: 1.7648 - val_acc: 0.2759\n",
            "Epoch 12/300\n",
            "5/5 [==============================] - 0s 25ms/step - loss: 1.5511 - acc: 0.4500 - val_loss: 1.6967 - val_acc: 0.3695\n",
            "Epoch 13/300\n",
            "5/5 [==============================] - 0s 28ms/step - loss: 1.4819 - acc: 0.4621 - val_loss: 1.5998 - val_acc: 0.4729\n",
            "Epoch 14/300\n",
            "5/5 [==============================] - 0s 24ms/step - loss: 1.4161 - acc: 0.5074 - val_loss: 1.5322 - val_acc: 0.4483\n",
            "Epoch 15/300\n",
            "5/5 [==============================] - 0s 26ms/step - loss: 1.3521 - acc: 0.5057 - val_loss: 1.4836 - val_acc: 0.4581\n",
            "Epoch 16/300\n",
            "5/5 [==============================] - 0s 24ms/step - loss: 1.2588 - acc: 0.5666 - val_loss: 1.4570 - val_acc: 0.4631\n",
            "Epoch 17/300\n",
            "5/5 [==============================] - 0s 24ms/step - loss: 1.2042 - acc: 0.5753 - val_loss: 1.5347 - val_acc: 0.3842\n",
            "Epoch 18/300\n",
            "5/5 [==============================] - 0s 24ms/step - loss: 1.1748 - acc: 0.5857 - val_loss: 1.7624 - val_acc: 0.3547\n",
            "Epoch 19/300\n",
            "5/5 [==============================] - 0s 24ms/step - loss: 1.1585 - acc: 0.6049 - val_loss: 1.8839 - val_acc: 0.3399\n",
            "Epoch 20/300\n",
            "5/5 [==============================] - 0s 26ms/step - loss: 1.0249 - acc: 0.6466 - val_loss: 1.7440 - val_acc: 0.3793\n",
            "Epoch 21/300\n",
            "5/5 [==============================] - 0s 27ms/step - loss: 0.9967 - acc: 0.6580 - val_loss: 1.6577 - val_acc: 0.3941\n",
            "Epoch 22/300\n",
            "5/5 [==============================] - 0s 25ms/step - loss: 0.9501 - acc: 0.6745 - val_loss: 1.5435 - val_acc: 0.4138\n",
            "Epoch 23/300\n",
            "5/5 [==============================] - 0s 24ms/step - loss: 0.9553 - acc: 0.6858 - val_loss: 1.4657 - val_acc: 0.4433\n",
            "Epoch 24/300\n",
            "5/5 [==============================] - 0s 23ms/step - loss: 0.8747 - acc: 0.6997 - val_loss: 1.4570 - val_acc: 0.4532\n",
            "Epoch 25/300\n",
            "5/5 [==============================] - 0s 24ms/step - loss: 0.8109 - acc: 0.7285 - val_loss: 1.4563 - val_acc: 0.4532\n",
            "Epoch 26/300\n",
            "5/5 [==============================] - 0s 25ms/step - loss: 0.8249 - acc: 0.7119 - val_loss: 1.3203 - val_acc: 0.5271\n",
            "Epoch 27/300\n",
            "5/5 [==============================] - 0s 26ms/step - loss: 0.7828 - acc: 0.7337 - val_loss: 1.2348 - val_acc: 0.5813\n",
            "Epoch 28/300\n",
            "5/5 [==============================] - 0s 26ms/step - loss: 0.7859 - acc: 0.7276 - val_loss: 1.1724 - val_acc: 0.6010\n",
            "Epoch 29/300\n",
            "5/5 [==============================] - 0s 30ms/step - loss: 0.7797 - acc: 0.7250 - val_loss: 1.0662 - val_acc: 0.6305\n",
            "Epoch 30/300\n",
            "5/5 [==============================] - 0s 27ms/step - loss: 0.7118 - acc: 0.7659 - val_loss: 1.0256 - val_acc: 0.6502\n",
            "Epoch 31/300\n",
            "5/5 [==============================] - 0s 24ms/step - loss: 0.6460 - acc: 0.7868 - val_loss: 1.0837 - val_acc: 0.6108\n",
            "Epoch 32/300\n",
            "5/5 [==============================] - 0s 24ms/step - loss: 0.7051 - acc: 0.7763 - val_loss: 1.1454 - val_acc: 0.5911\n",
            "Epoch 33/300\n",
            "5/5 [==============================] - 0s 23ms/step - loss: 0.6649 - acc: 0.7702 - val_loss: 1.0975 - val_acc: 0.6502\n",
            "Epoch 34/300\n",
            "5/5 [==============================] - 0s 26ms/step - loss: 0.6901 - acc: 0.7615 - val_loss: 1.0949 - val_acc: 0.6453\n",
            "Epoch 35/300\n",
            "5/5 [==============================] - 0s 25ms/step - loss: 0.7035 - acc: 0.7607 - val_loss: 1.0671 - val_acc: 0.6502\n",
            "Epoch 36/300\n",
            "5/5 [==============================] - 0s 24ms/step - loss: 0.6608 - acc: 0.7772 - val_loss: 1.1261 - val_acc: 0.6207\n",
            "Epoch 37/300\n",
            "5/5 [==============================] - 0s 25ms/step - loss: 0.6202 - acc: 0.7833 - val_loss: 1.1131 - val_acc: 0.6305\n",
            "Epoch 38/300\n",
            "5/5 [==============================] - 0s 24ms/step - loss: 0.5950 - acc: 0.7981 - val_loss: 1.1029 - val_acc: 0.6453\n",
            "Epoch 39/300\n",
            "5/5 [==============================] - 0s 26ms/step - loss: 0.5872 - acc: 0.8016 - val_loss: 1.0484 - val_acc: 0.6700\n",
            "Epoch 40/300\n",
            "5/5 [==============================] - 0s 26ms/step - loss: 0.5940 - acc: 0.7990 - val_loss: 0.9668 - val_acc: 0.6749\n",
            "Epoch 41/300\n",
            "5/5 [==============================] - 0s 27ms/step - loss: 0.5541 - acc: 0.8050 - val_loss: 0.9362 - val_acc: 0.6798\n",
            "Epoch 42/300\n",
            "5/5 [==============================] - 0s 25ms/step - loss: 0.5887 - acc: 0.7963 - val_loss: 0.9591 - val_acc: 0.6798\n",
            "Epoch 43/300\n",
            "5/5 [==============================] - 0s 24ms/step - loss: 0.5359 - acc: 0.7990 - val_loss: 0.9815 - val_acc: 0.6798\n",
            "Epoch 44/300\n",
            "5/5 [==============================] - 0s 26ms/step - loss: 0.5520 - acc: 0.8050 - val_loss: 0.9730 - val_acc: 0.6897\n",
            "Epoch 45/300\n",
            "5/5 [==============================] - 0s 28ms/step - loss: 0.5270 - acc: 0.8172 - val_loss: 0.9486 - val_acc: 0.6897\n",
            "Epoch 46/300\n",
            "5/5 [==============================] - 0s 26ms/step - loss: 0.5414 - acc: 0.8207 - val_loss: 0.8877 - val_acc: 0.7192\n",
            "Epoch 47/300\n",
            "5/5 [==============================] - 0s 25ms/step - loss: 0.5251 - acc: 0.8225 - val_loss: 0.8413 - val_acc: 0.6995\n",
            "Epoch 48/300\n",
            "5/5 [==============================] - 0s 27ms/step - loss: 0.5063 - acc: 0.8155 - val_loss: 0.8196 - val_acc: 0.7241\n",
            "Epoch 49/300\n",
            "5/5 [==============================] - 0s 24ms/step - loss: 0.5023 - acc: 0.8233 - val_loss: 0.8201 - val_acc: 0.7044\n",
            "Epoch 50/300\n",
            "5/5 [==============================] - 0s 24ms/step - loss: 0.4883 - acc: 0.8329 - val_loss: 0.8264 - val_acc: 0.7044\n",
            "Epoch 51/300\n",
            "5/5 [==============================] - 0s 28ms/step - loss: 0.4808 - acc: 0.8251 - val_loss: 0.8294 - val_acc: 0.7094\n",
            "Epoch 52/300\n",
            "5/5 [==============================] - 0s 26ms/step - loss: 0.5490 - acc: 0.8146 - val_loss: 0.8085 - val_acc: 0.7291\n",
            "Epoch 53/300\n",
            "5/5 [==============================] - 0s 26ms/step - loss: 0.4805 - acc: 0.8451 - val_loss: 0.8221 - val_acc: 0.7389\n",
            "Epoch 54/300\n",
            "5/5 [==============================] - 0s 24ms/step - loss: 0.4643 - acc: 0.8442 - val_loss: 0.8161 - val_acc: 0.7241\n",
            "Epoch 55/300\n",
            "5/5 [==============================] - 0s 24ms/step - loss: 0.5175 - acc: 0.8138 - val_loss: 0.8245 - val_acc: 0.7241\n",
            "Epoch 56/300\n",
            "5/5 [==============================] - 0s 24ms/step - loss: 0.5279 - acc: 0.8164 - val_loss: 0.8334 - val_acc: 0.7192\n",
            "Epoch 57/300\n",
            "5/5 [==============================] - 0s 24ms/step - loss: 0.4721 - acc: 0.8329 - val_loss: 0.8960 - val_acc: 0.6798\n",
            "Epoch 58/300\n",
            "5/5 [==============================] - 0s 24ms/step - loss: 0.4865 - acc: 0.8329 - val_loss: 0.8618 - val_acc: 0.6798\n",
            "Epoch 59/300\n",
            "5/5 [==============================] - 0s 24ms/step - loss: 0.5145 - acc: 0.8329 - val_loss: 0.8008 - val_acc: 0.7094\n",
            "Epoch 60/300\n",
            "5/5 [==============================] - 0s 25ms/step - loss: 0.4797 - acc: 0.8416 - val_loss: 0.7903 - val_acc: 0.7340\n",
            "Epoch 61/300\n",
            "5/5 [==============================] - 0s 27ms/step - loss: 0.4640 - acc: 0.8425 - val_loss: 0.7976 - val_acc: 0.7143\n",
            "Epoch 62/300\n",
            "5/5 [==============================] - 0s 29ms/step - loss: 0.4693 - acc: 0.8355 - val_loss: 0.8102 - val_acc: 0.7192\n",
            "Epoch 63/300\n",
            "5/5 [==============================] - 0s 25ms/step - loss: 0.4643 - acc: 0.8364 - val_loss: 0.8023 - val_acc: 0.7291\n",
            "Epoch 64/300\n",
            "5/5 [==============================] - 0s 26ms/step - loss: 0.4714 - acc: 0.8268 - val_loss: 0.8457 - val_acc: 0.7192\n",
            "Epoch 65/300\n",
            "5/5 [==============================] - 0s 27ms/step - loss: 0.3885 - acc: 0.8686 - val_loss: 0.8961 - val_acc: 0.7241\n",
            "Epoch 66/300\n",
            "5/5 [==============================] - 0s 24ms/step - loss: 0.4677 - acc: 0.8364 - val_loss: 0.8740 - val_acc: 0.7241\n",
            "Epoch 67/300\n",
            "5/5 [==============================] - 0s 23ms/step - loss: 0.4135 - acc: 0.8486 - val_loss: 0.8481 - val_acc: 0.7291\n",
            "Epoch 68/300\n",
            "5/5 [==============================] - 0s 27ms/step - loss: 0.4501 - acc: 0.8416 - val_loss: 0.8382 - val_acc: 0.7192\n",
            "Epoch 69/300\n",
            "5/5 [==============================] - 0s 24ms/step - loss: 0.4277 - acc: 0.8547 - val_loss: 0.8481 - val_acc: 0.7094\n",
            "Epoch 70/300\n",
            "5/5 [==============================] - 0s 23ms/step - loss: 0.4586 - acc: 0.8381 - val_loss: 0.8548 - val_acc: 0.7143\n",
            "Epoch 71/300\n",
            "5/5 [==============================] - 0s 25ms/step - loss: 0.4052 - acc: 0.8547 - val_loss: 0.8760 - val_acc: 0.7438\n",
            "Epoch 72/300\n",
            "5/5 [==============================] - 0s 24ms/step - loss: 0.4296 - acc: 0.8425 - val_loss: 0.9085 - val_acc: 0.7241\n",
            "Epoch 73/300\n",
            "5/5 [==============================] - 0s 25ms/step - loss: 0.4238 - acc: 0.8512 - val_loss: 0.8959 - val_acc: 0.7291\n",
            "Epoch 74/300\n",
            "5/5 [==============================] - 0s 24ms/step - loss: 0.3978 - acc: 0.8520 - val_loss: 0.9286 - val_acc: 0.7192\n",
            "Epoch 75/300\n",
            "5/5 [==============================] - 0s 25ms/step - loss: 0.4150 - acc: 0.8607 - val_loss: 0.9352 - val_acc: 0.7143\n",
            "Epoch 76/300\n",
            "5/5 [==============================] - 0s 25ms/step - loss: 0.4433 - acc: 0.8564 - val_loss: 0.9679 - val_acc: 0.6995\n",
            "Epoch 77/300\n",
            "5/5 [==============================] - 0s 24ms/step - loss: 0.4112 - acc: 0.8634 - val_loss: 0.9786 - val_acc: 0.6847\n",
            "Epoch 78/300\n",
            "5/5 [==============================] - 0s 24ms/step - loss: 0.4076 - acc: 0.8607 - val_loss: 0.9661 - val_acc: 0.6995\n",
            "Epoch 79/300\n",
            "5/5 [==============================] - 0s 25ms/step - loss: 0.3753 - acc: 0.8695 - val_loss: 0.9519 - val_acc: 0.7143\n",
            "Epoch 80/300\n",
            "5/5 [==============================] - 0s 24ms/step - loss: 0.4396 - acc: 0.8451 - val_loss: 0.9299 - val_acc: 0.7143\n",
            "Epoch 81/300\n",
            "5/5 [==============================] - 0s 25ms/step - loss: 0.3965 - acc: 0.8547 - val_loss: 0.9161 - val_acc: 0.7094\n",
            "Epoch 82/300\n",
            "5/5 [==============================] - 0s 25ms/step - loss: 0.4012 - acc: 0.8703 - val_loss: 0.9097 - val_acc: 0.7044\n",
            "Epoch 83/300\n",
            "5/5 [==============================] - 0s 25ms/step - loss: 0.4034 - acc: 0.8616 - val_loss: 0.9464 - val_acc: 0.6995\n",
            "Epoch 84/300\n",
            "5/5 [==============================] - 0s 24ms/step - loss: 0.4127 - acc: 0.8625 - val_loss: 0.9808 - val_acc: 0.7094\n",
            "Epoch 85/300\n",
            "5/5 [==============================] - 0s 26ms/step - loss: 0.4206 - acc: 0.8547 - val_loss: 0.9754 - val_acc: 0.7044\n",
            "Epoch 86/300\n",
            "5/5 [==============================] - 0s 25ms/step - loss: 0.3972 - acc: 0.8703 - val_loss: 0.9361 - val_acc: 0.7291\n",
            "Epoch 87/300\n",
            "5/5 [==============================] - 0s 25ms/step - loss: 0.3980 - acc: 0.8590 - val_loss: 0.9281 - val_acc: 0.7291\n",
            "Epoch 88/300\n",
            "5/5 [==============================] - 0s 24ms/step - loss: 0.4225 - acc: 0.8590 - val_loss: 0.9421 - val_acc: 0.7241\n",
            "Epoch 89/300\n",
            "5/5 [==============================] - 0s 25ms/step - loss: 0.4231 - acc: 0.8477 - val_loss: 0.9466 - val_acc: 0.7291\n",
            "Epoch 90/300\n",
            "5/5 [==============================] - 0s 25ms/step - loss: 0.4146 - acc: 0.8686 - val_loss: 0.9504 - val_acc: 0.7192\n",
            "Epoch 91/300\n",
            "5/5 [==============================] - 0s 23ms/step - loss: 0.4093 - acc: 0.8599 - val_loss: 0.9641 - val_acc: 0.7241\n",
            "Epoch 92/300\n",
            "5/5 [==============================] - 0s 25ms/step - loss: 0.4159 - acc: 0.8494 - val_loss: 0.9636 - val_acc: 0.7044\n",
            "Epoch 93/300\n",
            "5/5 [==============================] - 0s 28ms/step - loss: 0.4230 - acc: 0.8433 - val_loss: 0.9632 - val_acc: 0.7044\n",
            "Epoch 94/300\n",
            "5/5 [==============================] - 0s 25ms/step - loss: 0.3835 - acc: 0.8677 - val_loss: 0.9761 - val_acc: 0.7044\n",
            "Epoch 95/300\n",
            "5/5 [==============================] - 0s 24ms/step - loss: 0.3908 - acc: 0.8738 - val_loss: 0.9676 - val_acc: 0.7192\n",
            "Epoch 96/300\n",
            "5/5 [==============================] - 0s 24ms/step - loss: 0.4051 - acc: 0.8581 - val_loss: 0.9701 - val_acc: 0.7143\n",
            "Epoch 97/300\n",
            "5/5 [==============================] - 0s 25ms/step - loss: 0.4066 - acc: 0.8607 - val_loss: 1.0012 - val_acc: 0.7044\n",
            "Epoch 98/300\n",
            "5/5 [==============================] - 0s 25ms/step - loss: 0.4159 - acc: 0.8607 - val_loss: 1.0301 - val_acc: 0.7094\n",
            "Epoch 99/300\n",
            "5/5 [==============================] - 0s 25ms/step - loss: 0.3810 - acc: 0.8660 - val_loss: 1.0296 - val_acc: 0.7094\n",
            "Epoch 100/300\n",
            "5/5 [==============================] - 0s 27ms/step - loss: 0.4048 - acc: 0.8486 - val_loss: 1.0189 - val_acc: 0.6995\n",
            "Epoch 101/300\n",
            "5/5 [==============================] - 0s 25ms/step - loss: 0.3573 - acc: 0.8816 - val_loss: 1.0216 - val_acc: 0.7044\n",
            "Epoch 102/300\n",
            "5/5 [==============================] - 0s 24ms/step - loss: 0.3820 - acc: 0.8625 - val_loss: 1.0393 - val_acc: 0.6897\n",
            "Epoch 103/300\n",
            "5/5 [==============================] - 0s 24ms/step - loss: 0.3895 - acc: 0.8686 - val_loss: 1.0494 - val_acc: 0.6798\n",
            "Epoch 104/300\n",
            "5/5 [==============================] - 0s 25ms/step - loss: 0.3996 - acc: 0.8616 - val_loss: 1.0624 - val_acc: 0.6798\n",
            "Epoch 105/300\n",
            "5/5 [==============================] - 0s 28ms/step - loss: 0.3721 - acc: 0.8660 - val_loss: 1.0684 - val_acc: 0.6749\n",
            "Epoch 106/300\n",
            "5/5 [==============================] - 0s 25ms/step - loss: 0.3643 - acc: 0.8869 - val_loss: 1.0864 - val_acc: 0.6650\n",
            "Epoch 107/300\n",
            "5/5 [==============================] - 0s 24ms/step - loss: 0.3937 - acc: 0.8634 - val_loss: 1.0899 - val_acc: 0.6749\n",
            "Epoch 108/300\n",
            "5/5 [==============================] - 0s 26ms/step - loss: 0.4137 - acc: 0.8547 - val_loss: 1.0750 - val_acc: 0.6749\n",
            "Epoch 109/300\n",
            "5/5 [==============================] - 0s 27ms/step - loss: 0.3635 - acc: 0.8790 - val_loss: 1.0804 - val_acc: 0.6650\n",
            "Epoch 110/300\n",
            "5/5 [==============================] - 0s 25ms/step - loss: 0.3511 - acc: 0.8773 - val_loss: 1.0971 - val_acc: 0.6552\n",
            "Epoch 111/300\n",
            "5/5 [==============================] - 0s 26ms/step - loss: 0.3590 - acc: 0.8773 - val_loss: 1.1196 - val_acc: 0.6847\n",
            "Epoch 112/300\n",
            "5/5 [==============================] - 0s 27ms/step - loss: 0.3658 - acc: 0.8782 - val_loss: 1.1516 - val_acc: 0.6847\n",
            "Epoch 113/300\n",
            "5/5 [==============================] - 0s 25ms/step - loss: 0.4405 - acc: 0.8364 - val_loss: 1.1842 - val_acc: 0.6798\n",
            "Epoch 114/300\n",
            "5/5 [==============================] - 0s 24ms/step - loss: 0.3393 - acc: 0.8703 - val_loss: 1.1711 - val_acc: 0.6552\n",
            "Epoch 115/300\n",
            "5/5 [==============================] - 0s 26ms/step - loss: 0.3657 - acc: 0.8668 - val_loss: 1.1696 - val_acc: 0.6650\n",
            "Epoch 116/300\n",
            "5/5 [==============================] - 0s 24ms/step - loss: 0.3533 - acc: 0.8712 - val_loss: 1.1760 - val_acc: 0.6601\n",
            "Epoch 117/300\n",
            "5/5 [==============================] - 0s 25ms/step - loss: 0.3779 - acc: 0.8634 - val_loss: 1.1584 - val_acc: 0.6650\n",
            "Epoch 118/300\n",
            "5/5 [==============================] - 0s 26ms/step - loss: 0.3631 - acc: 0.8660 - val_loss: 1.1717 - val_acc: 0.6798\n",
            "Epoch 119/300\n",
            "5/5 [==============================] - 0s 25ms/step - loss: 0.3877 - acc: 0.8660 - val_loss: 1.1973 - val_acc: 0.6749\n",
            "Epoch 120/300\n",
            "5/5 [==============================] - 0s 25ms/step - loss: 0.3502 - acc: 0.8782 - val_loss: 1.2384 - val_acc: 0.6749\n",
            "Epoch 121/300\n",
            "5/5 [==============================] - 0s 27ms/step - loss: 0.3392 - acc: 0.8816 - val_loss: 1.2497 - val_acc: 0.6847\n"
          ]
        }
      ]
    },
    {
      "cell_type": "code",
      "source": [
        "display_learning_curves(history2)"
      ],
      "metadata": {
        "id": "CMSdNKoes93R",
        "outputId": "73c782b0-3bef-4991-a7ec-7638de7f93e7",
        "colab": {
          "base_uri": "https://localhost:8080/",
          "height": 335
        }
      },
      "execution_count": 51,
      "outputs": [
        {
          "output_type": "display_data",
          "data": {
            "image/png": "[encoded data removed]",
            "text/plain": [
              "<Figure size 1080x360 with 2 Axes>"
            ]
          },
          "metadata": {
            "needs_background": "light"
          }
        }
      ]
    },
    {
      "cell_type": "code",
      "source": [
        "_, test_accuracy = baseline_model.evaluate(x=X_test, y=Y_test, verbose=0)\n",
        "print(f\"Test accuracy: {round(test_accuracy * 100, 2)}%\")"
      ],
      "metadata": {
        "id": "FbIpwYl_tDpB",
        "outputId": "bee821d6-24b1-4826-87ca-8481a8f5a4ef",
        "colab": {
          "base_uri": "https://localhost:8080/"
        }
      },
      "execution_count": 52,
      "outputs": [
        {
          "output_type": "stream",
          "name": "stdout",
          "text": [
            "Test accuracy: 74.34%\n"
          ]
        }
      ]
    },
    {
      "cell_type": "code",
      "source": [
        "num_features = 1443\n",
        "baseline_model = create_baseline_model(hidden_units, num_classes, dropout_rate)\n",
        "baseline_model.summary()\n",
        "history3 = run_experiment(baseline_model, x_train_all, y_train_all)"
      ],
      "metadata": {
        "id": "7G_z1KExtOr1",
        "outputId": "7621c5e5-5272-44b5-a4b8-47f288d4d2f2",
        "colab": {
          "base_uri": "https://localhost:8080/"
        }
      },
      "execution_count": 46,
      "outputs": [
        {
          "output_type": "stream",
          "name": "stdout",
          "text": [
            "Model: \"baseline\"\n",
            "__________________________________________________________________________________________________\n",
            " Layer (type)                   Output Shape         Param #     Connected to                     \n",
            "==================================================================================================\n",
            " input_features (InputLayer)    [(None, 1443)]       0           []                               \n",
            "                                                                                                  \n",
            " ffn_block1 (Sequential)        (None, 32)           53164       ['input_features[0][0]']         \n",
            "                                                                                                  \n",
            " ffn_block2 (Sequential)        (None, 32)           2368        ['ffn_block1[0][0]']             \n",
            "                                                                                                  \n",
            " skip_connection2 (Add)         (None, 32)           0           ['ffn_block1[0][0]',             \n",
            "                                                                  'ffn_block2[0][0]']             \n",
            "                                                                                                  \n",
            " ffn_block3 (Sequential)        (None, 32)           2368        ['skip_connection2[0][0]']       \n",
            "                                                                                                  \n",
            " skip_connection3 (Add)         (None, 32)           0           ['skip_connection2[0][0]',       \n",
            "                                                                  'ffn_block3[0][0]']             \n",
            "                                                                                                  \n",
            " ffn_block4 (Sequential)        (None, 32)           2368        ['skip_connection3[0][0]']       \n",
            "                                                                                                  \n",
            " skip_connection4 (Add)         (None, 32)           0           ['skip_connection3[0][0]',       \n",
            "                                                                  'ffn_block4[0][0]']             \n",
            "                                                                                                  \n",
            " ffn_block5 (Sequential)        (None, 32)           2368        ['skip_connection4[0][0]']       \n",
            "                                                                                                  \n",
            " skip_connection5 (Add)         (None, 32)           0           ['skip_connection4[0][0]',       \n",
            "                                                                  'ffn_block5[0][0]']             \n",
            "                                                                                                  \n",
            " logits (Dense)                 (None, 7)            231         ['skip_connection5[0][0]']       \n",
            "                                                                                                  \n",
            "==================================================================================================\n",
            "Total params: 62,867\n",
            "Trainable params: 59,405\n",
            "Non-trainable params: 3,462\n",
            "__________________________________________________________________________________________________\n",
            "Epoch 1/300\n",
            "7/7 [==============================] - 4s 126ms/step - loss: 3.7249 - acc: 0.1836 - val_loss: 1.9295 - val_acc: 0.1941\n",
            "Epoch 2/300\n",
            "7/7 [==============================] - 0s 19ms/step - loss: 2.8403 - acc: 0.1979 - val_loss: 1.9015 - val_acc: 0.2491\n",
            "Epoch 3/300\n",
            "7/7 [==============================] - 0s 21ms/step - loss: 2.4846 - acc: 0.2583 - val_loss: 1.8769 - val_acc: 0.2747\n",
            "Epoch 4/300\n",
            "7/7 [==============================] - 0s 18ms/step - loss: 2.2863 - acc: 0.2609 - val_loss: 1.8746 - val_acc: 0.2234\n",
            "Epoch 5/300\n",
            "7/7 [==============================] - 0s 18ms/step - loss: 2.1885 - acc: 0.2524 - val_loss: 1.8535 - val_acc: 0.2857\n",
            "Epoch 6/300\n",
            "7/7 [==============================] - 0s 18ms/step - loss: 2.0522 - acc: 0.2920 - val_loss: 1.8374 - val_acc: 0.3223\n",
            "Epoch 7/300\n",
            "7/7 [==============================] - 0s 18ms/step - loss: 2.0138 - acc: 0.2836 - val_loss: 1.8320 - val_acc: 0.3810\n",
            "Epoch 8/300\n",
            "7/7 [==============================] - 0s 18ms/step - loss: 1.9310 - acc: 0.3115 - val_loss: 1.8255 - val_acc: 0.3700\n",
            "Epoch 9/300\n",
            "7/7 [==============================] - 0s 18ms/step - loss: 1.9307 - acc: 0.3186 - val_loss: 1.7797 - val_acc: 0.4469\n",
            "Epoch 10/300\n",
            "7/7 [==============================] - 0s 18ms/step - loss: 1.8518 - acc: 0.3095 - val_loss: 1.7628 - val_acc: 0.4396\n",
            "Epoch 11/300\n",
            "7/7 [==============================] - 0s 18ms/step - loss: 1.8243 - acc: 0.3303 - val_loss: 1.7561 - val_acc: 0.4359\n",
            "Epoch 12/300\n",
            "7/7 [==============================] - 0s 19ms/step - loss: 1.7690 - acc: 0.3426 - val_loss: 1.7434 - val_acc: 0.4432\n",
            "Epoch 13/300\n",
            "7/7 [==============================] - 0s 18ms/step - loss: 1.7596 - acc: 0.3504 - val_loss: 1.7377 - val_acc: 0.4689\n",
            "Epoch 14/300\n",
            "7/7 [==============================] - 0s 17ms/step - loss: 1.7783 - acc: 0.3128 - val_loss: 1.7290 - val_acc: 0.4542\n",
            "Epoch 15/300\n",
            "7/7 [==============================] - 0s 17ms/step - loss: 1.6800 - acc: 0.3712 - val_loss: 1.7210 - val_acc: 0.4579\n",
            "Epoch 16/300\n",
            "7/7 [==============================] - 0s 20ms/step - loss: 1.7015 - acc: 0.3751 - val_loss: 1.7151 - val_acc: 0.5128\n",
            "Epoch 17/300\n",
            "7/7 [==============================] - 0s 17ms/step - loss: 1.6306 - acc: 0.4127 - val_loss: 1.6919 - val_acc: 0.4799\n",
            "Epoch 18/300\n",
            "7/7 [==============================] - 0s 17ms/step - loss: 1.6179 - acc: 0.4075 - val_loss: 1.6834 - val_acc: 0.4725\n",
            "Epoch 19/300\n",
            "7/7 [==============================] - 0s 17ms/step - loss: 1.6005 - acc: 0.4101 - val_loss: 1.6779 - val_acc: 0.5238\n",
            "Epoch 20/300\n",
            "7/7 [==============================] - 0s 17ms/step - loss: 1.5757 - acc: 0.4315 - val_loss: 1.6695 - val_acc: 0.4835\n",
            "Epoch 21/300\n",
            "7/7 [==============================] - 0s 16ms/step - loss: 1.5384 - acc: 0.4400 - val_loss: 1.6478 - val_acc: 0.5128\n",
            "Epoch 22/300\n",
            "7/7 [==============================] - 0s 19ms/step - loss: 1.5534 - acc: 0.4289 - val_loss: 1.6234 - val_acc: 0.5495\n",
            "Epoch 23/300\n",
            "7/7 [==============================] - 0s 17ms/step - loss: 1.5150 - acc: 0.4380 - val_loss: 1.5882 - val_acc: 0.5495\n",
            "Epoch 24/300\n",
            "7/7 [==============================] - 0s 18ms/step - loss: 1.5162 - acc: 0.4367 - val_loss: 1.5677 - val_acc: 0.5348\n",
            "Epoch 25/300\n",
            "7/7 [==============================] - 0s 20ms/step - loss: 1.4979 - acc: 0.4413 - val_loss: 1.5466 - val_acc: 0.5641\n",
            "Epoch 26/300\n",
            "7/7 [==============================] - 0s 18ms/step - loss: 1.4697 - acc: 0.4698 - val_loss: 1.5228 - val_acc: 0.5824\n",
            "Epoch 27/300\n",
            "7/7 [==============================] - 0s 17ms/step - loss: 1.4507 - acc: 0.4763 - val_loss: 1.4861 - val_acc: 0.5788\n",
            "Epoch 28/300\n",
            "7/7 [==============================] - 0s 19ms/step - loss: 1.4316 - acc: 0.4977 - val_loss: 1.4524 - val_acc: 0.5641\n",
            "Epoch 29/300\n",
            "7/7 [==============================] - 0s 17ms/step - loss: 1.4361 - acc: 0.4951 - val_loss: 1.4367 - val_acc: 0.5568\n",
            "Epoch 30/300\n",
            "7/7 [==============================] - 0s 17ms/step - loss: 1.4436 - acc: 0.4750 - val_loss: 1.4429 - val_acc: 0.5458\n",
            "Epoch 31/300\n",
            "7/7 [==============================] - 0s 18ms/step - loss: 1.4248 - acc: 0.4919 - val_loss: 1.4395 - val_acc: 0.5495\n",
            "Epoch 32/300\n",
            "7/7 [==============================] - 0s 18ms/step - loss: 1.3824 - acc: 0.5068 - val_loss: 1.4084 - val_acc: 0.5751\n",
            "Epoch 33/300\n",
            "7/7 [==============================] - 0s 19ms/step - loss: 1.4050 - acc: 0.4899 - val_loss: 1.3877 - val_acc: 0.5421\n",
            "Epoch 34/300\n",
            "7/7 [==============================] - 0s 18ms/step - loss: 1.3552 - acc: 0.5068 - val_loss: 1.3863 - val_acc: 0.5531\n",
            "Epoch 35/300\n",
            "7/7 [==============================] - 0s 18ms/step - loss: 1.3266 - acc: 0.5269 - val_loss: 1.3744 - val_acc: 0.5275\n",
            "Epoch 36/300\n",
            "7/7 [==============================] - 0s 18ms/step - loss: 1.3172 - acc: 0.5328 - val_loss: 1.5042 - val_acc: 0.3919\n",
            "Epoch 37/300\n",
            "7/7 [==============================] - 0s 17ms/step - loss: 1.3240 - acc: 0.5250 - val_loss: 1.6240 - val_acc: 0.3333\n",
            "Epoch 38/300\n",
            "7/7 [==============================] - 0s 18ms/step - loss: 1.3472 - acc: 0.5172 - val_loss: 1.5917 - val_acc: 0.3443\n",
            "Epoch 39/300\n",
            "7/7 [==============================] - 0s 19ms/step - loss: 1.3204 - acc: 0.5360 - val_loss: 1.5068 - val_acc: 0.3846\n",
            "Epoch 40/300\n",
            "7/7 [==============================] - 0s 17ms/step - loss: 1.2814 - acc: 0.5334 - val_loss: 1.4576 - val_acc: 0.4176\n",
            "Epoch 41/300\n",
            "7/7 [==============================] - 0s 19ms/step - loss: 1.2305 - acc: 0.5646 - val_loss: 1.4671 - val_acc: 0.4176\n",
            "Epoch 42/300\n",
            "7/7 [==============================] - 0s 18ms/step - loss: 1.2670 - acc: 0.5633 - val_loss: 1.4632 - val_acc: 0.4212\n",
            "Epoch 43/300\n",
            "7/7 [==============================] - 0s 20ms/step - loss: 1.2482 - acc: 0.5522 - val_loss: 1.4151 - val_acc: 0.4505\n",
            "Epoch 44/300\n",
            "7/7 [==============================] - 0s 19ms/step - loss: 1.2593 - acc: 0.5496 - val_loss: 1.3216 - val_acc: 0.5201\n",
            "Epoch 45/300\n",
            "7/7 [==============================] - 0s 19ms/step - loss: 1.2631 - acc: 0.5386 - val_loss: 1.2977 - val_acc: 0.5311\n",
            "Epoch 46/300\n",
            "7/7 [==============================] - 0s 17ms/step - loss: 1.1791 - acc: 0.5756 - val_loss: 1.2814 - val_acc: 0.5458\n",
            "Epoch 47/300\n",
            "7/7 [==============================] - 0s 18ms/step - loss: 1.2150 - acc: 0.5698 - val_loss: 1.2508 - val_acc: 0.5641\n",
            "Epoch 48/300\n",
            "7/7 [==============================] - 0s 18ms/step - loss: 1.2073 - acc: 0.5704 - val_loss: 1.2287 - val_acc: 0.6044\n",
            "Epoch 49/300\n",
            "7/7 [==============================] - 0s 18ms/step - loss: 1.1958 - acc: 0.5886 - val_loss: 1.2166 - val_acc: 0.6081\n",
            "Epoch 50/300\n",
            "7/7 [==============================] - 0s 17ms/step - loss: 1.1832 - acc: 0.5899 - val_loss: 1.2091 - val_acc: 0.6081\n",
            "Epoch 51/300\n",
            "7/7 [==============================] - 0s 19ms/step - loss: 1.1746 - acc: 0.5834 - val_loss: 1.2249 - val_acc: 0.6117\n",
            "Epoch 52/300\n",
            "7/7 [==============================] - 0s 18ms/step - loss: 1.1665 - acc: 0.5905 - val_loss: 1.2214 - val_acc: 0.6154\n",
            "Epoch 53/300\n",
            "7/7 [==============================] - 0s 18ms/step - loss: 1.1632 - acc: 0.5834 - val_loss: 1.1926 - val_acc: 0.6227\n",
            "Epoch 54/300\n",
            "7/7 [==============================] - 0s 20ms/step - loss: 1.1699 - acc: 0.5866 - val_loss: 1.1672 - val_acc: 0.6300\n",
            "Epoch 55/300\n",
            "7/7 [==============================] - 0s 18ms/step - loss: 1.0851 - acc: 0.6126 - val_loss: 1.1519 - val_acc: 0.6410\n",
            "Epoch 56/300\n",
            "7/7 [==============================] - 0s 20ms/step - loss: 1.1344 - acc: 0.6080 - val_loss: 1.1466 - val_acc: 0.6264\n",
            "Epoch 57/300\n",
            "7/7 [==============================] - 0s 17ms/step - loss: 1.1481 - acc: 0.6016 - val_loss: 1.1545 - val_acc: 0.6044\n",
            "Epoch 58/300\n",
            "7/7 [==============================] - 0s 18ms/step - loss: 1.1449 - acc: 0.6022 - val_loss: 1.1453 - val_acc: 0.6081\n",
            "Epoch 59/300\n",
            "7/7 [==============================] - 0s 17ms/step - loss: 1.1236 - acc: 0.6145 - val_loss: 1.1450 - val_acc: 0.6044\n",
            "Epoch 60/300\n",
            "7/7 [==============================] - 0s 18ms/step - loss: 1.1002 - acc: 0.6113 - val_loss: 1.1362 - val_acc: 0.6117\n",
            "Epoch 61/300\n",
            "7/7 [==============================] - 0s 18ms/step - loss: 1.0898 - acc: 0.6145 - val_loss: 1.1109 - val_acc: 0.6264\n",
            "Epoch 62/300\n",
            "7/7 [==============================] - 0s 18ms/step - loss: 1.0845 - acc: 0.6230 - val_loss: 1.1049 - val_acc: 0.6227\n",
            "Epoch 63/300\n",
            "7/7 [==============================] - 0s 18ms/step - loss: 1.1298 - acc: 0.6152 - val_loss: 1.0953 - val_acc: 0.6264\n",
            "Epoch 64/300\n",
            "7/7 [==============================] - 0s 18ms/step - loss: 1.0451 - acc: 0.6282 - val_loss: 1.0972 - val_acc: 0.6300\n",
            "Epoch 65/300\n",
            "7/7 [==============================] - 0s 17ms/step - loss: 1.0474 - acc: 0.6496 - val_loss: 1.0821 - val_acc: 0.6227\n",
            "Epoch 66/300\n",
            "7/7 [==============================] - 0s 17ms/step - loss: 1.0184 - acc: 0.6489 - val_loss: 1.0781 - val_acc: 0.6300\n",
            "Epoch 67/300\n",
            "7/7 [==============================] - 0s 18ms/step - loss: 1.0356 - acc: 0.6366 - val_loss: 1.0833 - val_acc: 0.6447\n",
            "Epoch 68/300\n",
            "7/7 [==============================] - 0s 18ms/step - loss: 1.1097 - acc: 0.6132 - val_loss: 1.0877 - val_acc: 0.6447\n",
            "Epoch 69/300\n",
            "7/7 [==============================] - 0s 18ms/step - loss: 0.9922 - acc: 0.6450 - val_loss: 1.0857 - val_acc: 0.6374\n",
            "Epoch 70/300\n",
            "7/7 [==============================] - 0s 18ms/step - loss: 1.0370 - acc: 0.6288 - val_loss: 1.0738 - val_acc: 0.6264\n",
            "Epoch 71/300\n",
            "7/7 [==============================] - 0s 18ms/step - loss: 1.0561 - acc: 0.6243 - val_loss: 1.0708 - val_acc: 0.6227\n",
            "Epoch 72/300\n",
            "7/7 [==============================] - 0s 18ms/step - loss: 1.0278 - acc: 0.6392 - val_loss: 1.0767 - val_acc: 0.6007\n",
            "Epoch 73/300\n",
            "7/7 [==============================] - 0s 17ms/step - loss: 1.0196 - acc: 0.6431 - val_loss: 1.0814 - val_acc: 0.6154\n",
            "Epoch 74/300\n",
            "7/7 [==============================] - 0s 20ms/step - loss: 1.0129 - acc: 0.6476 - val_loss: 1.0736 - val_acc: 0.6227\n",
            "Epoch 75/300\n",
            "7/7 [==============================] - 0s 17ms/step - loss: 1.0037 - acc: 0.6444 - val_loss: 1.0581 - val_acc: 0.6337\n",
            "Epoch 76/300\n",
            "7/7 [==============================] - 0s 17ms/step - loss: 0.9893 - acc: 0.6457 - val_loss: 1.0394 - val_acc: 0.6410\n",
            "Epoch 77/300\n",
            "7/7 [==============================] - 0s 19ms/step - loss: 0.9781 - acc: 0.6710 - val_loss: 1.0134 - val_acc: 0.6337\n",
            "Epoch 78/300\n",
            "7/7 [==============================] - 0s 18ms/step - loss: 0.9254 - acc: 0.6775 - val_loss: 1.0002 - val_acc: 0.6520\n",
            "Epoch 79/300\n",
            "7/7 [==============================] - 0s 20ms/step - loss: 0.9896 - acc: 0.6587 - val_loss: 1.0023 - val_acc: 0.6593\n",
            "Epoch 80/300\n",
            "7/7 [==============================] - 0s 19ms/step - loss: 1.0240 - acc: 0.6502 - val_loss: 1.0007 - val_acc: 0.6484\n",
            "Epoch 81/300\n",
            "7/7 [==============================] - 0s 17ms/step - loss: 0.9831 - acc: 0.6626 - val_loss: 1.0045 - val_acc: 0.6484\n",
            "Epoch 82/300\n",
            "7/7 [==============================] - 0s 17ms/step - loss: 1.0175 - acc: 0.6457 - val_loss: 0.9924 - val_acc: 0.6374\n",
            "Epoch 83/300\n",
            "7/7 [==============================] - 0s 18ms/step - loss: 0.9800 - acc: 0.6710 - val_loss: 0.9749 - val_acc: 0.6337\n",
            "Epoch 84/300\n",
            "7/7 [==============================] - 0s 19ms/step - loss: 0.9470 - acc: 0.6677 - val_loss: 0.9981 - val_acc: 0.6264\n",
            "Epoch 85/300\n",
            "7/7 [==============================] - 0s 17ms/step - loss: 0.9517 - acc: 0.6561 - val_loss: 1.0196 - val_acc: 0.6190\n",
            "Epoch 86/300\n",
            "7/7 [==============================] - 0s 18ms/step - loss: 0.9450 - acc: 0.6755 - val_loss: 1.0007 - val_acc: 0.6227\n",
            "Epoch 87/300\n",
            "7/7 [==============================] - 0s 19ms/step - loss: 0.9547 - acc: 0.6587 - val_loss: 0.9910 - val_acc: 0.6337\n",
            "Epoch 88/300\n",
            "7/7 [==============================] - 0s 20ms/step - loss: 0.9353 - acc: 0.6944 - val_loss: 0.9967 - val_acc: 0.6300\n",
            "Epoch 89/300\n",
            "7/7 [==============================] - 0s 18ms/step - loss: 0.9601 - acc: 0.6684 - val_loss: 0.9957 - val_acc: 0.6374\n",
            "Epoch 90/300\n",
            "7/7 [==============================] - 0s 18ms/step - loss: 0.9034 - acc: 0.6859 - val_loss: 0.9751 - val_acc: 0.6227\n",
            "Epoch 91/300\n",
            "7/7 [==============================] - 0s 18ms/step - loss: 0.9666 - acc: 0.6749 - val_loss: 0.9785 - val_acc: 0.6227\n",
            "Epoch 92/300\n",
            "7/7 [==============================] - 0s 18ms/step - loss: 0.9318 - acc: 0.6606 - val_loss: 0.9913 - val_acc: 0.6264\n",
            "Epoch 93/300\n",
            "7/7 [==============================] - 0s 17ms/step - loss: 0.8990 - acc: 0.6788 - val_loss: 1.0076 - val_acc: 0.6227\n",
            "Epoch 94/300\n",
            "7/7 [==============================] - 0s 19ms/step - loss: 0.8963 - acc: 0.6781 - val_loss: 1.0178 - val_acc: 0.6117\n",
            "Epoch 95/300\n",
            "7/7 [==============================] - 0s 17ms/step - loss: 0.9216 - acc: 0.6781 - val_loss: 1.0040 - val_acc: 0.6300\n",
            "Epoch 96/300\n",
            "7/7 [==============================] - 0s 17ms/step - loss: 0.8869 - acc: 0.6950 - val_loss: 0.9996 - val_acc: 0.6447\n",
            "Epoch 97/300\n",
            "7/7 [==============================] - 0s 18ms/step - loss: 0.9078 - acc: 0.6937 - val_loss: 0.9975 - val_acc: 0.6520\n",
            "Epoch 98/300\n",
            "7/7 [==============================] - 0s 17ms/step - loss: 0.8889 - acc: 0.6827 - val_loss: 1.0135 - val_acc: 0.6484\n",
            "Epoch 99/300\n",
            "7/7 [==============================] - 0s 19ms/step - loss: 0.9358 - acc: 0.6729 - val_loss: 1.0002 - val_acc: 0.6557\n",
            "Epoch 100/300\n",
            "7/7 [==============================] - 0s 20ms/step - loss: 0.8709 - acc: 0.6982 - val_loss: 0.9771 - val_acc: 0.6667\n",
            "Epoch 101/300\n",
            "7/7 [==============================] - 0s 18ms/step - loss: 0.8971 - acc: 0.6950 - val_loss: 0.9737 - val_acc: 0.6630\n",
            "Epoch 102/300\n",
            "7/7 [==============================] - 0s 19ms/step - loss: 0.9159 - acc: 0.6677 - val_loss: 0.9774 - val_acc: 0.6630\n",
            "Epoch 103/300\n",
            "7/7 [==============================] - 0s 18ms/step - loss: 0.9100 - acc: 0.6677 - val_loss: 0.9774 - val_acc: 0.6667\n",
            "Epoch 104/300\n",
            "7/7 [==============================] - 0s 18ms/step - loss: 0.8989 - acc: 0.6833 - val_loss: 0.9868 - val_acc: 0.6850\n",
            "Epoch 105/300\n",
            "7/7 [==============================] - 0s 18ms/step - loss: 0.8955 - acc: 0.6781 - val_loss: 0.9816 - val_acc: 0.6850\n",
            "Epoch 106/300\n",
            "7/7 [==============================] - 0s 19ms/step - loss: 0.8490 - acc: 0.6905 - val_loss: 0.9890 - val_acc: 0.6667\n",
            "Epoch 107/300\n",
            "7/7 [==============================] - 0s 18ms/step - loss: 0.8861 - acc: 0.6931 - val_loss: 0.9911 - val_acc: 0.6557\n",
            "Epoch 108/300\n",
            "7/7 [==============================] - 0s 18ms/step - loss: 0.8752 - acc: 0.6963 - val_loss: 0.9852 - val_acc: 0.6593\n",
            "Epoch 109/300\n",
            "7/7 [==============================] - 0s 18ms/step - loss: 0.8971 - acc: 0.6872 - val_loss: 0.9721 - val_acc: 0.6740\n",
            "Epoch 110/300\n",
            "7/7 [==============================] - 0s 19ms/step - loss: 0.8640 - acc: 0.7002 - val_loss: 0.9692 - val_acc: 0.6703\n",
            "Epoch 111/300\n",
            "7/7 [==============================] - 0s 18ms/step - loss: 0.8782 - acc: 0.7054 - val_loss: 0.9747 - val_acc: 0.6630\n",
            "Epoch 112/300\n",
            "7/7 [==============================] - 0s 17ms/step - loss: 0.8365 - acc: 0.7041 - val_loss: 0.9712 - val_acc: 0.6703\n",
            "Epoch 113/300\n",
            "7/7 [==============================] - 0s 18ms/step - loss: 0.8856 - acc: 0.6944 - val_loss: 0.9623 - val_acc: 0.6740\n",
            "Epoch 114/300\n",
            "7/7 [==============================] - 0s 20ms/step - loss: 0.8557 - acc: 0.7034 - val_loss: 0.9517 - val_acc: 0.6740\n",
            "Epoch 115/300\n",
            "7/7 [==============================] - 0s 18ms/step - loss: 0.8851 - acc: 0.6918 - val_loss: 0.9596 - val_acc: 0.6667\n",
            "Epoch 116/300\n",
            "7/7 [==============================] - 0s 22ms/step - loss: 0.8266 - acc: 0.7041 - val_loss: 0.9731 - val_acc: 0.6740\n",
            "Epoch 117/300\n",
            "7/7 [==============================] - 0s 19ms/step - loss: 0.8247 - acc: 0.7197 - val_loss: 0.9778 - val_acc: 0.6850\n",
            "Epoch 118/300\n",
            "7/7 [==============================] - 0s 17ms/step - loss: 0.8595 - acc: 0.6970 - val_loss: 0.9818 - val_acc: 0.6703\n",
            "Epoch 119/300\n",
            "7/7 [==============================] - 0s 19ms/step - loss: 0.8195 - acc: 0.7229 - val_loss: 0.9854 - val_acc: 0.6630\n",
            "Epoch 120/300\n",
            "7/7 [==============================] - 0s 18ms/step - loss: 0.8245 - acc: 0.7184 - val_loss: 0.9900 - val_acc: 0.6667\n",
            "Epoch 121/300\n",
            "7/7 [==============================] - 0s 19ms/step - loss: 0.8532 - acc: 0.7008 - val_loss: 1.0052 - val_acc: 0.6630\n",
            "Epoch 122/300\n",
            "7/7 [==============================] - 0s 18ms/step - loss: 0.8427 - acc: 0.7034 - val_loss: 0.9893 - val_acc: 0.6703\n",
            "Epoch 123/300\n",
            "7/7 [==============================] - 0s 21ms/step - loss: 0.8540 - acc: 0.7015 - val_loss: 0.9830 - val_acc: 0.6740\n",
            "Epoch 124/300\n",
            "7/7 [==============================] - 0s 18ms/step - loss: 0.8048 - acc: 0.7197 - val_loss: 0.9893 - val_acc: 0.6813\n",
            "Epoch 125/300\n",
            "7/7 [==============================] - 0s 19ms/step - loss: 0.8343 - acc: 0.7190 - val_loss: 0.9800 - val_acc: 0.6813\n",
            "Epoch 126/300\n",
            "7/7 [==============================] - 0s 19ms/step - loss: 0.8100 - acc: 0.7138 - val_loss: 0.9807 - val_acc: 0.6777\n",
            "Epoch 127/300\n",
            "7/7 [==============================] - 0s 20ms/step - loss: 0.8326 - acc: 0.7073 - val_loss: 0.9846 - val_acc: 0.6667\n",
            "Epoch 128/300\n",
            "7/7 [==============================] - 0s 20ms/step - loss: 0.8296 - acc: 0.7093 - val_loss: 0.9827 - val_acc: 0.6557\n",
            "Epoch 129/300\n",
            "7/7 [==============================] - 0s 19ms/step - loss: 0.8484 - acc: 0.7060 - val_loss: 0.9775 - val_acc: 0.6593\n",
            "Epoch 130/300\n",
            "7/7 [==============================] - 0s 17ms/step - loss: 0.7866 - acc: 0.7333 - val_loss: 0.9831 - val_acc: 0.6667\n",
            "Epoch 131/300\n",
            "7/7 [==============================] - 0s 18ms/step - loss: 0.8358 - acc: 0.7236 - val_loss: 0.9916 - val_acc: 0.6667\n",
            "Epoch 132/300\n",
            "7/7 [==============================] - 0s 19ms/step - loss: 0.8265 - acc: 0.7210 - val_loss: 0.9959 - val_acc: 0.6630\n",
            "Epoch 133/300\n",
            "7/7 [==============================] - 0s 18ms/step - loss: 0.7880 - acc: 0.7352 - val_loss: 0.9914 - val_acc: 0.6703\n",
            "Epoch 134/300\n",
            "7/7 [==============================] - 0s 21ms/step - loss: 0.7824 - acc: 0.7236 - val_loss: 0.9860 - val_acc: 0.6886\n",
            "Epoch 135/300\n",
            "7/7 [==============================] - 0s 18ms/step - loss: 0.7782 - acc: 0.7229 - val_loss: 0.9696 - val_acc: 0.6740\n",
            "Epoch 136/300\n",
            "7/7 [==============================] - 0s 18ms/step - loss: 0.7799 - acc: 0.7274 - val_loss: 0.9703 - val_acc: 0.6740\n",
            "Epoch 137/300\n",
            "7/7 [==============================] - 0s 19ms/step - loss: 0.8042 - acc: 0.7125 - val_loss: 0.9545 - val_acc: 0.6813\n",
            "Epoch 138/300\n",
            "7/7 [==============================] - 0s 18ms/step - loss: 0.8169 - acc: 0.7223 - val_loss: 0.9513 - val_acc: 0.6630\n",
            "Epoch 139/300\n",
            "7/7 [==============================] - 0s 17ms/step - loss: 0.8157 - acc: 0.7197 - val_loss: 0.9781 - val_acc: 0.6667\n",
            "Epoch 140/300\n",
            "7/7 [==============================] - 0s 19ms/step - loss: 0.7760 - acc: 0.7456 - val_loss: 0.9860 - val_acc: 0.6777\n",
            "Epoch 141/300\n",
            "7/7 [==============================] - 0s 19ms/step - loss: 0.7684 - acc: 0.7398 - val_loss: 0.9754 - val_acc: 0.6740\n",
            "Epoch 142/300\n",
            "7/7 [==============================] - 0s 18ms/step - loss: 0.7675 - acc: 0.7365 - val_loss: 0.9775 - val_acc: 0.6557\n",
            "Epoch 143/300\n",
            "7/7 [==============================] - 0s 19ms/step - loss: 0.7465 - acc: 0.7398 - val_loss: 0.9783 - val_acc: 0.6630\n",
            "Epoch 144/300\n",
            "7/7 [==============================] - 0s 18ms/step - loss: 0.8093 - acc: 0.7307 - val_loss: 0.9746 - val_acc: 0.6520\n",
            "Epoch 145/300\n",
            "7/7 [==============================] - 0s 17ms/step - loss: 0.7903 - acc: 0.7236 - val_loss: 0.9664 - val_acc: 0.6630\n",
            "Epoch 146/300\n",
            "7/7 [==============================] - 0s 19ms/step - loss: 0.7381 - acc: 0.7385 - val_loss: 0.9788 - val_acc: 0.6593\n",
            "Epoch 147/300\n",
            "7/7 [==============================] - 0s 19ms/step - loss: 0.7931 - acc: 0.7313 - val_loss: 0.9936 - val_acc: 0.6593\n",
            "Epoch 148/300\n",
            "7/7 [==============================] - 0s 19ms/step - loss: 0.7771 - acc: 0.7255 - val_loss: 0.9958 - val_acc: 0.6667\n",
            "Epoch 149/300\n",
            "7/7 [==============================] - 0s 20ms/step - loss: 0.7333 - acc: 0.7638 - val_loss: 0.9807 - val_acc: 0.6667\n",
            "Epoch 150/300\n",
            "7/7 [==============================] - 0s 19ms/step - loss: 0.7505 - acc: 0.7541 - val_loss: 0.9872 - val_acc: 0.6557\n",
            "Epoch 151/300\n",
            "7/7 [==============================] - 0s 17ms/step - loss: 0.7380 - acc: 0.7378 - val_loss: 1.0009 - val_acc: 0.6557\n",
            "Epoch 152/300\n",
            "7/7 [==============================] - 0s 19ms/step - loss: 0.7467 - acc: 0.7320 - val_loss: 1.0338 - val_acc: 0.6593\n",
            "Epoch 153/300\n",
            "7/7 [==============================] - 0s 18ms/step - loss: 0.7292 - acc: 0.7313 - val_loss: 1.0403 - val_acc: 0.6703\n",
            "Epoch 154/300\n",
            "7/7 [==============================] - 0s 18ms/step - loss: 0.7987 - acc: 0.7171 - val_loss: 1.0063 - val_acc: 0.6777\n",
            "Epoch 155/300\n",
            "7/7 [==============================] - 0s 19ms/step - loss: 0.7543 - acc: 0.7417 - val_loss: 0.9813 - val_acc: 0.6813\n",
            "Epoch 156/300\n",
            "7/7 [==============================] - 0s 18ms/step - loss: 0.7531 - acc: 0.7450 - val_loss: 0.9757 - val_acc: 0.6740\n",
            "Epoch 157/300\n",
            "7/7 [==============================] - 0s 19ms/step - loss: 0.7149 - acc: 0.7430 - val_loss: 0.9804 - val_acc: 0.6740\n",
            "Epoch 158/300\n",
            "7/7 [==============================] - 0s 22ms/step - loss: 0.8004 - acc: 0.7158 - val_loss: 0.9769 - val_acc: 0.6703\n",
            "Epoch 159/300\n",
            "7/7 [==============================] - 0s 18ms/step - loss: 0.7900 - acc: 0.7352 - val_loss: 0.9750 - val_acc: 0.6703\n",
            "Epoch 160/300\n",
            "7/7 [==============================] - 0s 18ms/step - loss: 0.7628 - acc: 0.7378 - val_loss: 0.9678 - val_acc: 0.6740\n",
            "Epoch 161/300\n",
            "7/7 [==============================] - 0s 20ms/step - loss: 0.7569 - acc: 0.7339 - val_loss: 0.9779 - val_acc: 0.6740\n",
            "Epoch 162/300\n",
            "7/7 [==============================] - 0s 19ms/step - loss: 0.7893 - acc: 0.7274 - val_loss: 0.9808 - val_acc: 0.6850\n",
            "Epoch 163/300\n",
            "7/7 [==============================] - 0s 18ms/step - loss: 0.7247 - acc: 0.7508 - val_loss: 0.9853 - val_acc: 0.6813\n",
            "Epoch 164/300\n",
            "7/7 [==============================] - 0s 19ms/step - loss: 0.7145 - acc: 0.7567 - val_loss: 0.9932 - val_acc: 0.6777\n",
            "Epoch 165/300\n",
            "7/7 [==============================] - 0s 19ms/step - loss: 0.7206 - acc: 0.7515 - val_loss: 0.9866 - val_acc: 0.6630\n",
            "Epoch 166/300\n",
            "7/7 [==============================] - 0s 18ms/step - loss: 0.6976 - acc: 0.7670 - val_loss: 0.9852 - val_acc: 0.6557\n",
            "Epoch 167/300\n",
            "7/7 [==============================] - 0s 19ms/step - loss: 0.7397 - acc: 0.7417 - val_loss: 0.9812 - val_acc: 0.6520\n",
            "Epoch 168/300\n",
            "7/7 [==============================] - 0s 18ms/step - loss: 0.7345 - acc: 0.7463 - val_loss: 0.9764 - val_acc: 0.6593\n",
            "Epoch 169/300\n",
            "7/7 [==============================] - 0s 19ms/step - loss: 0.7562 - acc: 0.7385 - val_loss: 0.9662 - val_acc: 0.6557\n",
            "Epoch 170/300\n",
            "7/7 [==============================] - 0s 19ms/step - loss: 0.7660 - acc: 0.7365 - val_loss: 0.9822 - val_acc: 0.6520\n",
            "Epoch 171/300\n",
            "7/7 [==============================] - 0s 18ms/step - loss: 0.7666 - acc: 0.7281 - val_loss: 0.9813 - val_acc: 0.6557\n",
            "Epoch 172/300\n",
            "7/7 [==============================] - 0s 18ms/step - loss: 0.7216 - acc: 0.7508 - val_loss: 0.9737 - val_acc: 0.6703\n",
            "Epoch 173/300\n",
            "7/7 [==============================] - 0s 19ms/step - loss: 0.7467 - acc: 0.7469 - val_loss: 0.9757 - val_acc: 0.6557\n",
            "Epoch 174/300\n",
            "7/7 [==============================] - 0s 18ms/step - loss: 0.7159 - acc: 0.7612 - val_loss: 0.9668 - val_acc: 0.6777\n",
            "Epoch 175/300\n",
            "7/7 [==============================] - 0s 18ms/step - loss: 0.7209 - acc: 0.7502 - val_loss: 0.9675 - val_acc: 0.6740\n",
            "Epoch 176/300\n",
            "7/7 [==============================] - 0s 19ms/step - loss: 0.6631 - acc: 0.7631 - val_loss: 0.9776 - val_acc: 0.6667\n",
            "Epoch 177/300\n",
            "7/7 [==============================] - 0s 19ms/step - loss: 0.7140 - acc: 0.7515 - val_loss: 0.9980 - val_acc: 0.6557\n",
            "Epoch 178/300\n",
            "7/7 [==============================] - 0s 18ms/step - loss: 0.6965 - acc: 0.7677 - val_loss: 1.0147 - val_acc: 0.6484\n",
            "Epoch 179/300\n",
            "7/7 [==============================] - 0s 20ms/step - loss: 0.7324 - acc: 0.7430 - val_loss: 1.0256 - val_acc: 0.6557\n",
            "Epoch 180/300\n",
            "7/7 [==============================] - 0s 18ms/step - loss: 0.7698 - acc: 0.7359 - val_loss: 1.0101 - val_acc: 0.6484\n",
            "Epoch 181/300\n",
            "7/7 [==============================] - 0s 19ms/step - loss: 0.7118 - acc: 0.7567 - val_loss: 0.9763 - val_acc: 0.6447\n",
            "Epoch 182/300\n",
            "7/7 [==============================] - 0s 20ms/step - loss: 0.7321 - acc: 0.7579 - val_loss: 0.9661 - val_acc: 0.6557\n",
            "Epoch 183/300\n",
            "7/7 [==============================] - 0s 19ms/step - loss: 0.6899 - acc: 0.7644 - val_loss: 0.9519 - val_acc: 0.6667\n",
            "Epoch 184/300\n",
            "7/7 [==============================] - 0s 20ms/step - loss: 0.6745 - acc: 0.7755 - val_loss: 0.9555 - val_acc: 0.6703\n"
          ]
        }
      ]
    },
    {
      "cell_type": "code",
      "source": [
        "display_learning_curves(history3)"
      ],
      "metadata": {
        "id": "ghZA56CAtOid",
        "outputId": "dfbb04d8-8298-4cf7-fbaf-8c226ca33b79",
        "colab": {
          "base_uri": "https://localhost:8080/",
          "height": 335
        }
      },
      "execution_count": 47,
      "outputs": [
        {
          "output_type": "display_data",
          "data": {
            "image/png": "[encoded data removed]",
            "text/plain": [
              "<Figure size 1080x360 with 2 Axes>"
            ]
          },
          "metadata": {
            "needs_background": "light"
          }
        }
      ]
    },
    {
      "cell_type": "code",
      "source": [
        "_, test_accuracy = baseline_model.evaluate(x=x_test_all, y=y_test_all, verbose=0)\n",
        "print(f\"Test accuracy: {round(test_accuracy * 100, 2)}%\")"
      ],
      "metadata": {
        "id": "T99qKi4gtOYQ",
        "outputId": "4167dfbd-1ec4-424a-d89f-48926508e34f",
        "colab": {
          "base_uri": "https://localhost:8080/"
        }
      },
      "execution_count": 48,
      "outputs": [
        {
          "output_type": "stream",
          "name": "stdout",
          "text": [
            "Test accuracy: 71.14%\n"
          ]
        }
      ]
    },
    {
      "cell_type": "markdown",
      "metadata": {
        "id": "zVMByRdQU8ox"
      },
      "source": [
        "### Examine the baseline model predictions\n",
        "\n",
        "Let's create new data instances by randomly generating binary word vectors with respect to\n",
        "the word presence probabilities."
      ]
    },
    {
      "cell_type": "code",
      "execution_count": 21,
      "metadata": {
        "id": "Pr4O8WseU8ox"
      },
      "outputs": [],
      "source": [
        "def generate_random_instances(num_instances):\n",
        "    token_probability = x_train.mean(axis=0)\n",
        "    instances = []\n",
        "    for _ in range(num_instances):\n",
        "        probabilities = np.random.uniform(size=len(token_probability))\n",
        "        instance = (probabilities <= token_probability).astype(int)\n",
        "        instances.append(instance)\n",
        "\n",
        "    return np.array(instances)\n",
        "\n",
        "\n",
        "def display_class_probabilities(probabilities):\n",
        "    for instance_idx, probs in enumerate(probabilities):\n",
        "        print(f\"Instance {instance_idx + 1}:\")\n",
        "        for class_idx, prob in enumerate(probs):\n",
        "            print(f\"- {class_values[class_idx]}: {round(prob * 100, 2)}%\")\n"
      ]
    },
    {
      "cell_type": "markdown",
      "metadata": {
        "id": "JaSjlhMiU8ox"
      },
      "source": [
        "Now we show the baseline model predictions given these randomly generated instances."
      ]
    },
    {
      "cell_type": "code",
      "execution_count": null,
      "metadata": {
        "id": "2rFk8LZBU8ox"
      },
      "outputs": [],
      "source": [
        "new_instances = generate_random_instances(num_classes)\n",
        "logits = baseline_model.predict(new_instances)\n",
        "probabilities = keras.activations.softmax(tf.convert_to_tensor(logits)).numpy()\n",
        "display_class_probabilities(probabilities)"
      ]
    },
    {
      "cell_type": "markdown",
      "metadata": {
        "id": "v5ADjlW-U8oy"
      },
      "source": [
        "## Build a Graph Neural Network Model\n",
        "\n",
        "### Prepare the data for the graph model\n",
        "\n",
        "Preparing and loading the graphs data into the model for training is the most challenging\n",
        "part in GNN models, which is addressed in different ways by the specialised libraries.\n",
        "In this example, we show a simple approach for preparing and using graph data that is suitable\n",
        "if your dataset consists of a single graph that fits entirely in memory.\n",
        "\n",
        "The graph data is represented by the `graph_info` tuple, which consists of the following\n",
        "three elements:\n",
        "\n",
        "1. `node_features`: This is a `[num_nodes, num_features]` NumPy array that includes the\n",
        "node features. In this dataset, the nodes are the papers, and the `node_features` are the\n",
        "word-presence binary vectors of each paper.\n",
        "2. `edges`:  This is `[num_edges, num_edges]` NumPy array representing a sparse\n",
        "[adjacency matrix](https://en.wikipedia.org/wiki/Adjacency_matrix#:~:text=In%20graph%20theory%20and%20computer,with%20zeros%20on%20its%20diagonal.)\n",
        "of the links between the nodes. In this example, the links are the citations between the papers.\n",
        "3. `edge_weights` (optional): This is a `[num_edges]` NumPy array that includes the edge weights, which *quantify*\n",
        "the relationships between nodes in the graph. In this example, there are no weights for the paper citations."
      ]
    },
    {
      "cell_type": "code",
      "execution_count": 100,
      "metadata": {
        "id": "X35G5nyFU8oy",
        "outputId": "6a51a1bd-7cba-4a16-faa3-fd1a7c8fe8fd",
        "colab": {
          "base_uri": "https://localhost:8080/"
        }
      },
      "outputs": [
        {
          "output_type": "stream",
          "name": "stdout",
          "text": [
            "Edges shape: (2, 5429)\n",
            "Nodes shape: (2708, 1433)\n"
          ]
        }
      ],
      "source": [
        "# Create an edges array (sparse adjacency matrix) of shape [2, num_edges].\n",
        "edges = citations[[\"source\", \"target\"]].to_numpy().T\n",
        "# Create an edge weights array of ones.\n",
        "edge_weights = tf.ones(shape=edges.shape[1])\n",
        "# Create a node features array of shape [num_nodes, num_features].\n",
        "node_features = tf.cast(\n",
        "    papers.sort_values(\"paper_id\")[feature_names].to_numpy(), dtype=tf.dtypes.float32\n",
        ")\n",
        "# Create graph info tuple with node_features, edges, and edge_weights.\n",
        "graph_info = (node_features, edges, edge_weights)\n",
        "\n",
        "print(\"Edges shape:\", edges.shape)\n",
        "print(\"Nodes shape:\", node_features.shape)"
      ]
    },
    {
      "cell_type": "markdown",
      "metadata": {
        "id": "HTs1RciDU8oz"
      },
      "source": [
        "### Implement a graph convolution layer\n",
        "\n",
        "We implement a graph convolution module as a [Keras Layer](https://www.tensorflow.org/api_docs/python/tf/keras/layers/Layer?version=nightly).\n",
        "Our `GraphConvLayer` performs the following steps:\n",
        "\n",
        "1. **Prepare**: The input node representations are processed using a FFN to produce a *message*. You can simplify\n",
        "the processing by only applying linear transformation to the representations.\n",
        "2. **Aggregate**: The messages of the neighbours of each node are aggregated with\n",
        "respect to the `edge_weights` using a *permutation invariant* pooling operation, such as *sum*, *mean*, and *max*,\n",
        "to prepare a single aggregated message for each node. See, for example, [tf.math.unsorted_segment_sum](https://www.tensorflow.org/api_docs/python/tf/math/unsorted_segment_sum)\n",
        "APIs used to aggregate neighbour messages.\n",
        "3. **Update**: The `node_repesentations` and `aggregated_messages`—both of shape `[num_nodes, representation_dim]`—\n",
        "are combined and processed to produce the new state of the node representations (node embeddings).\n",
        "If `combination_type` is `gru`, the `node_repesentations` and `aggregated_messages` are stacked to create a sequence,\n",
        "then processed by a GRU layer. Otherwise, the `node_repesentations` and `aggregated_messages` are added\n",
        "or concatenated, then processed using a FFN.\n",
        "\n",
        "\n",
        "The technique implemented use ideas from [Graph Convolutional Networks](https://arxiv.org/abs/1609.02907),\n",
        "[GraphSage](https://arxiv.org/abs/1706.02216), [Graph Isomorphism Network](https://arxiv.org/abs/1810.00826),\n",
        "[Simple Graph Networks](https://arxiv.org/abs/1902.07153), and\n",
        "[Gated Graph Sequence Neural Networks](https://arxiv.org/abs/1511.05493).\n",
        "Two other key techniques that are not covered are [Graph Attention Networks](https://arxiv.org/abs/1710.10903)\n",
        "and [Message Passing Neural Networks](https://arxiv.org/abs/1704.01212)."
      ]
    },
    {
      "cell_type": "code",
      "execution_count": 101,
      "metadata": {
        "id": "Wf4CwZ8vU8o0"
      },
      "outputs": [],
      "source": [
        "class GraphConvLayer(layers.Layer):\n",
        "    def __init__(\n",
        "        self,\n",
        "        hidden_units,\n",
        "        dropout_rate=0.2,\n",
        "        aggregation_type=\"mean\",\n",
        "        combination_type=\"concat\",\n",
        "        normalize=False,\n",
        "        *args,\n",
        "        **kwargs,\n",
        "    ):\n",
        "        super(GraphConvLayer, self).__init__(*args, **kwargs)\n",
        "\n",
        "        self.aggregation_type = aggregation_type\n",
        "        self.combination_type = combination_type\n",
        "        self.normalize = normalize\n",
        "\n",
        "        self.ffn_prepare = create_ffn(hidden_units, dropout_rate)\n",
        "        if self.combination_type == \"gated\":\n",
        "            self.update_fn = layers.GRU(\n",
        "                units=hidden_units,\n",
        "                activation=\"tanh\",\n",
        "                recurrent_activation=\"sigmoid\",\n",
        "                dropout=dropout_rate,\n",
        "                return_state=True,\n",
        "                recurrent_dropout=dropout_rate,\n",
        "            )\n",
        "        else:\n",
        "            self.update_fn = create_ffn(hidden_units, dropout_rate)\n",
        "\n",
        "    def prepare(self, node_repesentations, weights=None):\n",
        "        # node_repesentations shape is [num_edges, embedding_dim].\n",
        "        messages = self.ffn_prepare(node_repesentations)\n",
        "        if weights is not None:\n",
        "            messages = messages * tf.expand_dims(weights, -1)\n",
        "        return messages\n",
        "\n",
        "    def aggregate(self, node_indices, neighbour_messages):\n",
        "        # node_indices shape is [num_edges].\n",
        "        # neighbour_messages shape: [num_edges, representation_dim].\n",
        "        num_nodes = tf.math.reduce_max(node_indices) + 1\n",
        "        if self.aggregation_type == \"sum\":\n",
        "            aggregated_message = tf.math.unsorted_segment_sum(\n",
        "                neighbour_messages, node_indices, num_segments=num_nodes\n",
        "            )\n",
        "        elif self.aggregation_type == \"mean\":\n",
        "            aggregated_message = tf.math.unsorted_segment_mean(\n",
        "                neighbour_messages, node_indices, num_segments=num_nodes\n",
        "            )\n",
        "        elif self.aggregation_type == \"max\":\n",
        "            aggregated_message = tf.math.unsorted_segment_max(\n",
        "                neighbour_messages, node_indices, num_segments=num_nodes\n",
        "            )\n",
        "        else:\n",
        "            raise ValueError(f\"Invalid aggregation type: {self.aggregation_type}.\")\n",
        "\n",
        "        return aggregated_message\n",
        "\n",
        "    def update(self, node_repesentations, aggregated_messages):\n",
        "        # node_repesentations shape is [num_nodes, representation_dim].\n",
        "        # aggregated_messages shape is [num_nodes, representation_dim].\n",
        "        if self.combination_type == \"gru\":\n",
        "            # Create a sequence of two elements for the GRU layer.\n",
        "            h = tf.stack([node_repesentations, aggregated_messages], axis=1)\n",
        "        elif self.combination_type == \"concat\":\n",
        "            # Concatenate the node_repesentations and aggregated_messages.\n",
        "            h = tf.concat([node_repesentations, aggregated_messages], axis=1)\n",
        "        elif self.combination_type == \"add\":\n",
        "            # Add node_repesentations and aggregated_messages.\n",
        "            h = node_repesentations + aggregated_messages\n",
        "        else:\n",
        "            raise ValueError(f\"Invalid combination type: {self.combination_type}.\")\n",
        "\n",
        "        # Apply the processing function.\n",
        "        node_embeddings = self.update_fn(h)\n",
        "        if self.combination_type == \"gru\":\n",
        "            node_embeddings = tf.unstack(node_embeddings, axis=1)[-1]\n",
        "\n",
        "        if self.normalize:\n",
        "            node_embeddings = tf.nn.l2_normalize(node_embeddings, axis=-1)\n",
        "        return node_embeddings\n",
        "\n",
        "    def call(self, inputs):\n",
        "        \"\"\"Process the inputs to produce the node_embeddings.\n",
        "\n",
        "        inputs: a tuple of three elements: node_repesentations, edges, edge_weights.\n",
        "        Returns: node_embeddings of shape [num_nodes, representation_dim].\n",
        "        \"\"\"\n",
        "\n",
        "        node_repesentations, edges, edge_weights = inputs\n",
        "        # Get node_indices (source) and neighbour_indices (target) from edges.\n",
        "        node_indices, neighbour_indices = edges[0], edges[1]\n",
        "        # neighbour_repesentations shape is [num_edges, representation_dim].\n",
        "        neighbour_repesentations = tf.gather(node_repesentations, neighbour_indices)\n",
        "\n",
        "        # Prepare the messages of the neighbours.\n",
        "        neighbour_messages = self.prepare(neighbour_repesentations, edge_weights)\n",
        "        # Aggregate the neighbour messages.\n",
        "        aggregated_messages = self.aggregate(node_indices, neighbour_messages)\n",
        "        # Update the node embedding with the neighbour messages.\n",
        "        return self.update(node_repesentations, aggregated_messages)\n"
      ]
    },
    {
      "cell_type": "markdown",
      "metadata": {
        "id": "sCvWrOFdU8o2"
      },
      "source": [
        "### Implement a graph neural network node classifier\n",
        "\n",
        "The GNN classification model follows the [Design Space for Graph Neural Networks](https://arxiv.org/abs/2011.08843) approach,\n",
        "as follows:\n",
        "\n",
        "1. Apply preprocessing using FFN to the node features to generate initial node representations.\n",
        "2. Apply one or more graph convolutional layer, with skip connections,  to the node representation\n",
        "to produce node embeddings.\n",
        "3. Apply post-processing using FFN to the node embeddings to generat the final node embeddings.\n",
        "4. Feed the node embeddings in a Softmax layer to predict the node class.\n",
        "\n",
        "Each graph convolutional layer added captures information from a further level of neighbours.\n",
        "However, adding many graph convolutional layer can cause oversmoothing, where the model\n",
        "produces similar embeddings for all the nodes.\n",
        "\n",
        "Note that the `graph_info` passed to the constructor of the Keras model, and used as a *property*\n",
        "of the Keras model object, rather than input data for training or prediction.\n",
        "The model will accept a **batch** of `node_indices`, which are used to lookup the\n",
        "node features and neighbours from the `graph_info`."
      ]
    },
    {
      "cell_type": "code",
      "execution_count": 102,
      "metadata": {
        "id": "-YqX1PM8U8o3"
      },
      "outputs": [],
      "source": [
        "class GNNNodeClassifier(tf.keras.Model):\n",
        "    def __init__(\n",
        "        self,\n",
        "        graph_info,\n",
        "        num_classes,\n",
        "        hidden_units,\n",
        "        aggregation_type=\"sum\",\n",
        "        combination_type=\"concat\",\n",
        "        dropout_rate=0.2,\n",
        "        normalize=True,\n",
        "        *args,\n",
        "        **kwargs,\n",
        "    ):\n",
        "        super(GNNNodeClassifier, self).__init__(*args, **kwargs)\n",
        "\n",
        "        # Unpack graph_info to three elements: node_features, edges, and edge_weight.\n",
        "        node_features, edges, edge_weights = graph_info\n",
        "        self.node_features = node_features\n",
        "        self.edges = edges\n",
        "        self.edge_weights = edge_weights\n",
        "        # Set edge_weights to ones if not provided.\n",
        "        if self.edge_weights is None:\n",
        "            self.edge_weights = tf.ones(shape=edges.shape[1])\n",
        "        # Scale edge_weights to sum to 1.\n",
        "        self.edge_weights = self.edge_weights / tf.math.reduce_sum(self.edge_weights)\n",
        "\n",
        "        # Create a process layer.\n",
        "        self.preprocess = create_ffn(hidden_units, dropout_rate, name=\"preprocess\")\n",
        "        # Create the first GraphConv layer.\n",
        "        self.conv1 = GraphConvLayer(\n",
        "            hidden_units,\n",
        "            dropout_rate,\n",
        "            aggregation_type,\n",
        "            combination_type,\n",
        "            normalize,\n",
        "            name=\"graph_conv1\",\n",
        "        )\n",
        "        # Create the second GraphConv layer.\n",
        "        self.conv2 = GraphConvLayer(\n",
        "            hidden_units,\n",
        "            dropout_rate,\n",
        "            aggregation_type,\n",
        "            combination_type,\n",
        "            normalize,\n",
        "            name=\"graph_conv2\",\n",
        "        )\n",
        "        # Create the third GraphConv layer.\n",
        "        self.conv3 = GraphConvLayer(\n",
        "            hidden_units,\n",
        "            dropout_rate,\n",
        "            aggregation_type,\n",
        "            combination_type,\n",
        "            normalize,\n",
        "            name=\"graph_conv3\",\n",
        "        )\n",
        "        # Create the forth GraphConv layer.\n",
        "        self.conv4 = GraphConvLayer(\n",
        "            hidden_units,\n",
        "            dropout_rate,\n",
        "            aggregation_type,\n",
        "            combination_type,\n",
        "            normalize,\n",
        "            name=\"graph_conv4\",\n",
        "        )\n",
        "        # Create the fifth GraphConv layer.\n",
        "        self.conv5 = GraphConvLayer(\n",
        "            hidden_units,\n",
        "            dropout_rate,\n",
        "            aggregation_type,\n",
        "            combination_type,\n",
        "            normalize,\n",
        "            name=\"graph_conv5\",\n",
        "        )\n",
        "        # Create the sixth GraphConv layer.\n",
        "        self.conv6 = GraphConvLayer(\n",
        "            hidden_units,\n",
        "            dropout_rate,\n",
        "            aggregation_type,\n",
        "            combination_type,\n",
        "            normalize,\n",
        "            name=\"graph_conv6\",\n",
        "        )\n",
        "        # Create a postprocess layer.\n",
        "        self.postprocess = create_ffn(hidden_units, dropout_rate, name=\"postprocess\")\n",
        "        # Create a compute logits layer.\n",
        "        self.compute_logits = layers.Dense(units=num_classes, name=\"logits\")\n",
        "\n",
        "    def call(self, input_node_indices):\n",
        "        # Preprocess the node_features to produce node representations.\n",
        "        x = self.preprocess(self.node_features)\n",
        "        # Apply the first graph conv layer.\n",
        "        x1 = self.conv1((x, self.edges, self.edge_weights))\n",
        "        # Skip connection.\n",
        "        x = x1 + x\n",
        "        # Apply the second graph conv layer.\n",
        "        x2 = self.conv2((x, self.edges, self.edge_weights))\n",
        "        # Skip connection.\n",
        "        x = x2 + x\n",
        "        # Apply the third graph conv layer.\n",
        "        x3 = self.conv3((x, self.edges, self.edge_weights))\n",
        "        # Skip connection.\n",
        "        x = x3 + x\n",
        "        # Apply the forth graph conv layer.\n",
        "        x4 = self.conv4((x, self.edges, self.edge_weights))\n",
        "        # Skip connection.\n",
        "        x = x4 + x\n",
        "        # Apply the fifth graph conv layer.\n",
        "        x5 = self.conv5((x, self.edges, self.edge_weights))\n",
        "        # Skip connection.\n",
        "        x = x5 + x\n",
        "        # Apply the sixth graph conv layer.\n",
        "        x6 = self.conv6((x, self.edges, self.edge_weights))\n",
        "        # Skip connection.\n",
        "        x = x6 + x\n",
        "        # Postprocess node embedding.\n",
        "        x = self.postprocess(x)\n",
        "        # Fetch node embeddings for the input node_indices.\n",
        "        node_embeddings = tf.gather(x, input_node_indices)\n",
        "        # Compute logits\n",
        "        return self.compute_logits(node_embeddings)\n"
      ]
    },
    {
      "cell_type": "markdown",
      "metadata": {
        "id": "C_RHqlMRU8o4"
      },
      "source": [
        "Let's test instantiating and calling the GNN model.\n",
        "Notice that if you provide `N` node indices, the output will be a tensor of shape `[N, num_classes]`,\n",
        "regardless of the size of the graph."
      ]
    },
    {
      "cell_type": "code",
      "execution_count": 103,
      "metadata": {
        "id": "AVhi7QjBU8o4",
        "outputId": "81d25379-3470-4cb1-e7c3-b01285d8022e",
        "colab": {
          "base_uri": "https://localhost:8080/"
        }
      },
      "outputs": [
        {
          "output_type": "stream",
          "name": "stdout",
          "text": [
            "GNN output shape: tf.Tensor(\n",
            "[[-0.13690245  0.10576316 -0.1287899   0.18306462  0.00843911  0.14523613\n",
            "  -0.02469507]\n",
            " [ 0.20002954  0.08636815 -0.05097481  0.150236   -0.09573787 -0.00463495\n",
            "   0.23004733]\n",
            " [-0.1914268   0.09016021 -0.13295251  0.190815   -0.18735027  0.1570782\n",
            "  -0.07695442]], shape=(3, 7), dtype=float32)\n",
            "Model: \"gnn_model\"\n",
            "_________________________________________________________________\n",
            " Layer (type)                Output Shape              Param #   \n",
            "=================================================================\n",
            " preprocess (Sequential)     (2708, 32)                52804     \n",
            "                                                                 \n",
            " graph_conv1 (GraphConvLayer  multiple                 5888      \n",
            " )                                                               \n",
            "                                                                 \n",
            " graph_conv2 (GraphConvLayer  multiple                 5888      \n",
            " )                                                               \n",
            "                                                                 \n",
            " graph_conv3 (GraphConvLayer  multiple                 5888      \n",
            " )                                                               \n",
            "                                                                 \n",
            " graph_conv4 (GraphConvLayer  multiple                 5888      \n",
            " )                                                               \n",
            "                                                                 \n",
            " graph_conv5 (GraphConvLayer  multiple                 5888      \n",
            " )                                                               \n",
            "                                                                 \n",
            " graph_conv6 (GraphConvLayer  multiple                 5888      \n",
            " )                                                               \n",
            "                                                                 \n",
            " postprocess (Sequential)    (2708, 32)                2368      \n",
            "                                                                 \n",
            " logits (Dense)              multiple                  231       \n",
            "                                                                 \n",
            "=================================================================\n",
            "Total params: 90,731\n",
            "Trainable params: 85,753\n",
            "Non-trainable params: 4,978\n",
            "_________________________________________________________________\n"
          ]
        }
      ],
      "source": [
        "# graph_info = (node_features, edges, edge_weights)\n",
        "\n",
        "gnn_model = GNNNodeClassifier(\n",
        "    graph_info=graph_info,\n",
        "    num_classes=num_classes,\n",
        "    hidden_units=hidden_units,\n",
        "    dropout_rate=dropout_rate,\n",
        "    name=\"gnn_model\",\n",
        ")\n",
        "\n",
        "print(\"GNN output shape:\", gnn_model([1, 10, 100]))\n",
        "\n",
        "gnn_model.summary()"
      ]
    },
    {
      "cell_type": "markdown",
      "metadata": {
        "id": "Pz8fBk1DU8o4"
      },
      "source": [
        "### Train the GNN model\n",
        "\n",
        "Note that we use the standard *supervised* cross-entropy loss to train the model.\n",
        "However, we can add another *self-supervised* loss term for the generated node embeddings\n",
        "that makes sure that neighbouring nodes in graph have similar representations, while faraway\n",
        "nodes have dissimilar representations."
      ]
    },
    {
      "cell_type": "code",
      "execution_count": 104,
      "metadata": {
        "id": "oJjF2tFfU8o5",
        "outputId": "13d1b897-a41e-4913-a4d6-cdbdc0cfda7c",
        "colab": {
          "base_uri": "https://localhost:8080/"
        }
      },
      "outputs": [
        {
          "output_type": "stream",
          "name": "stdout",
          "text": [
            "Epoch 1/300\n",
            "5/5 [==============================] - 10s 501ms/step - loss: 2.3324 - acc: 0.1419 - val_loss: 1.9294 - val_acc: 0.1429\n",
            "Epoch 2/300\n",
            "5/5 [==============================] - 1s 242ms/step - loss: 1.9360 - acc: 0.2480 - val_loss: 1.9113 - val_acc: 0.2118\n",
            "Epoch 3/300\n",
            "5/5 [==============================] - 1s 242ms/step - loss: 1.9404 - acc: 0.2907 - val_loss: 1.8843 - val_acc: 0.2709\n",
            "Epoch 4/300\n",
            "5/5 [==============================] - 1s 244ms/step - loss: 1.8538 - acc: 0.3081 - val_loss: 1.8831 - val_acc: 0.2857\n",
            "Epoch 5/300\n",
            "5/5 [==============================] - 1s 239ms/step - loss: 1.8497 - acc: 0.2959 - val_loss: 1.8827 - val_acc: 0.2857\n",
            "Epoch 6/300\n",
            "5/5 [==============================] - 1s 234ms/step - loss: 1.8492 - acc: 0.2968 - val_loss: 1.8831 - val_acc: 0.2759\n",
            "Epoch 7/300\n",
            "5/5 [==============================] - 1s 237ms/step - loss: 1.8092 - acc: 0.3185 - val_loss: 1.8800 - val_acc: 0.2759\n",
            "Epoch 8/300\n",
            "5/5 [==============================] - 1s 234ms/step - loss: 1.8033 - acc: 0.3203 - val_loss: 1.8785 - val_acc: 0.2759\n",
            "Epoch 9/300\n",
            "5/5 [==============================] - 1s 237ms/step - loss: 1.8096 - acc: 0.3185 - val_loss: 1.8737 - val_acc: 0.2759\n",
            "Epoch 10/300\n",
            "5/5 [==============================] - 1s 243ms/step - loss: 1.7944 - acc: 0.3333 - val_loss: 1.8694 - val_acc: 0.2759\n",
            "Epoch 11/300\n",
            "5/5 [==============================] - 1s 236ms/step - loss: 1.7896 - acc: 0.3194 - val_loss: 1.8645 - val_acc: 0.2808\n",
            "Epoch 12/300\n",
            "5/5 [==============================] - 1s 239ms/step - loss: 1.7874 - acc: 0.3229 - val_loss: 1.8581 - val_acc: 0.2808\n",
            "Epoch 13/300\n",
            "5/5 [==============================] - 1s 235ms/step - loss: 1.7471 - acc: 0.3377 - val_loss: 1.8453 - val_acc: 0.2808\n",
            "Epoch 14/300\n",
            "5/5 [==============================] - 1s 235ms/step - loss: 1.7409 - acc: 0.3368 - val_loss: 1.8261 - val_acc: 0.2808\n",
            "Epoch 15/300\n",
            "5/5 [==============================] - 1s 242ms/step - loss: 1.6870 - acc: 0.3612 - val_loss: 1.7847 - val_acc: 0.2906\n",
            "Epoch 16/300\n",
            "5/5 [==============================] - 1s 240ms/step - loss: 1.6989 - acc: 0.3568 - val_loss: 1.7296 - val_acc: 0.3202\n",
            "Epoch 17/300\n",
            "5/5 [==============================] - 1s 239ms/step - loss: 1.6563 - acc: 0.3551 - val_loss: 1.6848 - val_acc: 0.3498\n",
            "Epoch 18/300\n",
            "5/5 [==============================] - 1s 239ms/step - loss: 1.6234 - acc: 0.3960 - val_loss: 1.6540 - val_acc: 0.4039\n",
            "Epoch 19/300\n",
            "5/5 [==============================] - 1s 242ms/step - loss: 1.5728 - acc: 0.4012 - val_loss: 1.6480 - val_acc: 0.4483\n",
            "Epoch 20/300\n",
            "5/5 [==============================] - 1s 232ms/step - loss: 1.5449 - acc: 0.4360 - val_loss: 1.6181 - val_acc: 0.4335\n",
            "Epoch 21/300\n",
            "5/5 [==============================] - 1s 240ms/step - loss: 1.5311 - acc: 0.4308 - val_loss: 1.5791 - val_acc: 0.4729\n",
            "Epoch 22/300\n",
            "5/5 [==============================] - 1s 239ms/step - loss: 1.4580 - acc: 0.4552 - val_loss: 1.5432 - val_acc: 0.5369\n",
            "Epoch 23/300\n",
            "5/5 [==============================] - 1s 240ms/step - loss: 1.4520 - acc: 0.4822 - val_loss: 1.4774 - val_acc: 0.5567\n",
            "Epoch 24/300\n",
            "5/5 [==============================] - 1s 242ms/step - loss: 1.4122 - acc: 0.4978 - val_loss: 1.4186 - val_acc: 0.5764\n",
            "Epoch 25/300\n",
            "5/5 [==============================] - 1s 236ms/step - loss: 1.3743 - acc: 0.5117 - val_loss: 1.3831 - val_acc: 0.5616\n",
            "Epoch 26/300\n",
            "5/5 [==============================] - 1s 238ms/step - loss: 1.3424 - acc: 0.5292 - val_loss: 1.3773 - val_acc: 0.5222\n",
            "Epoch 27/300\n",
            "5/5 [==============================] - 1s 240ms/step - loss: 1.2599 - acc: 0.5500 - val_loss: 1.3336 - val_acc: 0.5025\n",
            "Epoch 28/300\n",
            "5/5 [==============================] - 1s 242ms/step - loss: 1.2514 - acc: 0.5753 - val_loss: 1.3054 - val_acc: 0.5123\n",
            "Epoch 29/300\n",
            "5/5 [==============================] - 1s 244ms/step - loss: 1.1943 - acc: 0.5796 - val_loss: 1.4129 - val_acc: 0.5271\n",
            "Epoch 30/300\n",
            "5/5 [==============================] - 1s 239ms/step - loss: 1.1556 - acc: 0.6005 - val_loss: 1.5929 - val_acc: 0.5764\n",
            "Epoch 31/300\n",
            "5/5 [==============================] - 1s 242ms/step - loss: 1.1534 - acc: 0.5909 - val_loss: 1.5796 - val_acc: 0.5517\n",
            "Epoch 32/300\n",
            "5/5 [==============================] - 1s 239ms/step - loss: 1.1048 - acc: 0.6066 - val_loss: 1.4175 - val_acc: 0.5714\n",
            "Epoch 33/300\n",
            "5/5 [==============================] - 1s 240ms/step - loss: 1.0700 - acc: 0.6232 - val_loss: 1.4111 - val_acc: 0.5714\n",
            "Epoch 34/300\n",
            "5/5 [==============================] - 1s 239ms/step - loss: 1.0497 - acc: 0.6092 - val_loss: 1.3854 - val_acc: 0.5714\n",
            "Epoch 35/300\n",
            "5/5 [==============================] - 1s 240ms/step - loss: 1.0510 - acc: 0.6562 - val_loss: 1.2947 - val_acc: 0.6108\n",
            "Epoch 36/300\n",
            "5/5 [==============================] - 1s 238ms/step - loss: 1.0060 - acc: 0.6588 - val_loss: 1.2227 - val_acc: 0.6158\n",
            "Epoch 37/300\n",
            "5/5 [==============================] - 1s 246ms/step - loss: 0.9792 - acc: 0.6458 - val_loss: 1.2307 - val_acc: 0.6256\n",
            "Epoch 38/300\n",
            "5/5 [==============================] - 1s 238ms/step - loss: 0.9478 - acc: 0.6693 - val_loss: 1.2085 - val_acc: 0.6256\n",
            "Epoch 39/300\n",
            "5/5 [==============================] - 1s 236ms/step - loss: 0.9462 - acc: 0.6902 - val_loss: 1.2387 - val_acc: 0.6158\n",
            "Epoch 40/300\n",
            "5/5 [==============================] - 1s 244ms/step - loss: 0.9407 - acc: 0.6710 - val_loss: 1.1414 - val_acc: 0.6355\n",
            "Epoch 41/300\n",
            "5/5 [==============================] - 1s 243ms/step - loss: 0.8649 - acc: 0.7041 - val_loss: 1.0969 - val_acc: 0.6453\n",
            "Epoch 42/300\n",
            "5/5 [==============================] - 1s 242ms/step - loss: 0.8842 - acc: 0.6980 - val_loss: 1.1663 - val_acc: 0.6502\n",
            "Epoch 43/300\n",
            "5/5 [==============================] - 1s 236ms/step - loss: 0.8807 - acc: 0.6910 - val_loss: 1.2643 - val_acc: 0.6158\n",
            "Epoch 44/300\n",
            "5/5 [==============================] - 1s 240ms/step - loss: 0.8122 - acc: 0.7267 - val_loss: 1.1351 - val_acc: 0.6453\n",
            "Epoch 45/300\n",
            "5/5 [==============================] - 1s 242ms/step - loss: 0.7825 - acc: 0.7276 - val_loss: 1.0383 - val_acc: 0.6404\n",
            "Epoch 46/300\n",
            "5/5 [==============================] - 1s 238ms/step - loss: 0.7878 - acc: 0.7111 - val_loss: 1.0843 - val_acc: 0.6305\n",
            "Epoch 47/300\n",
            "5/5 [==============================] - 1s 243ms/step - loss: 0.8077 - acc: 0.7224 - val_loss: 1.1860 - val_acc: 0.6256\n",
            "Epoch 48/300\n",
            "5/5 [==============================] - 1s 243ms/step - loss: 0.7800 - acc: 0.7285 - val_loss: 1.2939 - val_acc: 0.6010\n",
            "Epoch 49/300\n",
            "5/5 [==============================] - 1s 237ms/step - loss: 0.7696 - acc: 0.7363 - val_loss: 1.3939 - val_acc: 0.5961\n",
            "Epoch 50/300\n",
            "5/5 [==============================] - 1s 236ms/step - loss: 0.7617 - acc: 0.7372 - val_loss: 1.4810 - val_acc: 0.6010\n",
            "Epoch 51/300\n",
            "5/5 [==============================] - 1s 234ms/step - loss: 0.7216 - acc: 0.7528 - val_loss: 1.1288 - val_acc: 0.6305\n",
            "Epoch 52/300\n",
            "5/5 [==============================] - 1s 242ms/step - loss: 0.6839 - acc: 0.7581 - val_loss: 0.9150 - val_acc: 0.6946\n",
            "Epoch 53/300\n",
            "5/5 [==============================] - 1s 243ms/step - loss: 0.6986 - acc: 0.7433 - val_loss: 0.8361 - val_acc: 0.7192\n",
            "Epoch 54/300\n",
            "5/5 [==============================] - 1s 243ms/step - loss: 0.7066 - acc: 0.7589 - val_loss: 0.8206 - val_acc: 0.7192\n",
            "Epoch 55/300\n",
            "5/5 [==============================] - 1s 245ms/step - loss: 0.6781 - acc: 0.7685 - val_loss: 0.8332 - val_acc: 0.7241\n",
            "Epoch 56/300\n",
            "5/5 [==============================] - 1s 235ms/step - loss: 0.6547 - acc: 0.7633 - val_loss: 0.8028 - val_acc: 0.7143\n",
            "Epoch 57/300\n",
            "5/5 [==============================] - 1s 239ms/step - loss: 0.5828 - acc: 0.8050 - val_loss: 0.7723 - val_acc: 0.7340\n",
            "Epoch 58/300\n",
            "5/5 [==============================] - 1s 242ms/step - loss: 0.6107 - acc: 0.7833 - val_loss: 0.7295 - val_acc: 0.7389\n",
            "Epoch 59/300\n",
            "5/5 [==============================] - 1s 241ms/step - loss: 0.6145 - acc: 0.7746 - val_loss: 0.7278 - val_acc: 0.7340\n",
            "Epoch 60/300\n",
            "5/5 [==============================] - 1s 239ms/step - loss: 0.6298 - acc: 0.7876 - val_loss: 0.7481 - val_acc: 0.7488\n",
            "Epoch 61/300\n",
            "5/5 [==============================] - 1s 236ms/step - loss: 0.6080 - acc: 0.7798 - val_loss: 0.8740 - val_acc: 0.6749\n",
            "Epoch 62/300\n",
            "5/5 [==============================] - 1s 241ms/step - loss: 0.5972 - acc: 0.8042 - val_loss: 0.8827 - val_acc: 0.6946\n",
            "Epoch 63/300\n",
            "5/5 [==============================] - 1s 240ms/step - loss: 0.5609 - acc: 0.8042 - val_loss: 0.7778 - val_acc: 0.7094\n",
            "Epoch 64/300\n",
            "5/5 [==============================] - 1s 237ms/step - loss: 0.5469 - acc: 0.8181 - val_loss: 0.7044 - val_acc: 0.7340\n",
            "Epoch 65/300\n",
            "5/5 [==============================] - 1s 240ms/step - loss: 0.5600 - acc: 0.7972 - val_loss: 0.6711 - val_acc: 0.7537\n",
            "Epoch 66/300\n",
            "5/5 [==============================] - 1s 237ms/step - loss: 0.5348 - acc: 0.8172 - val_loss: 0.6730 - val_acc: 0.7586\n",
            "Epoch 67/300\n",
            "5/5 [==============================] - 1s 241ms/step - loss: 0.5932 - acc: 0.8094 - val_loss: 0.6480 - val_acc: 0.7783\n",
            "Epoch 68/300\n",
            "5/5 [==============================] - 1s 240ms/step - loss: 0.5267 - acc: 0.8225 - val_loss: 0.6468 - val_acc: 0.7783\n",
            "Epoch 69/300\n",
            "5/5 [==============================] - 1s 240ms/step - loss: 0.5002 - acc: 0.8242 - val_loss: 0.6379 - val_acc: 0.7783\n",
            "Epoch 70/300\n",
            "5/5 [==============================] - 1s 241ms/step - loss: 0.5078 - acc: 0.8155 - val_loss: 0.6535 - val_acc: 0.7833\n",
            "Epoch 71/300\n",
            "5/5 [==============================] - 1s 240ms/step - loss: 0.5547 - acc: 0.8050 - val_loss: 0.5835 - val_acc: 0.7734\n",
            "Epoch 72/300\n",
            "5/5 [==============================] - 1s 243ms/step - loss: 0.5632 - acc: 0.7920 - val_loss: 0.5878 - val_acc: 0.7833\n",
            "Epoch 73/300\n",
            "5/5 [==============================] - 1s 241ms/step - loss: 0.5143 - acc: 0.8242 - val_loss: 0.5847 - val_acc: 0.8030\n",
            "Epoch 74/300\n",
            "5/5 [==============================] - 1s 239ms/step - loss: 0.5057 - acc: 0.8216 - val_loss: 0.5614 - val_acc: 0.7833\n",
            "Epoch 75/300\n",
            "5/5 [==============================] - 1s 237ms/step - loss: 0.4510 - acc: 0.8329 - val_loss: 0.5683 - val_acc: 0.7734\n",
            "Epoch 76/300\n",
            "5/5 [==============================] - 1s 235ms/step - loss: 0.4733 - acc: 0.8303 - val_loss: 0.5509 - val_acc: 0.7931\n",
            "Epoch 77/300\n",
            "5/5 [==============================] - 1s 233ms/step - loss: 0.5094 - acc: 0.8268 - val_loss: 0.5694 - val_acc: 0.7882\n",
            "Epoch 78/300\n",
            "5/5 [==============================] - 1s 235ms/step - loss: 0.5075 - acc: 0.8225 - val_loss: 0.5539 - val_acc: 0.7931\n",
            "Epoch 79/300\n",
            "5/5 [==============================] - 1s 235ms/step - loss: 0.5057 - acc: 0.8364 - val_loss: 0.5610 - val_acc: 0.7783\n",
            "Epoch 80/300\n",
            "5/5 [==============================] - 1s 232ms/step - loss: 0.5012 - acc: 0.8242 - val_loss: 0.6296 - val_acc: 0.7783\n",
            "Epoch 81/300\n",
            "5/5 [==============================] - 1s 241ms/step - loss: 0.5607 - acc: 0.8190 - val_loss: 0.6822 - val_acc: 0.7537\n",
            "Epoch 82/300\n",
            "5/5 [==============================] - 1s 236ms/step - loss: 0.5040 - acc: 0.8329 - val_loss: 0.6738 - val_acc: 0.7685\n",
            "Epoch 83/300\n",
            "5/5 [==============================] - 1s 237ms/step - loss: 0.4442 - acc: 0.8468 - val_loss: 0.6672 - val_acc: 0.7734\n",
            "Epoch 84/300\n",
            "5/5 [==============================] - 1s 238ms/step - loss: 0.4450 - acc: 0.8634 - val_loss: 0.6411 - val_acc: 0.7931\n",
            "Epoch 85/300\n",
            "5/5 [==============================] - 1s 235ms/step - loss: 0.4768 - acc: 0.8503 - val_loss: 0.6281 - val_acc: 0.8030\n",
            "Epoch 86/300\n",
            "5/5 [==============================] - 1s 241ms/step - loss: 0.4848 - acc: 0.8399 - val_loss: 0.6448 - val_acc: 0.8079\n",
            "Epoch 87/300\n",
            "5/5 [==============================] - 1s 238ms/step - loss: 0.4418 - acc: 0.8538 - val_loss: 0.6325 - val_acc: 0.7980\n",
            "Epoch 88/300\n",
            "5/5 [==============================] - 1s 237ms/step - loss: 0.4303 - acc: 0.8477 - val_loss: 0.6125 - val_acc: 0.7931\n",
            "Epoch 89/300\n",
            "5/5 [==============================] - 1s 243ms/step - loss: 0.4502 - acc: 0.8590 - val_loss: 0.6050 - val_acc: 0.8227\n",
            "Epoch 90/300\n",
            "5/5 [==============================] - 1s 243ms/step - loss: 0.4874 - acc: 0.8346 - val_loss: 0.6097 - val_acc: 0.7833\n",
            "Epoch 91/300\n",
            "5/5 [==============================] - 1s 237ms/step - loss: 0.4792 - acc: 0.8529 - val_loss: 0.5861 - val_acc: 0.7882\n",
            "Epoch 92/300\n",
            "5/5 [==============================] - 1s 242ms/step - loss: 0.4748 - acc: 0.8442 - val_loss: 0.5512 - val_acc: 0.8177\n",
            "Epoch 93/300\n",
            "5/5 [==============================] - 1s 237ms/step - loss: 0.4583 - acc: 0.8520 - val_loss: 0.5718 - val_acc: 0.8030\n",
            "Epoch 94/300\n",
            "5/5 [==============================] - 1s 240ms/step - loss: 0.4784 - acc: 0.8494 - val_loss: 0.5954 - val_acc: 0.7833\n",
            "Epoch 95/300\n",
            "5/5 [==============================] - 1s 234ms/step - loss: 0.4674 - acc: 0.8486 - val_loss: 0.5469 - val_acc: 0.8030\n",
            "Epoch 96/300\n",
            "5/5 [==============================] - 1s 239ms/step - loss: 0.4300 - acc: 0.8590 - val_loss: 0.5832 - val_acc: 0.7980\n",
            "Epoch 97/300\n",
            "5/5 [==============================] - 1s 236ms/step - loss: 0.4623 - acc: 0.8372 - val_loss: 0.6304 - val_acc: 0.8030\n",
            "Epoch 98/300\n",
            "5/5 [==============================] - 1s 241ms/step - loss: 0.4297 - acc: 0.8581 - val_loss: 0.6225 - val_acc: 0.8030\n",
            "Epoch 99/300\n",
            "5/5 [==============================] - 1s 239ms/step - loss: 0.4339 - acc: 0.8590 - val_loss: 0.6206 - val_acc: 0.7734\n",
            "Epoch 100/300\n",
            "5/5 [==============================] - 1s 237ms/step - loss: 0.4624 - acc: 0.8451 - val_loss: 0.6250 - val_acc: 0.7931\n",
            "Epoch 101/300\n",
            "5/5 [==============================] - 1s 237ms/step - loss: 0.3954 - acc: 0.8668 - val_loss: 0.6107 - val_acc: 0.7882\n",
            "Epoch 102/300\n",
            "5/5 [==============================] - 1s 240ms/step - loss: 0.4273 - acc: 0.8564 - val_loss: 0.6324 - val_acc: 0.7783\n",
            "Epoch 103/300\n",
            "5/5 [==============================] - 1s 240ms/step - loss: 0.4062 - acc: 0.8703 - val_loss: 0.6356 - val_acc: 0.7882\n",
            "Epoch 104/300\n",
            "5/5 [==============================] - 1s 239ms/step - loss: 0.4185 - acc: 0.8660 - val_loss: 0.6547 - val_acc: 0.7635\n",
            "Epoch 105/300\n",
            "5/5 [==============================] - 1s 238ms/step - loss: 0.4574 - acc: 0.8512 - val_loss: 0.5907 - val_acc: 0.7833\n",
            "Epoch 106/300\n",
            "5/5 [==============================] - 1s 238ms/step - loss: 0.3955 - acc: 0.8607 - val_loss: 0.5653 - val_acc: 0.7980\n",
            "Epoch 107/300\n",
            "5/5 [==============================] - 1s 240ms/step - loss: 0.4147 - acc: 0.8538 - val_loss: 0.5619 - val_acc: 0.8177\n",
            "Epoch 108/300\n",
            "5/5 [==============================] - 1s 241ms/step - loss: 0.4243 - acc: 0.8520 - val_loss: 0.5581 - val_acc: 0.8276\n",
            "Epoch 109/300\n",
            "5/5 [==============================] - 1s 245ms/step - loss: 0.4220 - acc: 0.8607 - val_loss: 0.5548 - val_acc: 0.8325\n",
            "Epoch 110/300\n",
            "5/5 [==============================] - 1s 236ms/step - loss: 0.3923 - acc: 0.8660 - val_loss: 0.5579 - val_acc: 0.8325\n",
            "Epoch 111/300\n",
            "5/5 [==============================] - 1s 237ms/step - loss: 0.4154 - acc: 0.8668 - val_loss: 0.5649 - val_acc: 0.8325\n",
            "Epoch 112/300\n",
            "5/5 [==============================] - 1s 239ms/step - loss: 0.4124 - acc: 0.8782 - val_loss: 0.5400 - val_acc: 0.8276\n",
            "Epoch 113/300\n",
            "5/5 [==============================] - 1s 240ms/step - loss: 0.3907 - acc: 0.8668 - val_loss: 0.5426 - val_acc: 0.8325\n",
            "Epoch 114/300\n",
            "5/5 [==============================] - 1s 241ms/step - loss: 0.3959 - acc: 0.8660 - val_loss: 0.5439 - val_acc: 0.8325\n",
            "Epoch 115/300\n",
            "5/5 [==============================] - 1s 240ms/step - loss: 0.3711 - acc: 0.8703 - val_loss: 0.5317 - val_acc: 0.8473\n",
            "Epoch 116/300\n",
            "5/5 [==============================] - 1s 240ms/step - loss: 0.4154 - acc: 0.8555 - val_loss: 0.5553 - val_acc: 0.8276\n",
            "Epoch 117/300\n",
            "5/5 [==============================] - 1s 241ms/step - loss: 0.4470 - acc: 0.8599 - val_loss: 0.5867 - val_acc: 0.8325\n",
            "Epoch 118/300\n",
            "5/5 [==============================] - 1s 239ms/step - loss: 0.3740 - acc: 0.8703 - val_loss: 0.5990 - val_acc: 0.8177\n",
            "Epoch 119/300\n",
            "5/5 [==============================] - 1s 237ms/step - loss: 0.3657 - acc: 0.8686 - val_loss: 0.6127 - val_acc: 0.8177\n",
            "Epoch 120/300\n",
            "5/5 [==============================] - 1s 238ms/step - loss: 0.4414 - acc: 0.8538 - val_loss: 0.5577 - val_acc: 0.8522\n",
            "Epoch 121/300\n",
            "5/5 [==============================] - 1s 236ms/step - loss: 0.4122 - acc: 0.8599 - val_loss: 0.5523 - val_acc: 0.8424\n",
            "Epoch 122/300\n",
            "5/5 [==============================] - 1s 237ms/step - loss: 0.3566 - acc: 0.8895 - val_loss: 0.6384 - val_acc: 0.8276\n",
            "Epoch 123/300\n",
            "5/5 [==============================] - 1s 240ms/step - loss: 0.3814 - acc: 0.8721 - val_loss: 0.6991 - val_acc: 0.7980\n",
            "Epoch 124/300\n",
            "5/5 [==============================] - 1s 239ms/step - loss: 0.4050 - acc: 0.8695 - val_loss: 0.6463 - val_acc: 0.8227\n",
            "Epoch 125/300\n",
            "5/5 [==============================] - 1s 243ms/step - loss: 0.3925 - acc: 0.8703 - val_loss: 0.6030 - val_acc: 0.8177\n",
            "Epoch 126/300\n",
            "5/5 [==============================] - 1s 238ms/step - loss: 0.4275 - acc: 0.8686 - val_loss: 0.5874 - val_acc: 0.8128\n",
            "Epoch 127/300\n",
            "5/5 [==============================] - 1s 237ms/step - loss: 0.3627 - acc: 0.8851 - val_loss: 0.5913 - val_acc: 0.8177\n",
            "Epoch 128/300\n",
            "5/5 [==============================] - 1s 242ms/step - loss: 0.3714 - acc: 0.8816 - val_loss: 0.5851 - val_acc: 0.8227\n",
            "Epoch 129/300\n",
            "5/5 [==============================] - 1s 238ms/step - loss: 0.3312 - acc: 0.8956 - val_loss: 0.5578 - val_acc: 0.8473\n",
            "Epoch 130/300\n",
            "5/5 [==============================] - 1s 238ms/step - loss: 0.3678 - acc: 0.8869 - val_loss: 0.5555 - val_acc: 0.8374\n",
            "Epoch 131/300\n",
            "5/5 [==============================] - 1s 239ms/step - loss: 0.3536 - acc: 0.8816 - val_loss: 0.6048 - val_acc: 0.8325\n",
            "Epoch 132/300\n",
            "5/5 [==============================] - 1s 240ms/step - loss: 0.3716 - acc: 0.8790 - val_loss: 0.6502 - val_acc: 0.8374\n",
            "Epoch 133/300\n",
            "5/5 [==============================] - 1s 237ms/step - loss: 0.3576 - acc: 0.8921 - val_loss: 0.6716 - val_acc: 0.8325\n",
            "Epoch 134/300\n",
            "5/5 [==============================] - 1s 242ms/step - loss: 0.3626 - acc: 0.8825 - val_loss: 0.6651 - val_acc: 0.8276\n",
            "Epoch 135/300\n",
            "5/5 [==============================] - 1s 238ms/step - loss: 0.3784 - acc: 0.8773 - val_loss: 0.6565 - val_acc: 0.8227\n",
            "Epoch 136/300\n",
            "5/5 [==============================] - 1s 237ms/step - loss: 0.3498 - acc: 0.8877 - val_loss: 0.6749 - val_acc: 0.8374\n",
            "Epoch 137/300\n",
            "5/5 [==============================] - 1s 238ms/step - loss: 0.3317 - acc: 0.8956 - val_loss: 0.6659 - val_acc: 0.8374\n",
            "Epoch 138/300\n",
            "5/5 [==============================] - 1s 239ms/step - loss: 0.3718 - acc: 0.8816 - val_loss: 0.6311 - val_acc: 0.8374\n",
            "Epoch 139/300\n",
            "5/5 [==============================] - 1s 235ms/step - loss: 0.3555 - acc: 0.8799 - val_loss: 0.6138 - val_acc: 0.8325\n",
            "Epoch 140/300\n",
            "5/5 [==============================] - 1s 238ms/step - loss: 0.3794 - acc: 0.8851 - val_loss: 0.6311 - val_acc: 0.8177\n",
            "Epoch 141/300\n",
            "5/5 [==============================] - 1s 242ms/step - loss: 0.3172 - acc: 0.8903 - val_loss: 0.6385 - val_acc: 0.8276\n",
            "Epoch 142/300\n",
            "5/5 [==============================] - 1s 242ms/step - loss: 0.3111 - acc: 0.8964 - val_loss: 0.6110 - val_acc: 0.8325\n",
            "Epoch 143/300\n",
            "5/5 [==============================] - 1s 240ms/step - loss: 0.3068 - acc: 0.9051 - val_loss: 0.6518 - val_acc: 0.8424\n",
            "Epoch 144/300\n",
            "5/5 [==============================] - 1s 239ms/step - loss: 0.3766 - acc: 0.8895 - val_loss: 0.6811 - val_acc: 0.8325\n",
            "Epoch 145/300\n",
            "5/5 [==============================] - 1s 237ms/step - loss: 0.3155 - acc: 0.8999 - val_loss: 0.6731 - val_acc: 0.8325\n",
            "Epoch 146/300\n",
            "5/5 [==============================] - 1s 241ms/step - loss: 0.3551 - acc: 0.8886 - val_loss: 0.6542 - val_acc: 0.8473\n",
            "Epoch 147/300\n",
            "5/5 [==============================] - 1s 240ms/step - loss: 0.2992 - acc: 0.9112 - val_loss: 0.6594 - val_acc: 0.8473\n",
            "Epoch 148/300\n",
            "5/5 [==============================] - 1s 240ms/step - loss: 0.3179 - acc: 0.8999 - val_loss: 0.6619 - val_acc: 0.8424\n",
            "Epoch 149/300\n",
            "5/5 [==============================] - 1s 239ms/step - loss: 0.3353 - acc: 0.8921 - val_loss: 0.6661 - val_acc: 0.8424\n",
            "Epoch 150/300\n",
            "5/5 [==============================] - 1s 239ms/step - loss: 0.3156 - acc: 0.8982 - val_loss: 0.6037 - val_acc: 0.8473\n",
            "Epoch 151/300\n",
            "5/5 [==============================] - 1s 244ms/step - loss: 0.3550 - acc: 0.8877 - val_loss: 0.5497 - val_acc: 0.8571\n",
            "Epoch 152/300\n",
            "5/5 [==============================] - 1s 237ms/step - loss: 0.3651 - acc: 0.8990 - val_loss: 0.5435 - val_acc: 0.8571\n",
            "Epoch 153/300\n",
            "5/5 [==============================] - 1s 241ms/step - loss: 0.3403 - acc: 0.8964 - val_loss: 0.5954 - val_acc: 0.8473\n",
            "Epoch 154/300\n",
            "5/5 [==============================] - 1s 241ms/step - loss: 0.3173 - acc: 0.9034 - val_loss: 0.6531 - val_acc: 0.8374\n",
            "Epoch 155/300\n",
            "5/5 [==============================] - 1s 239ms/step - loss: 0.3126 - acc: 0.8999 - val_loss: 0.6258 - val_acc: 0.8424\n",
            "Epoch 156/300\n",
            "5/5 [==============================] - 1s 238ms/step - loss: 0.2657 - acc: 0.9182 - val_loss: 0.6145 - val_acc: 0.8424\n",
            "Epoch 157/300\n",
            "5/5 [==============================] - 1s 239ms/step - loss: 0.3431 - acc: 0.8938 - val_loss: 0.6338 - val_acc: 0.8424\n",
            "Epoch 158/300\n",
            "5/5 [==============================] - 1s 237ms/step - loss: 0.3002 - acc: 0.9182 - val_loss: 0.6553 - val_acc: 0.8424\n",
            "Epoch 159/300\n",
            "5/5 [==============================] - 1s 237ms/step - loss: 0.3150 - acc: 0.9060 - val_loss: 0.6773 - val_acc: 0.8473\n",
            "Epoch 160/300\n",
            "5/5 [==============================] - 1s 241ms/step - loss: 0.3077 - acc: 0.9017 - val_loss: 0.6400 - val_acc: 0.8473\n",
            "Epoch 161/300\n",
            "5/5 [==============================] - 1s 240ms/step - loss: 0.3377 - acc: 0.9008 - val_loss: 0.6192 - val_acc: 0.8473\n",
            "Epoch 162/300\n",
            "5/5 [==============================] - 1s 236ms/step - loss: 0.3099 - acc: 0.9077 - val_loss: 0.6167 - val_acc: 0.8473\n",
            "Epoch 163/300\n",
            "5/5 [==============================] - 1s 240ms/step - loss: 0.2992 - acc: 0.9086 - val_loss: 0.6392 - val_acc: 0.8473\n",
            "Epoch 164/300\n",
            "5/5 [==============================] - 1s 237ms/step - loss: 0.3346 - acc: 0.8956 - val_loss: 0.6458 - val_acc: 0.8374\n",
            "Epoch 165/300\n",
            "5/5 [==============================] - 1s 234ms/step - loss: 0.3084 - acc: 0.9051 - val_loss: 0.6379 - val_acc: 0.8374\n",
            "Epoch 166/300\n",
            "5/5 [==============================] - 1s 235ms/step - loss: 0.3097 - acc: 0.9017 - val_loss: 0.7213 - val_acc: 0.8227\n",
            "Epoch 167/300\n",
            "5/5 [==============================] - 1s 243ms/step - loss: 0.3432 - acc: 0.9043 - val_loss: 0.7205 - val_acc: 0.8276\n",
            "Epoch 168/300\n",
            "5/5 [==============================] - 1s 240ms/step - loss: 0.3080 - acc: 0.9017 - val_loss: 0.6279 - val_acc: 0.8325\n",
            "Epoch 169/300\n",
            "5/5 [==============================] - 1s 242ms/step - loss: 0.3066 - acc: 0.9008 - val_loss: 0.5779 - val_acc: 0.8374\n",
            "Epoch 170/300\n",
            "5/5 [==============================] - 1s 235ms/step - loss: 0.3029 - acc: 0.9025 - val_loss: 0.5997 - val_acc: 0.8374\n",
            "Epoch 171/300\n",
            "5/5 [==============================] - 1s 237ms/step - loss: 0.3158 - acc: 0.9086 - val_loss: 0.6297 - val_acc: 0.8374\n",
            "Epoch 172/300\n",
            "5/5 [==============================] - 1s 237ms/step - loss: 0.3015 - acc: 0.9069 - val_loss: 0.7411 - val_acc: 0.8276\n",
            "Epoch 173/300\n",
            "5/5 [==============================] - 1s 239ms/step - loss: 0.3202 - acc: 0.9025 - val_loss: 0.7219 - val_acc: 0.8177\n",
            "Epoch 174/300\n",
            "5/5 [==============================] - 1s 242ms/step - loss: 0.3058 - acc: 0.9069 - val_loss: 0.6687 - val_acc: 0.8227\n",
            "Epoch 175/300\n",
            "5/5 [==============================] - 1s 236ms/step - loss: 0.2947 - acc: 0.9121 - val_loss: 0.6903 - val_acc: 0.8276\n",
            "Epoch 176/300\n",
            "5/5 [==============================] - 1s 240ms/step - loss: 0.3045 - acc: 0.8990 - val_loss: 0.7031 - val_acc: 0.8128\n",
            "Epoch 177/300\n",
            "5/5 [==============================] - 1s 241ms/step - loss: 0.2952 - acc: 0.9156 - val_loss: 0.7347 - val_acc: 0.8227\n",
            "Epoch 178/300\n",
            "5/5 [==============================] - 1s 243ms/step - loss: 0.3090 - acc: 0.8990 - val_loss: 0.7084 - val_acc: 0.8227\n",
            "Epoch 179/300\n",
            "5/5 [==============================] - 1s 237ms/step - loss: 0.2723 - acc: 0.9086 - val_loss: 0.6211 - val_acc: 0.8177\n",
            "Epoch 180/300\n",
            "5/5 [==============================] - 1s 238ms/step - loss: 0.3196 - acc: 0.9069 - val_loss: 0.5790 - val_acc: 0.8424\n",
            "Epoch 181/300\n",
            "5/5 [==============================] - 1s 239ms/step - loss: 0.2949 - acc: 0.9182 - val_loss: 0.5970 - val_acc: 0.8374\n",
            "Epoch 182/300\n",
            "5/5 [==============================] - 1s 240ms/step - loss: 0.2844 - acc: 0.9086 - val_loss: 0.6141 - val_acc: 0.8424\n",
            "Epoch 183/300\n",
            "5/5 [==============================] - 1s 237ms/step - loss: 0.3619 - acc: 0.8973 - val_loss: 0.6368 - val_acc: 0.8325\n",
            "Epoch 184/300\n",
            "5/5 [==============================] - 1s 237ms/step - loss: 0.2798 - acc: 0.8999 - val_loss: 0.7137 - val_acc: 0.8128\n",
            "Epoch 185/300\n",
            "5/5 [==============================] - 1s 235ms/step - loss: 0.2607 - acc: 0.9199 - val_loss: 0.6904 - val_acc: 0.8276\n",
            "Epoch 186/300\n",
            "5/5 [==============================] - 1s 233ms/step - loss: 0.3270 - acc: 0.9025 - val_loss: 0.6540 - val_acc: 0.8374\n",
            "Epoch 187/300\n",
            "5/5 [==============================] - 1s 237ms/step - loss: 0.2987 - acc: 0.9043 - val_loss: 0.6847 - val_acc: 0.8325\n",
            "Epoch 188/300\n",
            "5/5 [==============================] - 1s 235ms/step - loss: 0.2673 - acc: 0.9138 - val_loss: 0.7267 - val_acc: 0.8128\n",
            "Epoch 189/300\n",
            "5/5 [==============================] - 1s 234ms/step - loss: 0.2827 - acc: 0.9173 - val_loss: 0.7548 - val_acc: 0.8177\n",
            "Epoch 190/300\n",
            "5/5 [==============================] - 1s 230ms/step - loss: 0.3197 - acc: 0.9008 - val_loss: 0.7507 - val_acc: 0.8325\n",
            "Epoch 191/300\n",
            "5/5 [==============================] - 1s 235ms/step - loss: 0.2901 - acc: 0.9095 - val_loss: 0.7385 - val_acc: 0.8177\n",
            "Epoch 192/300\n",
            "5/5 [==============================] - 1s 234ms/step - loss: 0.2890 - acc: 0.9164 - val_loss: 0.7528 - val_acc: 0.8079\n",
            "Epoch 193/300\n",
            "5/5 [==============================] - 1s 234ms/step - loss: 0.3295 - acc: 0.8990 - val_loss: 0.6924 - val_acc: 0.8079\n",
            "Epoch 194/300\n",
            "5/5 [==============================] - 1s 238ms/step - loss: 0.2829 - acc: 0.9121 - val_loss: 0.6109 - val_acc: 0.8227\n",
            "Epoch 195/300\n",
            "5/5 [==============================] - 1s 238ms/step - loss: 0.2814 - acc: 0.9147 - val_loss: 0.5918 - val_acc: 0.8424\n",
            "Epoch 196/300\n",
            "5/5 [==============================] - 1s 244ms/step - loss: 0.2575 - acc: 0.9278 - val_loss: 0.6389 - val_acc: 0.8424\n",
            "Epoch 197/300\n",
            "5/5 [==============================] - 1s 241ms/step - loss: 0.2956 - acc: 0.9025 - val_loss: 0.6452 - val_acc: 0.8325\n",
            "Epoch 198/300\n",
            "5/5 [==============================] - 1s 238ms/step - loss: 0.2788 - acc: 0.9217 - val_loss: 0.6510 - val_acc: 0.8325\n",
            "Epoch 199/300\n",
            "5/5 [==============================] - 1s 238ms/step - loss: 0.3109 - acc: 0.9025 - val_loss: 0.5971 - val_acc: 0.8424\n",
            "Epoch 200/300\n",
            "5/5 [==============================] - 1s 239ms/step - loss: 0.2841 - acc: 0.9095 - val_loss: 0.6130 - val_acc: 0.8473\n",
            "Epoch 201/300\n",
            "5/5 [==============================] - 1s 245ms/step - loss: 0.2818 - acc: 0.9225 - val_loss: 0.6471 - val_acc: 0.8276\n"
          ]
        }
      ],
      "source": [
        "X_train = train_data.paper_id.to_numpy()\n",
        "history = run_experiment(gnn_model, X_train, Y_train)"
      ]
    },
    {
      "cell_type": "markdown",
      "metadata": {
        "id": "s7EMQG8bU8o5"
      },
      "source": [
        "Let's plot the learning curves"
      ]
    },
    {
      "cell_type": "code",
      "execution_count": 105,
      "metadata": {
        "id": "2MG06P_1U8o5",
        "outputId": "6abe6dad-12a8-4609-bdb5-bfe371d2d7f8",
        "colab": {
          "base_uri": "https://localhost:8080/",
          "height": 334
        }
      },
      "outputs": [
        {
          "output_type": "display_data",
          "data": {
            "image/png": "[encoded data removed]",
            "text/plain": [
              "<Figure size 1080x360 with 2 Axes>"
            ]
          },
          "metadata": {
            "needs_background": "light"
          }
        }
      ],
      "source": [
        "display_learning_curves(history)"
      ]
    },
    {
      "cell_type": "markdown",
      "metadata": {
        "id": "hVYz9bN2U8o5"
      },
      "source": [
        "Now we evaluate the GNN model on the test data split.\n",
        "The results may vary depending on the training sample, however the GNN model always outperforms\n",
        "the baseline model in terms of the test accuracy."
      ]
    },
    {
      "cell_type": "code",
      "execution_count": 106,
      "metadata": {
        "id": "eeYUZfvCU8o5",
        "outputId": "a324fffb-1cf8-416b-d0ac-939bb4719cbe",
        "colab": {
          "base_uri": "https://localhost:8080/"
        }
      },
      "outputs": [
        {
          "output_type": "stream",
          "name": "stdout",
          "text": [
            "Test accuracy: 83.33%\n"
          ]
        }
      ],
      "source": [
        "X_test = test_data.paper_id.to_numpy()\n",
        "_, test_accuracy = gnn_model.evaluate(x=X_test, y=Y_test, verbose=0)\n",
        "print(f\"Test accuracy: {round(test_accuracy * 100, 2)}%\")"
      ]
    },
    {
      "cell_type": "markdown",
      "metadata": {
        "id": "XODqudjPU8o6"
      },
      "source": [
        "### Examine the GNN model predictions\n",
        "\n",
        "Let's add the new instances as nodes to the `node_features`, and generate links\n",
        "(citations) to existing nodes."
      ]
    },
    {
      "cell_type": "code",
      "execution_count": 30,
      "metadata": {
        "id": "G5WKP1PIU8o6"
      },
      "outputs": [],
      "source": [
        "# First we add the N new_instances as nodes to the graph\n",
        "# by appending the new_instance to node_features.\n",
        "num_nodes = node_features.shape[0]\n",
        "new_node_features = np.concatenate([node_features, new_instances])\n",
        "# Second we add the M edges (citations) from each new node to a set\n",
        "# of existing nodes in a particular subject\n",
        "new_node_indices = [i + num_nodes for i in range(num_classes)]\n",
        "new_citations = []\n",
        "for subject_idx, group in papers.groupby(\"subject\"):\n",
        "    subject_papers = list(group.paper_id)\n",
        "    # Select random x papers specific subject.\n",
        "    selected_paper_indices1 = np.random.choice(subject_papers, 5)\n",
        "    # Select random y papers from any subject (where y < x).\n",
        "    selected_paper_indices2 = np.random.choice(list(papers.paper_id), 2)\n",
        "    # Merge the selected paper indices.\n",
        "    selected_paper_indices = np.concatenate(\n",
        "        [selected_paper_indices1, selected_paper_indices2], axis=0\n",
        "    )\n",
        "    # Create edges between a citing paper idx and the selected cited papers.\n",
        "    citing_paper_indx = new_node_indices[subject_idx]\n",
        "    for cited_paper_idx in selected_paper_indices:\n",
        "        new_citations.append([citing_paper_indx, cited_paper_idx])\n",
        "\n",
        "new_citations = np.array(new_citations).T\n",
        "new_edges = np.concatenate([edges, new_citations], axis=1)"
      ]
    },
    {
      "cell_type": "markdown",
      "metadata": {
        "id": "4kMWukNiU8o6"
      },
      "source": [
        "Now let's update the `node_features` and the `edges` in the GNN model."
      ]
    },
    {
      "cell_type": "code",
      "execution_count": null,
      "metadata": {
        "id": "oYeqE-XMU8o6"
      },
      "outputs": [],
      "source": [
        "print(\"Original node_features shape:\", gnn_model.node_features.shape)\n",
        "print(\"Original edges shape:\", gnn_model.edges.shape)\n",
        "gnn_model.node_features = new_node_features\n",
        "gnn_model.edges = new_edges\n",
        "gnn_model.edge_weights = tf.ones(shape=new_edges.shape[1])\n",
        "print(\"New node_features shape:\", gnn_model.node_features.shape)\n",
        "print(\"New edges shape:\", gnn_model.edges.shape)\n",
        "\n",
        "logits = gnn_model.predict(tf.convert_to_tensor(new_node_indices))\n",
        "probabilities = keras.activations.softmax(tf.convert_to_tensor(logits)).numpy()\n",
        "display_class_probabilities(probabilities)"
      ]
    },
    {
      "cell_type": "markdown",
      "metadata": {
        "id": "8dnWyRWwU8o7"
      },
      "source": [
        "Notice that the probabilities of the expected subjects\n",
        "(to which several citations are added) are higher compared to the baseline model."
      ]
    }
  ],
  "metadata": {
    "colab": {
      "collapsed_sections": [],
      "name": "gnn_citations",
      "provenance": []
    },
    "kernelspec": {
      "display_name": "Python 3",
      "language": "python",
      "name": "python3"
    },
    "language_info": {
      "codemirror_mode": {
        "name": "ipython",
        "version": 3
      },
      "file_extension": ".py",
      "mimetype": "text/x-python",
      "name": "python",
      "nbconvert_exporter": "python",
      "pygments_lexer": "ipython3",
      "version": "3.7.0"
    }
  },
  "nbformat": 4,
  "nbformat_minor": 0
}