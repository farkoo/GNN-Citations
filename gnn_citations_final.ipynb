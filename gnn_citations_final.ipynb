{
  "cells": [
    {
      "cell_type": "markdown",
      "metadata": {
        "id": "view-in-github",
        "colab_type": "text"
      },
      "source": [
        "<a href=\"https://colab.research.google.com/github/farkoo/GNN-Citations/blob/master/gnn_citations_final.ipynb\" target=\"_parent\"><img src=\"https://colab.research.google.com/assets/colab-badge.svg\" alt=\"Open In Colab\"/></a>"
      ]
    },
    {
      "cell_type": "markdown",
      "metadata": {
        "id": "9z47kkx5U8oR"
      },
      "source": [
        "# Node Classification with Graph Neural Networks\n"
      ]
    },
    {
      "cell_type": "markdown",
      "metadata": {
        "id": "0Z9h5WdLU8oa"
      },
      "source": [
        "## معرفی\n",
        "<div dir=rtl>\n",
        "در این پروژه یک مقایسه ی ساده بین معیارهای سنتی و روش های مبتنی بر شبکه‌های عصبی برای عمل node classification انجام شده است. دیتاستی که برای این کار استفاده \n",
        "شده است دیتاست cora است و عمل مورد نظر تخمین موضوع مقاله با استفاده از شبکه‌ی ارجاعات و کلمات استفاده شده در مقاله است. \n",
        "</div>\n"
      ]
    },
    {
      "cell_type": "markdown",
      "metadata": {
        "id": "ZGZGwyJfU8ob"
      },
      "source": [
        "## Setup"
      ]
    },
    {
      "cell_type": "code",
      "execution_count": null,
      "metadata": {
        "id": "lIA3R-nyU8od"
      },
      "outputs": [],
      "source": [
        "import os\n",
        "import pandas as pd\n",
        "import numpy as np\n",
        "import networkx as nx\n",
        "import matplotlib.pyplot as plt\n",
        "import seaborn as sns\n",
        "import tensorflow as tf\n",
        "from tensorflow import keras\n",
        "from tensorflow.keras import layers\n",
        "from sklearn.model_selection import train_test_split\n",
        "from sklearn.ensemble import RandomForestClassifier\n",
        "from sklearn.svm import SVC  \n",
        "from sklearn import metrics"
      ]
    },
    {
      "cell_type": "markdown",
      "metadata": {
        "id": "SmoA8-WDU8og"
      },
      "source": [
        "## آماده سازی دیتاست\n",
        "\n",
        "<div dir=rtl>\n",
        "دیتاست cora شامل 2708 مقاله‌ی علمی است که در 7 کلاس دسته‌بندی شده اند. شبکه‌ی ارجاعات شامل 5429 لینک بین مقالات است. برای هر مقاله یک وکتور باینری به اندازه‌ی 1433 وجود دارد که هر درایه‌ی آن وجود یا عدم وجود یک کلمه را در متن نشان می‌دهد. \n",
        "</div>\n",
        "\n",
        "### دانلود دیتاست\n",
        "\n",
        "<div dir=rtl>\n",
        "مجموعه داده دارای دو فایل جداگانه است: «cora.cites» و «cora.content».\n",
        "\n",
        "1. «cora.cites» شامل رکوردهای ارجاع با دو ستون است:\n",
        "مقاله‌ی ارجاع دهنده و مقاله‌ی ارجاع شده\n",
        "2. «cora.content» شامل رکوردهای محتوی مقالات با 1435 ستون است: ID مقاله، موضوع و 1433 ویژگی باینری.\n",
        "\n",
        "<div>"
      ]
    },
    {
      "cell_type": "code",
      "execution_count": null,
      "metadata": {
        "id": "8dMFCeAoU8oi"
      },
      "outputs": [],
      "source": [
        "zip_file = keras.utils.get_file(\n",
        "    fname=\"cora.tgz\",\n",
        "    origin=\"https://linqs-data.soe.ucsc.edu/public/lbc/cora.tgz\",\n",
        "    extract=True,\n",
        ")\n",
        "data_dir = os.path.join(os.path.dirname(zip_file), \"cora\")"
      ]
    },
    {
      "cell_type": "markdown",
      "metadata": {
        "id": "A2S1ZTPnU8oj"
      },
      "source": [
        "### پردازش و ترسیم دیتاست\n",
        "\n",
        "<div dir=rtl>\n",
        "در این قسمت شبکه‌ی ارجاعات درون یک DataFrame بارگذاری می‌شود.\n",
        "<div>\n"
      ]
    },
    {
      "cell_type": "code",
      "execution_count": null,
      "metadata": {
        "colab": {
          "base_uri": "https://localhost:8080/"
        },
        "id": "zkHbBpOIU8ok",
        "outputId": "c422dc85-b25d-4320-e957-e77bd377ed82"
      },
      "outputs": [
        {
          "output_type": "stream",
          "name": "stdout",
          "text": [
            "Citations shape: (5429, 2)\n"
          ]
        }
      ],
      "source": [
        "citations = pd.read_csv(\n",
        "    os.path.join(data_dir, \"cora.cites\"),\n",
        "    sep=\"\\t\",\n",
        "    names=[\"target\", \"source\"],\n",
        ")\n",
        "print(\"Citations shape:\", citations.shape)"
      ]
    },
    {
      "cell_type": "markdown",
      "metadata": {
        "id": "S3Fb_hspU8ok"
      },
      "source": [
        "<div dir=rtl>\n",
        "اکنون نمونه ای از ارجاعات DataFrame را نمایش می دهیم. ستون هدف شامل شناسه‌ی مقالاتی است که توسط مقاله‌هایی که شناسه‌ی آن‌ها در ستون منبع آمده است؛ به آن‌ها ارجاع داده شده است.\n",
        "</div>"
      ]
    },
    {
      "cell_type": "code",
      "execution_count": null,
      "metadata": {
        "colab": {
          "base_uri": "https://localhost:8080/",
          "height": 206
        },
        "id": "-ETbbnOOU8ol",
        "outputId": "cb18e4a4-ee38-45b0-c52d-2d65f18dac76"
      },
      "outputs": [
        {
          "output_type": "execute_result",
          "data": {
            "text/html": [
              "\n",
              "  <div id=\"df-7da2f1eb-e41c-4c59-bd5b-c34a640b59a2\">\n",
              "    <div class=\"colab-df-container\">\n",
              "      <div>\n",
              "<style scoped>\n",
              "    .dataframe tbody tr th:only-of-type {\n",
              "        vertical-align: middle;\n",
              "    }\n",
              "\n",
              "    .dataframe tbody tr th {\n",
              "        vertical-align: top;\n",
              "    }\n",
              "\n",
              "    .dataframe thead th {\n",
              "        text-align: right;\n",
              "    }\n",
              "</style>\n",
              "<table border=\"1\" class=\"dataframe\">\n",
              "  <thead>\n",
              "    <tr style=\"text-align: right;\">\n",
              "      <th></th>\n",
              "      <th>target</th>\n",
              "      <th>source</th>\n",
              "    </tr>\n",
              "  </thead>\n",
              "  <tbody>\n",
              "    <tr>\n",
              "      <th>1833</th>\n",
              "      <td>12330</td>\n",
              "      <td>107569</td>\n",
              "    </tr>\n",
              "    <tr>\n",
              "      <th>4363</th>\n",
              "      <td>166989</td>\n",
              "      <td>25805</td>\n",
              "    </tr>\n",
              "    <tr>\n",
              "      <th>1011</th>\n",
              "      <td>4335</td>\n",
              "      <td>62417</td>\n",
              "    </tr>\n",
              "    <tr>\n",
              "      <th>2832</th>\n",
              "      <td>34257</td>\n",
              "      <td>34266</td>\n",
              "    </tr>\n",
              "    <tr>\n",
              "      <th>4793</th>\n",
              "      <td>307015</td>\n",
              "      <td>643199</td>\n",
              "    </tr>\n",
              "  </tbody>\n",
              "</table>\n",
              "</div>\n",
              "      <button class=\"colab-df-convert\" onclick=\"convertToInteractive('df-7da2f1eb-e41c-4c59-bd5b-c34a640b59a2')\"\n",
              "              title=\"Convert this dataframe to an interactive table.\"\n",
              "              style=\"display:none;\">\n",
              "        \n",
              "  <svg xmlns=\"http://www.w3.org/2000/svg\" height=\"24px\"viewBox=\"0 0 24 24\"\n",
              "       width=\"24px\">\n",
              "    <path d=\"M0 0h24v24H0V0z\" fill=\"none\"/>\n",
              "    <path d=\"M18.56 5.44l.94 2.06.94-2.06 2.06-.94-2.06-.94-.94-2.06-.94 2.06-2.06.94zm-11 1L8.5 8.5l.94-2.06 2.06-.94-2.06-.94L8.5 2.5l-.94 2.06-2.06.94zm10 10l.94 2.06.94-2.06 2.06-.94-2.06-.94-.94-2.06-.94 2.06-2.06.94z\"/><path d=\"M17.41 7.96l-1.37-1.37c-.4-.4-.92-.59-1.43-.59-.52 0-1.04.2-1.43.59L10.3 9.45l-7.72 7.72c-.78.78-.78 2.05 0 2.83L4 21.41c.39.39.9.59 1.41.59.51 0 1.02-.2 1.41-.59l7.78-7.78 2.81-2.81c.8-.78.8-2.07 0-2.86zM5.41 20L4 18.59l7.72-7.72 1.47 1.35L5.41 20z\"/>\n",
              "  </svg>\n",
              "      </button>\n",
              "      \n",
              "  <style>\n",
              "    .colab-df-container {\n",
              "      display:flex;\n",
              "      flex-wrap:wrap;\n",
              "      gap: 12px;\n",
              "    }\n",
              "\n",
              "    .colab-df-convert {\n",
              "      background-color: #E8F0FE;\n",
              "      border: none;\n",
              "      border-radius: 50%;\n",
              "      cursor: pointer;\n",
              "      display: none;\n",
              "      fill: #1967D2;\n",
              "      height: 32px;\n",
              "      padding: 0 0 0 0;\n",
              "      width: 32px;\n",
              "    }\n",
              "\n",
              "    .colab-df-convert:hover {\n",
              "      background-color: #E2EBFA;\n",
              "      box-shadow: 0px 1px 2px rgba(60, 64, 67, 0.3), 0px 1px 3px 1px rgba(60, 64, 67, 0.15);\n",
              "      fill: #174EA6;\n",
              "    }\n",
              "\n",
              "    [theme=dark] .colab-df-convert {\n",
              "      background-color: #3B4455;\n",
              "      fill: #D2E3FC;\n",
              "    }\n",
              "\n",
              "    [theme=dark] .colab-df-convert:hover {\n",
              "      background-color: #434B5C;\n",
              "      box-shadow: 0px 1px 3px 1px rgba(0, 0, 0, 0.15);\n",
              "      filter: drop-shadow(0px 1px 2px rgba(0, 0, 0, 0.3));\n",
              "      fill: #FFFFFF;\n",
              "    }\n",
              "  </style>\n",
              "\n",
              "      <script>\n",
              "        const buttonEl =\n",
              "          document.querySelector('#df-7da2f1eb-e41c-4c59-bd5b-c34a640b59a2 button.colab-df-convert');\n",
              "        buttonEl.style.display =\n",
              "          google.colab.kernel.accessAllowed ? 'block' : 'none';\n",
              "\n",
              "        async function convertToInteractive(key) {\n",
              "          const element = document.querySelector('#df-7da2f1eb-e41c-4c59-bd5b-c34a640b59a2');\n",
              "          const dataTable =\n",
              "            await google.colab.kernel.invokeFunction('convertToInteractive',\n",
              "                                                     [key], {});\n",
              "          if (!dataTable) return;\n",
              "\n",
              "          const docLinkHtml = 'Like what you see? Visit the ' +\n",
              "            '<a target=\"_blank\" href=https://colab.research.google.com/notebooks/data_table.ipynb>data table notebook</a>'\n",
              "            + ' to learn more about interactive tables.';\n",
              "          element.innerHTML = '';\n",
              "          dataTable['output_type'] = 'display_data';\n",
              "          await google.colab.output.renderOutput(dataTable, element);\n",
              "          const docLink = document.createElement('div');\n",
              "          docLink.innerHTML = docLinkHtml;\n",
              "          element.appendChild(docLink);\n",
              "        }\n",
              "      </script>\n",
              "    </div>\n",
              "  </div>\n",
              "  "
            ],
            "text/plain": [
              "      target  source\n",
              "1833   12330  107569\n",
              "4363  166989   25805\n",
              "1011    4335   62417\n",
              "2832   34257   34266\n",
              "4793  307015  643199"
            ]
          },
          "metadata": {},
          "execution_count": 4
        }
      ],
      "source": [
        "citations.sample(frac=1).head()"
      ]
    },
    {
      "cell_type": "markdown",
      "metadata": {
        "id": "tLIM7C9tU8om"
      },
      "source": [
        "<div dir=rtl>\n",
        "در این قسمت اطلاعات مقالات درون یک DataFrame بارگذاری می‌شود.\n",
        "<div>"
      ]
    },
    {
      "cell_type": "code",
      "execution_count": null,
      "metadata": {
        "colab": {
          "base_uri": "https://localhost:8080/"
        },
        "id": "VLfiu6rGU8om",
        "outputId": "032da6e9-3f4b-459d-d6c0-402565227cc0"
      },
      "outputs": [
        {
          "output_type": "stream",
          "name": "stdout",
          "text": [
            "Papers shape: (2708, 1435)\n"
          ]
        }
      ],
      "source": [
        "papers = pd.read_csv(\n",
        "    os.path.join(data_dir, \"cora.content\"), sep=\"\\t\", \n",
        "    names=[\"paper_id\"] + [f\"word_{i}\" for i in range(1433)] + [\"subject\"],\n",
        ")\n",
        "print(\"Papers shape:\", papers.shape)\n",
        "papers = papers.sort_values(by = 'paper_id')"
      ]
    },
    {
      "cell_type": "markdown",
      "metadata": {
        "id": "WNdkRCXtU8on"
      },
      "source": [
        "<div dir=rtl>\n",
        "اکنون نمونه ای از مقالات DataFrame را نمایش می دهیم. DataFrame شامل paper_id و ستون های موضوع، و همچنین 1433 ستون باینری است که نشان می دهد آیا کلمه ای در مقاله وجود دارد یا خیر.\n",
        "</div>"
      ]
    },
    {
      "cell_type": "code",
      "execution_count": null,
      "metadata": {
        "id": "Txk5qdXDU8on",
        "colab": {
          "base_uri": "https://localhost:8080/"
        },
        "outputId": "fc0c1c94-b0b4-4539-bbab-e6ee5c6849aa"
      },
      "outputs": [
        {
          "output_type": "stream",
          "name": "stdout",
          "text": [
            "     paper_id  word_0  word_1  ...  word_1431  word_1432                subject\n",
            "996   1131300       0       0  ...          0          0  Probabilistic_Methods\n",
            "607    307336       0       0  ...          0          0        Neural_Networks\n",
            "715   1105698       0       0  ...          0          0  Probabilistic_Methods\n",
            "318      6767       0       0  ...          0          0             Case_Based\n",
            "208     49660       0       0  ...          0          0                 Theory\n",
            "\n",
            "[5 rows x 1435 columns]\n"
          ]
        }
      ],
      "source": [
        "print(papers.sample(frac=1).head())"
      ]
    },
    {
      "cell_type": "markdown",
      "metadata": {
        "id": "N2FP67WyU8oo"
      },
      "source": [
        "<div dir=rtl>\n",
        "در این قسمت تعداد مقالات هر موضوع مشخص شده و نمودار مربوط به آن رسم شده است.\n",
        "</div>"
      ]
    },
    {
      "cell_type": "code",
      "execution_count": null,
      "metadata": {
        "id": "Lfio3phFU8oo",
        "colab": {
          "base_uri": "https://localhost:8080/"
        },
        "outputId": "1d5ade40-f9be-40e9-86e0-27ccf0b6418e"
      },
      "outputs": [
        {
          "output_type": "stream",
          "name": "stdout",
          "text": [
            "Neural_Networks           818\n",
            "Probabilistic_Methods     426\n",
            "Genetic_Algorithms        418\n",
            "Theory                    351\n",
            "Case_Based                298\n",
            "Reinforcement_Learning    217\n",
            "Rule_Learning             180\n",
            "Name: subject, dtype: int64\n"
          ]
        }
      ],
      "source": [
        "print(papers.subject.value_counts())"
      ]
    },
    {
      "cell_type": "code",
      "source": [
        "sns.countplot(data=papers, x=papers.subject)\n",
        "plt.xticks(rotation=90)"
      ],
      "metadata": {
        "colab": {
          "base_uri": "https://localhost:8080/",
          "height": 408
        },
        "id": "0sUhB-1zz547",
        "outputId": "c83cb753-74a7-48b9-df19-72f1cd3bd67a"
      },
      "execution_count": null,
      "outputs": [
        {
          "output_type": "execute_result",
          "data": {
            "text/plain": [
              "(array([0, 1, 2, 3, 4, 5, 6]), <a list of 7 Text major ticklabel objects>)"
            ]
          },
          "metadata": {},
          "execution_count": 8
        },
        {
          "output_type": "display_data",
          "data": {
            "image/png": "[encoded data removed]",
            "text/plain": [
              "<Figure size 432x288 with 1 Axes>"
            ]
          },
          "metadata": {
            "needs_background": "light"
          }
        }
      ]
    },
    {
      "cell_type": "markdown",
      "metadata": {
        "id": "GCQsIkwqU8op"
      },
      "source": [
        "<div dir=rtl>\n",
        "شناسه های مقالات و موضوعات را به عدد (با شروع از صفر) تبدیل می کنیم. بنابراین شناسه‌های مقالات اعدادی بین صفر تا 2707 و موضوعات اعدادی بین صفر تا 6 هستند.\n",
        "</div>\n"
      ]
    },
    {
      "cell_type": "code",
      "execution_count": null,
      "metadata": {
        "id": "OvSzXLvzU8op"
      },
      "outputs": [],
      "source": [
        "class_values = sorted(papers[\"subject\"].unique())\n",
        "class_idx = {name: id for id, name in enumerate(class_values)}\n",
        "paper_idx = {name: idx for idx, name in enumerate(sorted(papers[\"paper_id\"].unique()))}\n",
        "\n",
        "papers[\"paper_id\"] = papers[\"paper_id\"].apply(lambda name: paper_idx[name])\n",
        "citations[\"source\"] = citations[\"source\"].apply(lambda name: paper_idx[name])\n",
        "citations[\"target\"] = citations[\"target\"].apply(lambda name: paper_idx[name])\n",
        "papers[\"subject\"] = papers[\"subject\"].apply(lambda value: class_idx[value])"
      ]
    },
    {
      "cell_type": "markdown",
      "metadata": {
        "id": "90A2SDjAU8oq"
      },
      "source": [
        "<div dir=rtl>\n",
        "حالا نمودار ارجاعات را رسم می‌کنیم. هر گره در نمودار نشان دهنده یک مقاله است و رنگ گره با موضوع آن مطابقت دارد. باید توجه شود که ما فقط نمونه ای از مقالات موجود در مجموعه داده را نشان می دهیم.\n",
        "</div>"
      ]
    },
    {
      "cell_type": "code",
      "execution_count": null,
      "metadata": {
        "id": "SazGmjlUU8oq",
        "colab": {
          "base_uri": "https://localhost:8080/",
          "height": 751
        },
        "outputId": "016ffe91-8393-4ea3-9994-1320ec3c91ae"
      },
      "outputs": [
        {
          "output_type": "display_data",
          "data": {
            "image/png": "[encoded data removed]",
            "text/plain": [
              "<Figure size 720x720 with 1 Axes>"
            ]
          },
          "metadata": {}
        }
      ],
      "source": [
        "plt.figure(figsize=(10, 10))\n",
        "colors = papers[\"subject\"].tolist()\n",
        "cora_graph = nx.from_pandas_edgelist(citations.sample(n=1000))\n",
        "subjects = list(papers[papers[\"paper_id\"].isin(list(cora_graph.nodes))][\"subject\"])\n",
        "val_map = {0: 'yellow', \n",
        "           1: 'blue',\n",
        "           2: 'red',\n",
        "           3: 'black',\n",
        "           4: 'green',\n",
        "           5: 'pink',\n",
        "           6: 'purple'\n",
        "          }\n",
        "\n",
        "values = [val_map.get(s, 0.25) for s in subjects]\n",
        "nx.draw(cora_graph, node_size=25, node_color=values)\n"
      ]
    },
    {
      "cell_type": "markdown",
      "metadata": {
        "id": "e8WHW68XU8oq"
      },
      "source": [
        "###بخش اول: استخراج ویژگی‌های سنتی و آموزش مدل‌های یادگیری ماشین\n",
        "\n",
        "*   List item\n",
        "*   List item\n",
        "\n",
        "\n",
        "<div dir=rtl>\n",
        "مجموعه داده را به مجموعه های آموزش و تست تقسیم می‌کنیم.\n",
        "</div>\n"
      ]
    },
    {
      "cell_type": "code",
      "execution_count": null,
      "metadata": {
        "colab": {
          "base_uri": "https://localhost:8080/"
        },
        "id": "rayLNtMBU8or",
        "outputId": "826f15e2-8200-477b-950a-c3080891a24a"
      },
      "outputs": [
        {
          "output_type": "stream",
          "name": "stdout",
          "text": [
            "Train data shape: (2092, 1435)\n",
            "Test data shape: (616, 1435)\n"
          ]
        }
      ],
      "source": [
        "train_data, test_data = [], []\n",
        "\n",
        "for _, group_data in papers.groupby(\"subject\"):\n",
        "    # Select around 50% of the dataset for training.\n",
        "    random_selection = np.random.rand(len(group_data.index)) <= 0.77\n",
        "    train_data.append(group_data[random_selection])\n",
        "    test_data.append(group_data[~random_selection])\n",
        "\n",
        "train_data = pd.concat(train_data).sample(frac=1)\n",
        "test_data = pd.concat(test_data).sample(frac=1)\n",
        "\n",
        "print(\"Train data shape:\", train_data.shape)\n",
        "print(\"Test data shape:\", test_data.shape)"
      ]
    },
    {
      "cell_type": "markdown",
      "source": [
        "<div dir=rtl>\n",
        "در این قسمت گراف جهت‌دار شبکه‌ی ارجاعات را تشکیل می‌دهیم تا با استفاده از آن ویژگی‌های سنتی را استخراج کنیم. در این گراف گره‌ها مقالات هستند و ارجاع بین آن‌ها با استفاده از یک یال جهت‌دار از مقاله‌ی ارجاع دهنده به مقاله‌ی ارجاع شده مشخص می‌شود.\n",
        "</div>"
      ],
      "metadata": {
        "id": "jg3T2ZUc7goj"
      }
    },
    {
      "cell_type": "code",
      "execution_count": null,
      "metadata": {
        "id": "DAXgaVUnqn_D"
      },
      "outputs": [],
      "source": [
        "G = nx.DiGraph()\n",
        "G.add_nodes_from(np.unique(papers['paper_id']))\n",
        "for i in range(citations.shape[0]):\n",
        "  G.add_edge(citations.iloc[i]['source'], citations.iloc[i]['target'])"
      ]
    },
    {
      "cell_type": "markdown",
      "source": [
        "<div dir=rtl>\n",
        "در این‌جا ویژگی‌های سنتی از گراف استخراج می‌شود و در یک ‌DataFrame به نام features ذخیره می‌شود. این ویژگی‌ها شامل موارد زیر هستند:\n",
        "</div>\n",
        "degree centrality <br>\n",
        "in degree centrality <br>\n",
        "out degree centrality <br>\n",
        "average neighbor degree <br>\n",
        "eigenvector centrality <br>\n",
        "closseness centrality <br>\n",
        "betweenness centrality <br>\n",
        "load centrality <br>\n",
        "harmonic centrality <br>\n",
        "pagerank <br>\n",
        "clustering <br>\n",
        "subject <br>"
      ],
      "metadata": {
        "id": "ry8heXnh8rZ8"
      }
    },
    {
      "cell_type": "code",
      "execution_count": null,
      "metadata": {
        "id": "OZ05rq1aqo9E"
      },
      "outputs": [],
      "source": [
        "features = pd.DataFrame(columns={\"node\"})\n",
        "# degree_centrality = nx.degree_centrality(G)\n",
        "# features['node'] = degree_centrality.keys()\n",
        "features['node'] = G.nodes()\n",
        "features.insert(features.shape[1],\"degree_centrality\", nx.degree_centrality(G).values())\n",
        "features.insert(features.shape[1],\"in_degree_centrality\", nx.in_degree_centrality(G).values())\n",
        "features.insert(features.shape[1],\"out_degree_centrality\", nx.out_degree_centrality(G).values())\n",
        "features.insert(features.shape[1],\"average_neighbor_degree\", nx.average_neighbor_degree(G).values())\n",
        "features.insert(features.shape[1],\"eigenvector_centrality\", nx.eigenvector_centrality(G).values())\n",
        "features.insert(features.shape[1],\"closeness_centrality\", nx.closeness_centrality(G).values())\n",
        "# features.insert(features.shape[1],\"current_flow_closeness_centrality\", nx.current_flow_closeness_centrality(G).values())\n",
        "features.insert(features.shape[1],\"betweenness_centrality\", nx.betweenness_centrality(G).values())\n",
        "# features.insert(features.shape[1],\"current_flow_betweenness_centrality\", nx.current_flow_betweenness_centrality(G).values())\n",
        "features.insert(features.shape[1],\"load_centrality\", nx.load_centrality(G).values())\n",
        "features.insert(features.shape[1],\"harmonic_centrality\", nx.harmonic_centrality(G).values())\n",
        "# features.insert(features.shape[1],\"second_order_centrality\", nx.second_order_centrality(G).values())\n",
        "features.insert(features.shape[1],\"pagerank\", nx.pagerank(G, alpha = 0.8).values())\n",
        "features.insert(features.shape[1],\"clustering\", nx.clustering(G).values())\n",
        "features.insert(features.shape[1],\"subject\", papers['subject'].astype('int'))"
      ]
    },
    {
      "cell_type": "markdown",
      "source": [
        "<div dir=rtl>\n",
        "پس از استخراج ویژگی‌های سنتی از گراف، با آموزش یک مدل random forest روی این ویژگی‌ها،  نود‌ها طبقه‌بندی ‌می‌شوند.\n",
        "</div>"
      ],
      "metadata": {
        "id": "qSJVak7g_l0S"
      }
    },
    {
      "cell_type": "code",
      "execution_count": null,
      "metadata": {
        "colab": {
          "base_uri": "https://localhost:8080/"
        },
        "id": "lS-G73ruqqLu",
        "outputId": "60c68262-88f9-47e2-d0c0-846bc00b7ffc"
      },
      "outputs": [
        {
          "output_type": "stream",
          "name": "stdout",
          "text": [
            "Accuracy: 0.27740492170022374\n"
          ]
        }
      ],
      "source": [
        "X = features.to_numpy()[:, 1:12]\n",
        "Y = features.to_numpy()[:, 12]\n",
        "x_train, x_test, y_train, y_test = train_test_split(X, Y, test_size=0.33, random_state=42)\n",
        "\n",
        "model = RandomForestClassifier(max_depth=10, random_state=0)\n",
        "model.fit(x_train, y_train)\n",
        "y_pred=model.predict(x_test)\n",
        "print(\"Accuracy:\",metrics.accuracy_score(y_test, y_pred))"
      ]
    },
    {
      "cell_type": "markdown",
      "source": [
        "<div dir=rtl>\n",
        "در این قسمت علاوه بر ویژگی‌های سنتی از ویژگی‌های نود‌ها (بردار باینری نشان‌دهنده‌ی وجود یا عدم‌وجود کلمات) نیز برای آموزش مدل random forest استفاده می‌شود.\n",
        "</div>"
      ],
      "metadata": {
        "id": "PVzu2Yc1B4If"
      }
    },
    {
      "cell_type": "code",
      "execution_count": null,
      "metadata": {
        "colab": {
          "base_uri": "https://localhost:8080/"
        },
        "id": "2fJ-Rozfqp14",
        "outputId": "708fbf2a-6bf0-4ea4-8bec-7dc7023c9ac1"
      },
      "outputs": [
        {
          "output_type": "stream",
          "name": "stdout",
          "text": [
            "Accuracy: 0.598434004474273\n"
          ]
        }
      ],
      "source": [
        "X_all = pd.concat([features, papers], axis=1).drop(['paper_id', 'subject', 'node'], axis=1).to_numpy()\n",
        "Y_all = features.to_numpy()[:, 12]\n",
        "x_train_all, x_test_all, y_train_all, y_test_all = train_test_split(X_all, Y_all, test_size=0.33, random_state=42)\n",
        "\n",
        "model = RandomForestClassifier(max_depth=10, random_state=0)\n",
        "model.fit(x_train_all, y_train_all)\n",
        "y_pred=model.predict(x_test_all)\n",
        "print(\"Accuracy:\",metrics.accuracy_score(y_test_all, y_pred))"
      ]
    },
    {
      "cell_type": "markdown",
      "source": [
        "<div dir=rtl>\n",
        "در این قسمت مراحل بالا برای آموزش یک مدل SVM تکرار می‌شود.\n",
        "</div>"
      ],
      "metadata": {
        "id": "A6lZaxPeCZpi"
      }
    },
    {
      "cell_type": "code",
      "source": [
        "model = SVC()\n",
        "model.fit(x_train, y_train)\n",
        "y_pred=model.predict(x_test)\n",
        "print(\"Accuracy:\",metrics.accuracy_score(y_test, y_pred))"
      ],
      "metadata": {
        "colab": {
          "base_uri": "https://localhost:8080/"
        },
        "id": "35665BEw5jW_",
        "outputId": "4c2daa5f-b5ed-4bbc-b17d-cee9e1489d97"
      },
      "execution_count": null,
      "outputs": [
        {
          "output_type": "stream",
          "name": "stdout",
          "text": [
            "Accuracy: 0.31767337807606266\n"
          ]
        }
      ]
    },
    {
      "cell_type": "code",
      "source": [
        "model = SVC()\n",
        "model.fit(x_train_all, y_train_all)\n",
        "y_pred=model.predict(x_test_all)\n",
        "print(\"Accuracy:\",metrics.accuracy_score(y_test_all, y_pred))"
      ],
      "metadata": {
        "colab": {
          "base_uri": "https://localhost:8080/"
        },
        "id": "u-cO-5A35lcO",
        "outputId": "ea46f1dc-eaea-43c6-c2ca-30a87f1e3935"
      },
      "execution_count": null,
      "outputs": [
        {
          "output_type": "stream",
          "name": "stdout",
          "text": [
            "Accuracy: 0.378076062639821\n"
          ]
        }
      ]
    },
    {
      "cell_type": "markdown",
      "source": [
        "### <div dir=\"rtl\">نتیجه گیری بخش اول:</div>\n",
        "\n",
        "<div dir=\"rtl\">\n",
        "همانطور که در قسمتهای قبل مشاهده کردیم روش‌های گوناگونی برای دسته بندی نودها بکار بردیم و نتایج گوناگونی کسب کردیم. تفاوت این روش‌ها در مجموعه داده‌ی مورد استفاده برای آموزش مدل و دسته‌بندی داده های تست و انتخاب دسته‌بند مناسب بود.\n",
        "\n",
        "در اولین روش از دسته‌بند جنگل تصادفی استفاده کردیم و برای آموزش مدل تنها از معیارهای سنتی که به ازای هر نود محاسبه شده بود بهره بردیم. صحت دسته بندی بر روی داده‌های تست با استفاده از این مدل برابر با ۲۷ درصد بود.\n",
        "\n",
        "در دومین قسمت همانند قسمت قبلی از دسته‌بند جنگل تصادفی استفاده کردیم و از ترکیب ویژگیهای نودها و معیارهای سنتی برای آموزش مدل استفاده کردیم. نهایتا صحت ۵۹ درصد برای کلاسبندی داده‌های تست با استفاده از این مدل کسب شد.\n",
        "\n",
        "در سومین روش تنها از معیارهای سنتی و دسته‌بند SVM استفاده کردیم و به صحت ۳۱ درصد برای دسته‌بندی داده‌های تست رسیدیم.\n",
        "\n",
        "و در آخرین روش از ترکیب ویژگی‌های نودها و معیارهای سنتی برای آموزش مدل SVM مان استفاده کردیم و به صحت ۳۷ درصد برای دسته بندی داده های تست رسیدیم.\n",
        "\n",
        "نتیجه گیری بخش اول: از روش‌های گوناگونی که در بخش اول استفاده کردیم نتیجه میگیریم که فارغ از قدرت دسته‌بندی که استفاده می‌کینم بکارگیری مجموعه ای از ویژگی‌های نودها و معیارهای سنتی نتیجه بهتری نسبت به تنها استفاده کردن از ویژگیهای نودها به ما می‌دهد چرا که معیارهای سنتی دربردارنده ی ویژگیهای ساختاری و ارتباطی شبکه گرافی هستند و در دسته‌بندی نودها کمک شایانی به ما می‌کنند.\n",
        "<div>"
      ],
      "metadata": {
        "id": "20zWUz4ZYtTF"
      }
    },
    {
      "cell_type": "markdown",
      "metadata": {
        "id": "zG-MNMI4U8or"
      },
      "source": [
        "##بخش دوم: پیاده‌ ‌سازی، آموزش و ارزیابی مدل‌های یادگیری عمیق"
      ]
    },
    {
      "cell_type": "code",
      "execution_count": null,
      "metadata": {
        "id": "yGkIRcs8U8os"
      },
      "outputs": [],
      "source": [
        "hidden_units = [32, 32]\n",
        "learning_rate = 0.01\n",
        "dropout_rate = 0.5\n",
        "num_epochs = 300\n",
        "batch_size = 256"
      ]
    },
    {
      "cell_type": "markdown",
      "metadata": {
        "id": "3tMl_jehU8os"
      },
      "source": [
        "<div dir=rtl>\n",
        "این تابع با استفاده از داده های آموزشی داده شده یک مدل ورودی را کامپایل می‌کند و آموزش می دهد.\n",
        "<div>"
      ]
    },
    {
      "cell_type": "code",
      "execution_count": null,
      "metadata": {
        "id": "oMHkOQYxU8os"
      },
      "outputs": [],
      "source": [
        "def run_experiment(model, x_train, y_train):\n",
        "    # Compile the model.\n",
        "    model.compile(\n",
        "        optimizer=keras.optimizers.Adam(learning_rate),\n",
        "        loss=keras.losses.SparseCategoricalCrossentropy(from_logits=True),\n",
        "        metrics=[keras.metrics.SparseCategoricalAccuracy(name=\"acc\")],\n",
        "    )\n",
        "    # Create an early stopping callback.\n",
        "    early_stopping = keras.callbacks.EarlyStopping(\n",
        "        monitor=\"val_acc\", patience=50, restore_best_weights=True\n",
        "    )\n",
        "    # Fit the model.\n",
        "    history = model.fit(\n",
        "        x=x_train,\n",
        "        y=y_train,\n",
        "        epochs=num_epochs,\n",
        "        batch_size=batch_size,\n",
        "        validation_split=0.15,\n",
        "        callbacks=[early_stopping],\n",
        "    )\n",
        "\n",
        "    return history\n"
      ]
    },
    {
      "cell_type": "markdown",
      "metadata": {
        "id": "9JFiBqsrU8os"
      },
      "source": [
        "<div dir=rtl>\n",
        "این تابع منحنی های loss و accuracy مدل را در طول آموزش نمایش می دهد.\n",
        "</div>"
      ]
    },
    {
      "cell_type": "code",
      "execution_count": null,
      "metadata": {
        "id": "kn_ZDJW4U8ot"
      },
      "outputs": [],
      "source": [
        "def display_learning_curves(history):\n",
        "    fig, (ax1, ax2) = plt.subplots(1, 2, figsize=(15, 5))\n",
        "\n",
        "    ax1.plot(history.history[\"loss\"], color = 'red')\n",
        "    ax1.plot(history.history[\"val_loss\"], color = 'black')\n",
        "    ax1.legend([\"train\", \"test\"], loc=\"upper right\")\n",
        "    ax1.set_xlabel(\"Epochs\")\n",
        "    ax1.set_ylabel(\"Loss\")\n",
        "\n",
        "    ax2.plot(history.history[\"acc\"], color = 'red')\n",
        "    ax2.plot(history.history[\"val_acc\"], color = 'black')\n",
        "    ax2.legend([\"train\", \"test\"], loc=\"upper right\")\n",
        "    ax2.set_xlabel(\"Epochs\")\n",
        "    ax2.set_ylabel(\"Accuracy\")\n",
        "    plt.show()"
      ]
    },
    {
      "cell_type": "markdown",
      "metadata": {
        "id": "dW8defSxU8ot"
      },
      "source": [
        "##feedforward پیاده سازی ماژول شبکه‌ی \n",
        "<div dir=rtl>\n",
        "ما از این ماژول در مدل های پایه و GNN استفاده خواهیم کرد.\n",
        "</div>"
      ]
    },
    {
      "cell_type": "code",
      "execution_count": null,
      "metadata": {
        "id": "s3DDmi9lU8ot"
      },
      "outputs": [],
      "source": [
        "def create_ffn(hidden_units, dropout_rate, name=None):\n",
        "    fnn_layers = []\n",
        "\n",
        "    for units in hidden_units:\n",
        "        fnn_layers.append(layers.BatchNormalization())\n",
        "        fnn_layers.append(layers.Dropout(dropout_rate))\n",
        "        fnn_layers.append(layers.Dense(units, activation=tf.nn.gelu))\n",
        "\n",
        "    return keras.Sequential(fnn_layers, name=name)"
      ]
    },
    {
      "cell_type": "markdown",
      "metadata": {
        "id": "icZZeZkRU8ou"
      },
      "source": [
        "##ساختن یک مدل شبکه عصبی پایه\n",
        "\n",
        "### آماده سازی داده برای مدل پایه\n",
        "\n",
        "<div dir=rtl>\n",
        "در این قسمت داده‌های x_train, y_train, x_test, y_test برای آموزش مدل‌ها در مراحل بعدی آماده می‌شوند. داده‌های x شامل ویژگی‌های باینری گره‌ها و داده‌های y شامل موضوع گره‌ها (مقالات) هستند.\n",
        "<div>\n"
      ]
    },
    {
      "cell_type": "code",
      "execution_count": null,
      "metadata": {
        "id": "oAOvGjd8U8ou"
      },
      "outputs": [],
      "source": [
        "feature_names = set(papers.columns) - {\"paper_id\", \"subject\"}\n",
        "num_features = len(feature_names)\n",
        "num_classes = len(class_idx)\n",
        "\n",
        "# Create train and test features as a numpy array.\n",
        "X_train = train_data[feature_names].to_numpy()\n",
        "X_test = test_data[feature_names].to_numpy()\n",
        "# Create train and test targets as a numpy array.\n",
        "Y_train = train_data[\"subject\"]\n",
        "هY_test = test_data[\"subject\"]"
      ]
    },
    {
      "cell_type": "markdown",
      "metadata": {
        "id": "RTBhMXAwU8ou"
      },
      "source": [
        "### پیاده سازی یک مدل پایه\n",
        "\n",
        "<div dir=rtl>\n",
        "ما 9 بلوک FFN را با skip connection اضافه می کنیم، به طوری که یک مدل پایه با تقریباً همان تعداد پارامترهای مدل های GNN که بعدا ساخته می‌شود؛ ایجاد کنیم.\n",
        "</dir>"
      ]
    },
    {
      "cell_type": "code",
      "execution_count": null,
      "metadata": {
        "id": "cznyFbVCU8ov"
      },
      "outputs": [],
      "source": [
        "def create_baseline_model(hidden_units, num_classes, dropout_rate=0.2):\n",
        "    inputs = layers.Input(shape=(num_features,), name=\"input_features\")\n",
        "    x = create_ffn(hidden_units, dropout_rate, name=f\"ffn_block1\")(inputs)\n",
        "    for block_idx in range(8):\n",
        "        # Create an FFN block.\n",
        "        x1 = create_ffn(hidden_units, dropout_rate, name=f\"ffn_block{block_idx + 2}\")(x)\n",
        "        # Add skip connection.\n",
        "        x = layers.Add(name=f\"skip_connection{block_idx + 2}\")([x, x1])\n",
        "    # Compute logits.\n",
        "    logits = layers.Dense(num_classes, name=\"logits\")(x)\n",
        "    # Create the model.\n",
        "    return keras.Model(inputs=inputs, outputs=logits, name=\"baseline\")"
      ]
    },
    {
      "cell_type": "markdown",
      "metadata": {
        "id": "O6Ca4KkiU8ov"
      },
      "source": [
        "### آموزش مدل پایه\n",
        "<div dir=rtl>\n",
        "برای آموزش مدل پایه در قسمت اول از ویژگی‌های سنتی استخراج شده در قسمت‌های قبل استفاده می‌کنیم.\n",
        "<div>"
      ]
    },
    {
      "cell_type": "code",
      "execution_count": null,
      "metadata": {
        "colab": {
          "base_uri": "https://localhost:8080/"
        },
        "id": "F155_QZmU8ov",
        "outputId": "f4f28fdb-26d2-4057-9ca1-f3d620bd18a2"
      },
      "outputs": [
        {
          "output_type": "stream",
          "name": "stdout",
          "text": [
            "Model: \"baseline\"\n",
            "__________________________________________________________________________________________________\n",
            " Layer (type)                   Output Shape         Param #     Connected to                     \n",
            "==================================================================================================\n",
            " input_features (InputLayer)    [(None, 11)]         0           []                               \n",
            "                                                                                                  \n",
            " ffn_block1 (Sequential)        (None, 32)           1612        ['input_features[0][0]']         \n",
            "                                                                                                  \n",
            " ffn_block2 (Sequential)        (None, 32)           2368        ['ffn_block1[0][0]']             \n",
            "                                                                                                  \n",
            " skip_connection2 (Add)         (None, 32)           0           ['ffn_block1[0][0]',             \n",
            "                                                                  'ffn_block2[0][0]']             \n",
            "                                                                                                  \n",
            " ffn_block3 (Sequential)        (None, 32)           2368        ['skip_connection2[0][0]']       \n",
            "                                                                                                  \n",
            " skip_connection3 (Add)         (None, 32)           0           ['skip_connection2[0][0]',       \n",
            "                                                                  'ffn_block3[0][0]']             \n",
            "                                                                                                  \n",
            " ffn_block4 (Sequential)        (None, 32)           2368        ['skip_connection3[0][0]']       \n",
            "                                                                                                  \n",
            " skip_connection4 (Add)         (None, 32)           0           ['skip_connection3[0][0]',       \n",
            "                                                                  'ffn_block4[0][0]']             \n",
            "                                                                                                  \n",
            " ffn_block5 (Sequential)        (None, 32)           2368        ['skip_connection4[0][0]']       \n",
            "                                                                                                  \n",
            " skip_connection5 (Add)         (None, 32)           0           ['skip_connection4[0][0]',       \n",
            "                                                                  'ffn_block5[0][0]']             \n",
            "                                                                                                  \n",
            " ffn_block6 (Sequential)        (None, 32)           2368        ['skip_connection5[0][0]']       \n",
            "                                                                                                  \n",
            " skip_connection6 (Add)         (None, 32)           0           ['skip_connection5[0][0]',       \n",
            "                                                                  'ffn_block6[0][0]']             \n",
            "                                                                                                  \n",
            " ffn_block7 (Sequential)        (None, 32)           2368        ['skip_connection6[0][0]']       \n",
            "                                                                                                  \n",
            " skip_connection7 (Add)         (None, 32)           0           ['skip_connection6[0][0]',       \n",
            "                                                                  'ffn_block7[0][0]']             \n",
            "                                                                                                  \n",
            " ffn_block8 (Sequential)        (None, 32)           2368        ['skip_connection7[0][0]']       \n",
            "                                                                                                  \n",
            " skip_connection8 (Add)         (None, 32)           0           ['skip_connection7[0][0]',       \n",
            "                                                                  'ffn_block8[0][0]']             \n",
            "                                                                                                  \n",
            " ffn_block9 (Sequential)        (None, 32)           2368        ['skip_connection8[0][0]']       \n",
            "                                                                                                  \n",
            " skip_connection9 (Add)         (None, 32)           0           ['skip_connection8[0][0]',       \n",
            "                                                                  'ffn_block9[0][0]']             \n",
            "                                                                                                  \n",
            " logits (Dense)                 (None, 7)            231         ['skip_connection9[0][0]']       \n",
            "                                                                                                  \n",
            "==================================================================================================\n",
            "Total params: 20,787\n",
            "Trainable params: 19,677\n",
            "Non-trainable params: 1,110\n",
            "__________________________________________________________________________________________________\n",
            "Epoch 1/300\n",
            "7/7 [==============================] - 8s 154ms/step - loss: 3.5687 - acc: 0.1960 - val_loss: 2.4219 - val_acc: 0.1795\n",
            "Epoch 2/300\n",
            "7/7 [==============================] - 0s 20ms/step - loss: 3.0066 - acc: 0.2174 - val_loss: 2.1209 - val_acc: 0.1502\n",
            "Epoch 3/300\n",
            "7/7 [==============================] - 0s 21ms/step - loss: 2.7249 - acc: 0.1700 - val_loss: 2.0420 - val_acc: 0.1502\n",
            "Epoch 4/300\n",
            "7/7 [==============================] - 0s 25ms/step - loss: 2.5790 - acc: 0.2012 - val_loss: 1.9980 - val_acc: 0.2454\n",
            "Epoch 5/300\n",
            "7/7 [==============================] - 0s 20ms/step - loss: 2.5823 - acc: 0.1921 - val_loss: 1.9930 - val_acc: 0.2308\n",
            "Epoch 6/300\n",
            "7/7 [==============================] - 0s 23ms/step - loss: 2.4860 - acc: 0.2064 - val_loss: 1.9968 - val_acc: 0.2198\n",
            "Epoch 7/300\n",
            "7/7 [==============================] - 0s 21ms/step - loss: 2.3780 - acc: 0.2025 - val_loss: 2.0855 - val_acc: 0.1795\n",
            "Epoch 8/300\n",
            "7/7 [==============================] - 0s 25ms/step - loss: 2.3802 - acc: 0.2323 - val_loss: 1.9838 - val_acc: 0.2491\n",
            "Epoch 9/300\n",
            "7/7 [==============================] - 0s 21ms/step - loss: 2.4104 - acc: 0.2200 - val_loss: 1.9767 - val_acc: 0.2930\n",
            "Epoch 10/300\n",
            "7/7 [==============================] - 0s 20ms/step - loss: 2.2479 - acc: 0.2245 - val_loss: 1.9598 - val_acc: 0.2747\n",
            "Epoch 11/300\n",
            "7/7 [==============================] - 0s 23ms/step - loss: 2.2642 - acc: 0.2317 - val_loss: 1.9008 - val_acc: 0.2930\n",
            "Epoch 12/300\n",
            "7/7 [==============================] - 0s 20ms/step - loss: 2.3085 - acc: 0.2258 - val_loss: 1.9163 - val_acc: 0.2711\n",
            "Epoch 13/300\n",
            "7/7 [==============================] - 0s 21ms/step - loss: 2.3958 - acc: 0.2524 - val_loss: 1.9714 - val_acc: 0.1832\n",
            "Epoch 14/300\n",
            "7/7 [==============================] - 0s 20ms/step - loss: 2.2623 - acc: 0.2284 - val_loss: 1.9789 - val_acc: 0.1758\n",
            "Epoch 15/300\n",
            "7/7 [==============================] - 0s 21ms/step - loss: 2.1695 - acc: 0.2271 - val_loss: 1.9334 - val_acc: 0.2271\n",
            "Epoch 16/300\n",
            "7/7 [==============================] - 0s 20ms/step - loss: 2.2239 - acc: 0.2330 - val_loss: 1.9088 - val_acc: 0.2637\n",
            "Epoch 17/300\n",
            "7/7 [==============================] - 0s 21ms/step - loss: 2.1845 - acc: 0.2531 - val_loss: 1.9084 - val_acc: 0.2821\n",
            "Epoch 18/300\n",
            "7/7 [==============================] - 0s 23ms/step - loss: 2.0846 - acc: 0.2466 - val_loss: 1.9061 - val_acc: 0.2821\n",
            "Epoch 19/300\n",
            "7/7 [==============================] - 0s 22ms/step - loss: 2.2360 - acc: 0.2427 - val_loss: 1.8946 - val_acc: 0.2821\n",
            "Epoch 20/300\n",
            "7/7 [==============================] - 0s 22ms/step - loss: 2.1362 - acc: 0.2498 - val_loss: 1.8882 - val_acc: 0.2894\n",
            "Epoch 21/300\n",
            "7/7 [==============================] - 0s 21ms/step - loss: 2.2103 - acc: 0.2148 - val_loss: 1.9154 - val_acc: 0.2930\n",
            "Epoch 22/300\n",
            "7/7 [==============================] - 0s 21ms/step - loss: 2.1715 - acc: 0.2667 - val_loss: 1.9097 - val_acc: 0.2894\n",
            "Epoch 23/300\n",
            "7/7 [==============================] - 0s 27ms/step - loss: 2.1031 - acc: 0.2427 - val_loss: 1.9168 - val_acc: 0.1758\n",
            "Epoch 24/300\n",
            "7/7 [==============================] - 0s 22ms/step - loss: 2.0752 - acc: 0.2252 - val_loss: 1.9034 - val_acc: 0.2601\n",
            "Epoch 25/300\n",
            "7/7 [==============================] - 0s 23ms/step - loss: 2.1249 - acc: 0.2700 - val_loss: 1.8991 - val_acc: 0.2894\n",
            "Epoch 26/300\n",
            "7/7 [==============================] - 0s 20ms/step - loss: 2.1891 - acc: 0.2265 - val_loss: 1.8779 - val_acc: 0.2821\n",
            "Epoch 27/300\n",
            "7/7 [==============================] - 0s 23ms/step - loss: 2.0651 - acc: 0.2667 - val_loss: 1.8750 - val_acc: 0.2821\n",
            "Epoch 28/300\n",
            "7/7 [==============================] - 0s 23ms/step - loss: 2.0791 - acc: 0.2758 - val_loss: 1.8765 - val_acc: 0.2894\n",
            "Epoch 29/300\n",
            "7/7 [==============================] - 0s 24ms/step - loss: 2.1110 - acc: 0.1986 - val_loss: 1.8769 - val_acc: 0.2894\n",
            "Epoch 30/300\n",
            "7/7 [==============================] - 0s 21ms/step - loss: 2.1053 - acc: 0.2732 - val_loss: 1.8828 - val_acc: 0.2930\n",
            "Epoch 31/300\n",
            "7/7 [==============================] - 0s 22ms/step - loss: 2.0404 - acc: 0.2446 - val_loss: 1.8785 - val_acc: 0.2894\n",
            "Epoch 32/300\n",
            "7/7 [==============================] - 0s 21ms/step - loss: 2.0517 - acc: 0.2797 - val_loss: 1.9038 - val_acc: 0.2821\n",
            "Epoch 33/300\n",
            "7/7 [==============================] - 0s 21ms/step - loss: 2.0117 - acc: 0.2576 - val_loss: 1.8809 - val_acc: 0.2821\n",
            "Epoch 34/300\n",
            "7/7 [==============================] - 0s 21ms/step - loss: 2.0192 - acc: 0.2466 - val_loss: 1.8818 - val_acc: 0.2747\n",
            "Epoch 35/300\n",
            "7/7 [==============================] - 0s 25ms/step - loss: 1.9566 - acc: 0.2596 - val_loss: 1.8895 - val_acc: 0.2821\n",
            "Epoch 36/300\n",
            "7/7 [==============================] - 0s 24ms/step - loss: 1.9869 - acc: 0.2518 - val_loss: 1.8791 - val_acc: 0.2821\n",
            "Epoch 37/300\n",
            "7/7 [==============================] - 0s 21ms/step - loss: 2.0508 - acc: 0.2180 - val_loss: 1.8848 - val_acc: 0.2857\n",
            "Epoch 38/300\n",
            "7/7 [==============================] - 0s 21ms/step - loss: 1.9828 - acc: 0.2758 - val_loss: 1.9042 - val_acc: 0.2821\n",
            "Epoch 39/300\n",
            "7/7 [==============================] - 0s 20ms/step - loss: 2.0358 - acc: 0.2680 - val_loss: 1.8984 - val_acc: 0.2747\n",
            "Epoch 40/300\n",
            "7/7 [==============================] - 0s 20ms/step - loss: 1.9748 - acc: 0.2648 - val_loss: 1.8737 - val_acc: 0.2857\n",
            "Epoch 41/300\n",
            "7/7 [==============================] - 0s 21ms/step - loss: 1.9852 - acc: 0.2700 - val_loss: 1.8858 - val_acc: 0.2821\n",
            "Epoch 42/300\n",
            "7/7 [==============================] - 0s 23ms/step - loss: 1.9566 - acc: 0.2589 - val_loss: 1.8946 - val_acc: 0.2821\n",
            "Epoch 43/300\n",
            "7/7 [==============================] - 0s 22ms/step - loss: 1.9345 - acc: 0.2777 - val_loss: 1.8807 - val_acc: 0.2821\n",
            "Epoch 44/300\n",
            "7/7 [==============================] - 0s 20ms/step - loss: 1.9908 - acc: 0.2907 - val_loss: 1.8774 - val_acc: 0.2784\n",
            "Epoch 45/300\n",
            "7/7 [==============================] - 0s 20ms/step - loss: 2.0299 - acc: 0.2265 - val_loss: 1.8753 - val_acc: 0.2711\n",
            "Epoch 46/300\n",
            "7/7 [==============================] - 0s 20ms/step - loss: 1.9497 - acc: 0.2596 - val_loss: 1.8779 - val_acc: 0.2747\n",
            "Epoch 47/300\n",
            "7/7 [==============================] - 0s 20ms/step - loss: 2.0327 - acc: 0.2849 - val_loss: 1.8758 - val_acc: 0.2784\n",
            "Epoch 48/300\n",
            "7/7 [==============================] - 0s 21ms/step - loss: 1.9788 - acc: 0.2408 - val_loss: 1.8869 - val_acc: 0.2711\n",
            "Epoch 49/300\n",
            "7/7 [==============================] - 0s 21ms/step - loss: 1.9754 - acc: 0.2700 - val_loss: 1.8859 - val_acc: 0.2821\n",
            "Epoch 50/300\n",
            "7/7 [==============================] - 0s 24ms/step - loss: 1.9556 - acc: 0.2803 - val_loss: 1.8900 - val_acc: 0.2747\n",
            "Epoch 51/300\n",
            "7/7 [==============================] - 0s 21ms/step - loss: 1.9760 - acc: 0.2408 - val_loss: 1.8769 - val_acc: 0.2821\n",
            "Epoch 52/300\n",
            "7/7 [==============================] - 0s 29ms/step - loss: 1.9042 - acc: 0.2700 - val_loss: 1.8799 - val_acc: 0.2821\n",
            "Epoch 53/300\n",
            "7/7 [==============================] - 0s 20ms/step - loss: 1.9336 - acc: 0.2901 - val_loss: 1.8736 - val_acc: 0.2857\n",
            "Epoch 54/300\n",
            "7/7 [==============================] - 0s 23ms/step - loss: 1.9617 - acc: 0.2388 - val_loss: 1.8850 - val_acc: 0.2747\n",
            "Epoch 55/300\n",
            "7/7 [==============================] - 0s 23ms/step - loss: 2.0160 - acc: 0.2518 - val_loss: 1.8967 - val_acc: 0.2821\n",
            "Epoch 56/300\n",
            "7/7 [==============================] - 0s 26ms/step - loss: 1.9655 - acc: 0.2946 - val_loss: 1.8926 - val_acc: 0.2784\n",
            "Epoch 57/300\n",
            "7/7 [==============================] - 0s 20ms/step - loss: 1.9182 - acc: 0.2836 - val_loss: 1.8750 - val_acc: 0.2821\n",
            "Epoch 58/300\n",
            "7/7 [==============================] - 0s 22ms/step - loss: 1.9107 - acc: 0.2862 - val_loss: 1.8677 - val_acc: 0.2821\n",
            "Epoch 59/300\n",
            "7/7 [==============================] - 0s 23ms/step - loss: 1.9314 - acc: 0.2511 - val_loss: 1.8728 - val_acc: 0.2784\n"
          ]
        }
      ],
      "source": [
        "num_features = 11\n",
        "baseline_model = create_baseline_model(hidden_units, num_classes, dropout_rate)\n",
        "baseline_model.summary()\n",
        "history1 = run_experiment(baseline_model, x_train, y_train)"
      ]
    },
    {
      "cell_type": "markdown",
      "metadata": {
        "id": "b2hYo3L3U8ow"
      },
      "source": [
        "<div dir=rtl>\n",
        "منحنی‌های یادگیری مدل در زیر رسم شده است.\n",
        "<div>"
      ]
    },
    {
      "cell_type": "code",
      "execution_count": null,
      "metadata": {
        "colab": {
          "base_uri": "https://localhost:8080/",
          "height": 335
        },
        "id": "WdGWlkffU8ow",
        "outputId": "c7d6e667-c41a-4819-a9fc-c2767904a9d1"
      },
      "outputs": [
        {
          "output_type": "display_data",
          "data": {
            "image/png": "[encoded data removed]",
            "text/plain": [
              "<Figure size 1080x360 with 2 Axes>"
            ]
          },
          "metadata": {
            "needs_background": "light"
          }
        }
      ],
      "source": [
        "display_learning_curves(history1)"
      ]
    },
    {
      "cell_type": "markdown",
      "metadata": {
        "id": "_kzH73G-U8ow"
      },
      "source": [
        "<div dir=rtl>\n",
        " در اینجا دقت مدل آموزش داده شده محاسبه شده است.\n",
        "<div>"
      ]
    },
    {
      "cell_type": "code",
      "execution_count": null,
      "metadata": {
        "colab": {
          "base_uri": "https://localhost:8080/"
        },
        "id": "lTLrIFKgU8ow",
        "outputId": "9ca52f87-e0e2-4e34-85d6-5eac958af68e"
      },
      "outputs": [
        {
          "output_type": "stream",
          "name": "stdout",
          "text": [
            "Test accuracy: 30.65%\n"
          ]
        }
      ],
      "source": [
        "_, test_accuracy = baseline_model.evaluate(x=x_test, y=y_test, verbose=0)\n",
        "print(f\"Test accuracy: {round(test_accuracy * 100, 2)}%\")"
      ]
    },
    {
      "cell_type": "markdown",
      "source": [
        "<div dir=rtl>\n",
        "در قسمت دوم، مدل پایه با استفاده از ویژگی‌های باینری نود‌ها آموزش داده شده است. سپس مانند قسمت قبل منحنی‌ها رسم شده و دقت محاسبه شده است.\n",
        "<div>"
      ],
      "metadata": {
        "id": "RRW3aF80IVjl"
      }
    },
    {
      "cell_type": "code",
      "execution_count": null,
      "metadata": {
        "colab": {
          "base_uri": "https://localhost:8080/"
        },
        "id": "nQjc0Isksu5D",
        "outputId": "af8d0c66-c770-4fb7-9600-d28032aca806"
      },
      "outputs": [
        {
          "output_type": "stream",
          "name": "stdout",
          "text": [
            "Model: \"baseline\"\n",
            "__________________________________________________________________________________________________\n",
            " Layer (type)                   Output Shape         Param #     Connected to                     \n",
            "==================================================================================================\n",
            " input_features (InputLayer)    [(None, 1433)]       0           []                               \n",
            "                                                                                                  \n",
            " ffn_block1 (Sequential)        (None, 32)           52804       ['input_features[0][0]']         \n",
            "                                                                                                  \n",
            " ffn_block2 (Sequential)        (None, 32)           2368        ['ffn_block1[0][0]']             \n",
            "                                                                                                  \n",
            " skip_connection2 (Add)         (None, 32)           0           ['ffn_block1[0][0]',             \n",
            "                                                                  'ffn_block2[0][0]']             \n",
            "                                                                                                  \n",
            " ffn_block3 (Sequential)        (None, 32)           2368        ['skip_connection2[0][0]']       \n",
            "                                                                                                  \n",
            " skip_connection3 (Add)         (None, 32)           0           ['skip_connection2[0][0]',       \n",
            "                                                                  'ffn_block3[0][0]']             \n",
            "                                                                                                  \n",
            " ffn_block4 (Sequential)        (None, 32)           2368        ['skip_connection3[0][0]']       \n",
            "                                                                                                  \n",
            " skip_connection4 (Add)         (None, 32)           0           ['skip_connection3[0][0]',       \n",
            "                                                                  'ffn_block4[0][0]']             \n",
            "                                                                                                  \n",
            " ffn_block5 (Sequential)        (None, 32)           2368        ['skip_connection4[0][0]']       \n",
            "                                                                                                  \n",
            " skip_connection5 (Add)         (None, 32)           0           ['skip_connection4[0][0]',       \n",
            "                                                                  'ffn_block5[0][0]']             \n",
            "                                                                                                  \n",
            " ffn_block6 (Sequential)        (None, 32)           2368        ['skip_connection5[0][0]']       \n",
            "                                                                                                  \n",
            " skip_connection6 (Add)         (None, 32)           0           ['skip_connection5[0][0]',       \n",
            "                                                                  'ffn_block6[0][0]']             \n",
            "                                                                                                  \n",
            " ffn_block7 (Sequential)        (None, 32)           2368        ['skip_connection6[0][0]']       \n",
            "                                                                                                  \n",
            " skip_connection7 (Add)         (None, 32)           0           ['skip_connection6[0][0]',       \n",
            "                                                                  'ffn_block7[0][0]']             \n",
            "                                                                                                  \n",
            " ffn_block8 (Sequential)        (None, 32)           2368        ['skip_connection7[0][0]']       \n",
            "                                                                                                  \n",
            " skip_connection8 (Add)         (None, 32)           0           ['skip_connection7[0][0]',       \n",
            "                                                                  'ffn_block8[0][0]']             \n",
            "                                                                                                  \n",
            " ffn_block9 (Sequential)        (None, 32)           2368        ['skip_connection8[0][0]']       \n",
            "                                                                                                  \n",
            " skip_connection9 (Add)         (None, 32)           0           ['skip_connection8[0][0]',       \n",
            "                                                                  'ffn_block9[0][0]']             \n",
            "                                                                                                  \n",
            " logits (Dense)                 (None, 7)            231         ['skip_connection9[0][0]']       \n",
            "                                                                                                  \n",
            "==================================================================================================\n",
            "Total params: 71,979\n",
            "Trainable params: 68,025\n",
            "Non-trainable params: 3,954\n",
            "__________________________________________________________________________________________________\n",
            "Epoch 1/300\n",
            "7/7 [==============================] - 8s 167ms/step - loss: 3.7547 - acc: 0.1890 - val_loss: 1.9333 - val_acc: 0.0605\n",
            "Epoch 2/300\n",
            "7/7 [==============================] - 0s 40ms/step - loss: 2.8635 - acc: 0.1839 - val_loss: 1.8742 - val_acc: 0.1879\n",
            "Epoch 3/300\n",
            "7/7 [==============================] - 0s 38ms/step - loss: 2.4848 - acc: 0.2210 - val_loss: 1.8624 - val_acc: 0.2006\n",
            "Epoch 4/300\n",
            "7/7 [==============================] - 0s 39ms/step - loss: 2.2992 - acc: 0.2328 - val_loss: 1.8318 - val_acc: 0.3057\n",
            "Epoch 5/300\n",
            "7/7 [==============================] - 0s 38ms/step - loss: 2.0724 - acc: 0.2638 - val_loss: 1.8318 - val_acc: 0.3344\n",
            "Epoch 6/300\n",
            "7/7 [==============================] - 0s 38ms/step - loss: 2.0199 - acc: 0.2565 - val_loss: 1.8370 - val_acc: 0.3758\n",
            "Epoch 7/300\n",
            "7/7 [==============================] - 0s 39ms/step - loss: 1.9022 - acc: 0.2739 - val_loss: 1.8400 - val_acc: 0.3694\n",
            "Epoch 8/300\n",
            "7/7 [==============================] - 0s 38ms/step - loss: 1.8735 - acc: 0.3009 - val_loss: 1.8515 - val_acc: 0.3121\n",
            "Epoch 9/300\n",
            "7/7 [==============================] - 0s 35ms/step - loss: 1.7790 - acc: 0.3358 - val_loss: 1.8637 - val_acc: 0.3312\n",
            "Epoch 10/300\n",
            "7/7 [==============================] - 0s 39ms/step - loss: 1.7591 - acc: 0.3510 - val_loss: 1.8384 - val_acc: 0.4045\n",
            "Epoch 11/300\n",
            "7/7 [==============================] - 0s 39ms/step - loss: 1.6812 - acc: 0.3588 - val_loss: 1.7902 - val_acc: 0.4490\n",
            "Epoch 12/300\n",
            "7/7 [==============================] - 0s 35ms/step - loss: 1.6262 - acc: 0.3881 - val_loss: 1.7262 - val_acc: 0.3854\n",
            "Epoch 13/300\n",
            "7/7 [==============================] - 0s 37ms/step - loss: 1.5184 - acc: 0.4342 - val_loss: 1.7073 - val_acc: 0.4490\n",
            "Epoch 14/300\n",
            "7/7 [==============================] - 0s 38ms/step - loss: 1.4569 - acc: 0.4623 - val_loss: 1.6187 - val_acc: 0.4777\n",
            "Epoch 15/300\n",
            "7/7 [==============================] - 0s 39ms/step - loss: 1.4106 - acc: 0.5000 - val_loss: 1.5113 - val_acc: 0.5032\n",
            "Epoch 16/300\n",
            "7/7 [==============================] - 0s 37ms/step - loss: 1.3238 - acc: 0.5315 - val_loss: 1.4099 - val_acc: 0.5478\n",
            "Epoch 17/300\n",
            "7/7 [==============================] - 0s 37ms/step - loss: 1.2494 - acc: 0.5484 - val_loss: 1.3576 - val_acc: 0.5701\n",
            "Epoch 18/300\n",
            "7/7 [==============================] - 0s 36ms/step - loss: 1.1720 - acc: 0.5664 - val_loss: 1.2282 - val_acc: 0.6178\n",
            "Epoch 19/300\n",
            "7/7 [==============================] - 0s 37ms/step - loss: 1.1093 - acc: 0.6046 - val_loss: 1.1313 - val_acc: 0.6051\n",
            "Epoch 20/300\n",
            "7/7 [==============================] - 0s 35ms/step - loss: 1.0764 - acc: 0.6209 - val_loss: 1.1042 - val_acc: 0.5892\n",
            "Epoch 21/300\n",
            "7/7 [==============================] - 0s 37ms/step - loss: 0.9965 - acc: 0.6502 - val_loss: 1.0571 - val_acc: 0.6146\n",
            "Epoch 22/300\n",
            "7/7 [==============================] - 0s 38ms/step - loss: 0.9728 - acc: 0.6530 - val_loss: 1.0545 - val_acc: 0.6115\n",
            "Epoch 23/300\n",
            "7/7 [==============================] - 0s 42ms/step - loss: 0.9179 - acc: 0.6850 - val_loss: 1.0267 - val_acc: 0.6338\n",
            "Epoch 24/300\n",
            "7/7 [==============================] - 0s 39ms/step - loss: 0.9332 - acc: 0.6817 - val_loss: 1.0290 - val_acc: 0.6369\n",
            "Epoch 25/300\n",
            "7/7 [==============================] - 0s 38ms/step - loss: 0.8884 - acc: 0.6839 - val_loss: 0.9787 - val_acc: 0.6529\n",
            "Epoch 26/300\n",
            "7/7 [==============================] - 0s 38ms/step - loss: 0.8441 - acc: 0.7160 - val_loss: 0.9492 - val_acc: 0.6752\n",
            "Epoch 27/300\n",
            "7/7 [==============================] - 0s 39ms/step - loss: 0.8505 - acc: 0.7126 - val_loss: 0.9048 - val_acc: 0.7070\n",
            "Epoch 28/300\n",
            "7/7 [==============================] - 0s 37ms/step - loss: 0.8133 - acc: 0.7120 - val_loss: 0.8811 - val_acc: 0.7229\n",
            "Epoch 29/300\n",
            "7/7 [==============================] - 0s 35ms/step - loss: 0.8082 - acc: 0.7182 - val_loss: 0.9341 - val_acc: 0.7070\n",
            "Epoch 30/300\n",
            "7/7 [==============================] - 0s 36ms/step - loss: 0.7720 - acc: 0.7345 - val_loss: 0.8876 - val_acc: 0.7293\n",
            "Epoch 31/300\n",
            "7/7 [==============================] - 0s 42ms/step - loss: 0.7295 - acc: 0.7424 - val_loss: 0.8015 - val_acc: 0.7420\n",
            "Epoch 32/300\n",
            "7/7 [==============================] - 0s 36ms/step - loss: 0.7252 - acc: 0.7537 - val_loss: 0.7917 - val_acc: 0.7357\n",
            "Epoch 33/300\n",
            "7/7 [==============================] - 0s 39ms/step - loss: 0.7526 - acc: 0.7469 - val_loss: 0.8048 - val_acc: 0.7357\n",
            "Epoch 34/300\n",
            "7/7 [==============================] - 0s 42ms/step - loss: 0.7010 - acc: 0.7627 - val_loss: 0.7887 - val_acc: 0.7484\n",
            "Epoch 35/300\n",
            "7/7 [==============================] - 0s 36ms/step - loss: 0.6839 - acc: 0.7649 - val_loss: 0.7762 - val_acc: 0.7389\n",
            "Epoch 36/300\n",
            "7/7 [==============================] - 0s 37ms/step - loss: 0.6806 - acc: 0.7593 - val_loss: 0.7762 - val_acc: 0.7389\n",
            "Epoch 37/300\n",
            "7/7 [==============================] - 0s 38ms/step - loss: 0.6786 - acc: 0.7610 - val_loss: 0.7633 - val_acc: 0.7484\n",
            "Epoch 38/300\n",
            "7/7 [==============================] - 0s 40ms/step - loss: 0.6562 - acc: 0.7835 - val_loss: 0.7585 - val_acc: 0.7452\n",
            "Epoch 39/300\n",
            "7/7 [==============================] - 0s 37ms/step - loss: 0.6667 - acc: 0.7621 - val_loss: 0.7709 - val_acc: 0.7197\n",
            "Epoch 40/300\n",
            "7/7 [==============================] - 0s 37ms/step - loss: 0.6573 - acc: 0.7728 - val_loss: 0.7633 - val_acc: 0.7261\n",
            "Epoch 41/300\n",
            "7/7 [==============================] - 0s 36ms/step - loss: 0.6609 - acc: 0.7722 - val_loss: 0.7642 - val_acc: 0.7389\n",
            "Epoch 42/300\n",
            "7/7 [==============================] - 0s 38ms/step - loss: 0.5878 - acc: 0.7975 - val_loss: 0.7614 - val_acc: 0.7452\n",
            "Epoch 43/300\n",
            "7/7 [==============================] - 0s 37ms/step - loss: 0.6905 - acc: 0.7700 - val_loss: 0.7350 - val_acc: 0.7580\n",
            "Epoch 44/300\n",
            "7/7 [==============================] - 0s 36ms/step - loss: 0.6143 - acc: 0.7880 - val_loss: 0.7437 - val_acc: 0.7452\n",
            "Epoch 45/300\n",
            "7/7 [==============================] - 0s 40ms/step - loss: 0.6251 - acc: 0.7823 - val_loss: 0.7356 - val_acc: 0.7611\n",
            "Epoch 46/300\n",
            "7/7 [==============================] - 0s 39ms/step - loss: 0.6024 - acc: 0.8054 - val_loss: 0.7202 - val_acc: 0.7675\n",
            "Epoch 47/300\n",
            "7/7 [==============================] - 0s 38ms/step - loss: 0.6208 - acc: 0.7835 - val_loss: 0.7133 - val_acc: 0.7771\n",
            "Epoch 48/300\n",
            "7/7 [==============================] - 0s 39ms/step - loss: 0.5633 - acc: 0.7958 - val_loss: 0.7156 - val_acc: 0.7516\n",
            "Epoch 49/300\n",
            "7/7 [==============================] - 0s 38ms/step - loss: 0.5814 - acc: 0.8037 - val_loss: 0.7277 - val_acc: 0.7548\n",
            "Epoch 50/300\n",
            "7/7 [==============================] - 0s 36ms/step - loss: 0.6078 - acc: 0.7885 - val_loss: 0.7335 - val_acc: 0.7548\n",
            "Epoch 51/300\n",
            "7/7 [==============================] - 0s 38ms/step - loss: 0.5722 - acc: 0.8009 - val_loss: 0.7488 - val_acc: 0.7516\n",
            "Epoch 52/300\n",
            "7/7 [==============================] - 0s 36ms/step - loss: 0.5677 - acc: 0.8003 - val_loss: 0.7433 - val_acc: 0.7389\n",
            "Epoch 53/300\n",
            "7/7 [==============================] - 0s 39ms/step - loss: 0.5717 - acc: 0.8043 - val_loss: 0.7392 - val_acc: 0.7516\n",
            "Epoch 54/300\n",
            "7/7 [==============================] - 0s 40ms/step - loss: 0.5882 - acc: 0.7947 - val_loss: 0.7295 - val_acc: 0.7516\n",
            "Epoch 55/300\n",
            "7/7 [==============================] - 0s 38ms/step - loss: 0.5867 - acc: 0.7902 - val_loss: 0.7280 - val_acc: 0.7548\n",
            "Epoch 56/300\n",
            "7/7 [==============================] - 0s 38ms/step - loss: 0.5598 - acc: 0.8009 - val_loss: 0.7151 - val_acc: 0.7580\n",
            "Epoch 57/300\n",
            "7/7 [==============================] - 0s 35ms/step - loss: 0.5686 - acc: 0.8015 - val_loss: 0.7046 - val_acc: 0.7643\n",
            "Epoch 58/300\n",
            "7/7 [==============================] - 0s 40ms/step - loss: 0.5261 - acc: 0.8200 - val_loss: 0.7195 - val_acc: 0.7611\n",
            "Epoch 59/300\n",
            "7/7 [==============================] - 0s 40ms/step - loss: 0.5580 - acc: 0.8054 - val_loss: 0.7631 - val_acc: 0.7484\n",
            "Epoch 60/300\n",
            "7/7 [==============================] - 0s 38ms/step - loss: 0.5305 - acc: 0.8043 - val_loss: 0.7308 - val_acc: 0.7580\n",
            "Epoch 61/300\n",
            "7/7 [==============================] - 0s 39ms/step - loss: 0.5334 - acc: 0.8110 - val_loss: 0.7345 - val_acc: 0.7580\n",
            "Epoch 62/300\n",
            "7/7 [==============================] - 0s 41ms/step - loss: 0.5697 - acc: 0.8043 - val_loss: 0.7646 - val_acc: 0.7548\n",
            "Epoch 63/300\n",
            "7/7 [==============================] - 0s 38ms/step - loss: 0.5280 - acc: 0.8138 - val_loss: 0.7793 - val_acc: 0.7452\n",
            "Epoch 64/300\n",
            "7/7 [==============================] - 0s 36ms/step - loss: 0.5103 - acc: 0.8290 - val_loss: 0.7648 - val_acc: 0.7548\n",
            "Epoch 65/300\n",
            "7/7 [==============================] - 0s 37ms/step - loss: 0.5159 - acc: 0.8223 - val_loss: 0.7604 - val_acc: 0.7548\n",
            "Epoch 66/300\n",
            "7/7 [==============================] - 0s 35ms/step - loss: 0.5211 - acc: 0.8133 - val_loss: 0.7768 - val_acc: 0.7389\n",
            "Epoch 67/300\n",
            "7/7 [==============================] - 0s 36ms/step - loss: 0.5205 - acc: 0.8195 - val_loss: 0.7803 - val_acc: 0.7357\n",
            "Epoch 68/300\n",
            "7/7 [==============================] - 0s 38ms/step - loss: 0.5235 - acc: 0.8223 - val_loss: 0.7924 - val_acc: 0.7389\n",
            "Epoch 69/300\n",
            "7/7 [==============================] - 0s 37ms/step - loss: 0.5410 - acc: 0.8009 - val_loss: 0.7912 - val_acc: 0.7484\n",
            "Epoch 70/300\n",
            "7/7 [==============================] - 0s 36ms/step - loss: 0.5121 - acc: 0.8223 - val_loss: 0.7858 - val_acc: 0.7548\n",
            "Epoch 71/300\n",
            "7/7 [==============================] - 0s 37ms/step - loss: 0.5439 - acc: 0.8082 - val_loss: 0.7833 - val_acc: 0.7580\n",
            "Epoch 72/300\n",
            "7/7 [==============================] - 0s 37ms/step - loss: 0.4832 - acc: 0.8318 - val_loss: 0.7842 - val_acc: 0.7516\n",
            "Epoch 73/300\n",
            "7/7 [==============================] - 0s 39ms/step - loss: 0.5031 - acc: 0.8285 - val_loss: 0.8050 - val_acc: 0.7420\n",
            "Epoch 74/300\n",
            "7/7 [==============================] - 0s 40ms/step - loss: 0.4786 - acc: 0.8234 - val_loss: 0.8204 - val_acc: 0.7420\n",
            "Epoch 75/300\n",
            "7/7 [==============================] - 0s 39ms/step - loss: 0.5054 - acc: 0.8313 - val_loss: 0.8143 - val_acc: 0.7420\n",
            "Epoch 76/300\n",
            "7/7 [==============================] - 0s 39ms/step - loss: 0.4944 - acc: 0.8358 - val_loss: 0.8134 - val_acc: 0.7420\n",
            "Epoch 77/300\n",
            "7/7 [==============================] - 0s 38ms/step - loss: 0.5474 - acc: 0.8054 - val_loss: 0.8233 - val_acc: 0.7357\n",
            "Epoch 78/300\n",
            "7/7 [==============================] - 0s 37ms/step - loss: 0.4887 - acc: 0.8234 - val_loss: 0.8095 - val_acc: 0.7484\n",
            "Epoch 79/300\n",
            "7/7 [==============================] - 0s 38ms/step - loss: 0.5198 - acc: 0.8150 - val_loss: 0.8135 - val_acc: 0.7420\n",
            "Epoch 80/300\n",
            "7/7 [==============================] - 0s 39ms/step - loss: 0.5092 - acc: 0.8189 - val_loss: 0.8274 - val_acc: 0.7420\n",
            "Epoch 81/300\n",
            "7/7 [==============================] - 0s 39ms/step - loss: 0.5010 - acc: 0.8285 - val_loss: 0.8631 - val_acc: 0.7293\n",
            "Epoch 82/300\n",
            "7/7 [==============================] - 0s 37ms/step - loss: 0.4618 - acc: 0.8375 - val_loss: 0.9084 - val_acc: 0.7325\n",
            "Epoch 83/300\n",
            "7/7 [==============================] - 0s 41ms/step - loss: 0.5312 - acc: 0.8178 - val_loss: 0.8702 - val_acc: 0.7357\n",
            "Epoch 84/300\n",
            "7/7 [==============================] - 0s 36ms/step - loss: 0.4767 - acc: 0.8369 - val_loss: 0.8625 - val_acc: 0.7420\n",
            "Epoch 85/300\n",
            "7/7 [==============================] - 0s 36ms/step - loss: 0.4910 - acc: 0.8234 - val_loss: 0.8528 - val_acc: 0.7484\n",
            "Epoch 86/300\n",
            "7/7 [==============================] - 0s 39ms/step - loss: 0.5038 - acc: 0.8223 - val_loss: 0.8569 - val_acc: 0.7420\n",
            "Epoch 87/300\n",
            "7/7 [==============================] - 0s 36ms/step - loss: 0.4805 - acc: 0.8386 - val_loss: 0.8813 - val_acc: 0.7516\n",
            "Epoch 88/300\n",
            "7/7 [==============================] - 0s 37ms/step - loss: 0.4712 - acc: 0.8290 - val_loss: 0.8959 - val_acc: 0.7420\n",
            "Epoch 89/300\n",
            "7/7 [==============================] - 0s 38ms/step - loss: 0.4951 - acc: 0.8341 - val_loss: 0.9147 - val_acc: 0.7357\n",
            "Epoch 90/300\n",
            "7/7 [==============================] - 0s 38ms/step - loss: 0.5192 - acc: 0.8138 - val_loss: 0.9007 - val_acc: 0.7420\n",
            "Epoch 91/300\n",
            "7/7 [==============================] - 0s 38ms/step - loss: 0.4530 - acc: 0.8436 - val_loss: 0.9069 - val_acc: 0.7452\n",
            "Epoch 92/300\n",
            "7/7 [==============================] - 0s 38ms/step - loss: 0.4714 - acc: 0.8403 - val_loss: 0.8955 - val_acc: 0.7452\n",
            "Epoch 93/300\n",
            "7/7 [==============================] - 0s 36ms/step - loss: 0.4951 - acc: 0.8228 - val_loss: 0.8952 - val_acc: 0.7357\n",
            "Epoch 94/300\n",
            "7/7 [==============================] - 0s 39ms/step - loss: 0.4942 - acc: 0.8245 - val_loss: 0.9018 - val_acc: 0.7420\n",
            "Epoch 95/300\n",
            "7/7 [==============================] - 0s 37ms/step - loss: 0.4953 - acc: 0.8251 - val_loss: 0.8860 - val_acc: 0.7516\n",
            "Epoch 96/300\n",
            "7/7 [==============================] - 0s 40ms/step - loss: 0.4892 - acc: 0.8195 - val_loss: 0.8979 - val_acc: 0.7484\n",
            "Epoch 97/300\n",
            "7/7 [==============================] - 0s 42ms/step - loss: 0.4826 - acc: 0.8262 - val_loss: 0.9044 - val_acc: 0.7357\n"
          ]
        }
      ],
      "source": [
        "num_features = 1433\n",
        "baseline_model = create_baseline_model(hidden_units, num_classes, dropout_rate)\n",
        "baseline_model.summary()\n",
        "history2 = run_experiment(baseline_model, X_train, Y_train)"
      ]
    },
    {
      "cell_type": "code",
      "execution_count": null,
      "metadata": {
        "colab": {
          "base_uri": "https://localhost:8080/",
          "height": 334
        },
        "id": "CMSdNKoes93R",
        "outputId": "6154c2ff-44a2-4c09-f239-8a49b12520e1"
      },
      "outputs": [
        {
          "output_type": "display_data",
          "data": {
            "image/png": "[encoded data removed]",
            "text/plain": [
              "<Figure size 1080x360 with 2 Axes>"
            ]
          },
          "metadata": {
            "needs_background": "light"
          }
        }
      ],
      "source": [
        "display_learning_curves(history2)"
      ]
    },
    {
      "cell_type": "code",
      "execution_count": null,
      "metadata": {
        "colab": {
          "base_uri": "https://localhost:8080/"
        },
        "id": "FbIpwYl_tDpB",
        "outputId": "5f5d3465-fe2c-402c-b8e7-f9b0e276f58e"
      },
      "outputs": [
        {
          "output_type": "stream",
          "name": "stdout",
          "text": [
            "Test accuracy: 78.57%\n"
          ]
        }
      ],
      "source": [
        "_, test_accuracy = baseline_model.evaluate(x=X_test, y=Y_test, verbose=0)\n",
        "print(f\"Test accuracy: {round(test_accuracy * 100, 2)}%\")"
      ]
    },
    {
      "cell_type": "markdown",
      "source": [
        "<div dir=rtl>\n",
        "در نهایت مدل با استفاده از ترکیب ویژگی‌ها (سنتی و باینری) آموزش داده شده است و منحنی‌های مربوط به آن رسم و دقت محاسبه شده است.\n",
        "<div>"
      ],
      "metadata": {
        "id": "de-Mbz1hI35e"
      }
    },
    {
      "cell_type": "code",
      "source": [
        "num_features = 1433 + 11\n",
        "baseline_model = create_baseline_model(hidden_units, num_classes, dropout_rate)\n",
        "baseline_model.summary()\n",
        "history3 = run_experiment(baseline_model, x_train_all, y_train_all)"
      ],
      "metadata": {
        "colab": {
          "base_uri": "https://localhost:8080/"
        },
        "id": "oY-N3Rp3Gc1f",
        "outputId": "ed083288-d47c-4414-f0d6-c90e2f954d43"
      },
      "execution_count": null,
      "outputs": [
        {
          "output_type": "stream",
          "name": "stdout",
          "text": [
            "Model: \"baseline\"\n",
            "__________________________________________________________________________________________________\n",
            " Layer (type)                   Output Shape         Param #     Connected to                     \n",
            "==================================================================================================\n",
            " input_features (InputLayer)    [(None, 1444)]       0           []                               \n",
            "                                                                                                  \n",
            " ffn_block1 (Sequential)        (None, 32)           53200       ['input_features[0][0]']         \n",
            "                                                                                                  \n",
            " ffn_block2 (Sequential)        (None, 32)           2368        ['ffn_block1[0][0]']             \n",
            "                                                                                                  \n",
            " skip_connection2 (Add)         (None, 32)           0           ['ffn_block1[0][0]',             \n",
            "                                                                  'ffn_block2[0][0]']             \n",
            "                                                                                                  \n",
            " ffn_block3 (Sequential)        (None, 32)           2368        ['skip_connection2[0][0]']       \n",
            "                                                                                                  \n",
            " skip_connection3 (Add)         (None, 32)           0           ['skip_connection2[0][0]',       \n",
            "                                                                  'ffn_block3[0][0]']             \n",
            "                                                                                                  \n",
            " ffn_block4 (Sequential)        (None, 32)           2368        ['skip_connection3[0][0]']       \n",
            "                                                                                                  \n",
            " skip_connection4 (Add)         (None, 32)           0           ['skip_connection3[0][0]',       \n",
            "                                                                  'ffn_block4[0][0]']             \n",
            "                                                                                                  \n",
            " ffn_block5 (Sequential)        (None, 32)           2368        ['skip_connection4[0][0]']       \n",
            "                                                                                                  \n",
            " skip_connection5 (Add)         (None, 32)           0           ['skip_connection4[0][0]',       \n",
            "                                                                  'ffn_block5[0][0]']             \n",
            "                                                                                                  \n",
            " ffn_block6 (Sequential)        (None, 32)           2368        ['skip_connection5[0][0]']       \n",
            "                                                                                                  \n",
            " skip_connection6 (Add)         (None, 32)           0           ['skip_connection5[0][0]',       \n",
            "                                                                  'ffn_block6[0][0]']             \n",
            "                                                                                                  \n",
            " ffn_block7 (Sequential)        (None, 32)           2368        ['skip_connection6[0][0]']       \n",
            "                                                                                                  \n",
            " skip_connection7 (Add)         (None, 32)           0           ['skip_connection6[0][0]',       \n",
            "                                                                  'ffn_block7[0][0]']             \n",
            "                                                                                                  \n",
            " ffn_block8 (Sequential)        (None, 32)           2368        ['skip_connection7[0][0]']       \n",
            "                                                                                                  \n",
            " skip_connection8 (Add)         (None, 32)           0           ['skip_connection7[0][0]',       \n",
            "                                                                  'ffn_block8[0][0]']             \n",
            "                                                                                                  \n",
            " ffn_block9 (Sequential)        (None, 32)           2368        ['skip_connection8[0][0]']       \n",
            "                                                                                                  \n",
            " skip_connection9 (Add)         (None, 32)           0           ['skip_connection8[0][0]',       \n",
            "                                                                  'ffn_block9[0][0]']             \n",
            "                                                                                                  \n",
            " logits (Dense)                 (None, 7)            231         ['skip_connection9[0][0]']       \n",
            "                                                                                                  \n",
            "==================================================================================================\n",
            "Total params: 72,375\n",
            "Trainable params: 68,399\n",
            "Non-trainable params: 3,976\n",
            "__________________________________________________________________________________________________\n",
            "Epoch 1/300\n",
            "7/7 [==============================] - 8s 152ms/step - loss: 4.3306 - acc: 0.1869 - val_loss: 1.9801 - val_acc: 0.1612\n",
            "Epoch 2/300\n",
            "7/7 [==============================] - 0s 32ms/step - loss: 3.2815 - acc: 0.2070 - val_loss: 1.8774 - val_acc: 0.3040\n",
            "Epoch 3/300\n",
            "7/7 [==============================] - 0s 34ms/step - loss: 2.9222 - acc: 0.2284 - val_loss: 1.9035 - val_acc: 0.1575\n",
            "Epoch 4/300\n",
            "7/7 [==============================] - 0s 34ms/step - loss: 2.8372 - acc: 0.2025 - val_loss: 1.8948 - val_acc: 0.1685\n",
            "Epoch 5/300\n",
            "7/7 [==============================] - 0s 32ms/step - loss: 2.5528 - acc: 0.2141 - val_loss: 1.8925 - val_acc: 0.1648\n",
            "Epoch 6/300\n",
            "7/7 [==============================] - 0s 35ms/step - loss: 2.6454 - acc: 0.2284 - val_loss: 1.8796 - val_acc: 0.2198\n",
            "Epoch 7/300\n",
            "7/7 [==============================] - 0s 31ms/step - loss: 2.4789 - acc: 0.2057 - val_loss: 1.8686 - val_acc: 0.1941\n",
            "Epoch 8/300\n",
            "7/7 [==============================] - 0s 33ms/step - loss: 2.3922 - acc: 0.2161 - val_loss: 1.8568 - val_acc: 0.2894\n",
            "Epoch 9/300\n",
            "7/7 [==============================] - 0s 33ms/step - loss: 2.3187 - acc: 0.2421 - val_loss: 1.8483 - val_acc: 0.3260\n",
            "Epoch 10/300\n",
            "7/7 [==============================] - 0s 33ms/step - loss: 2.3178 - acc: 0.2317 - val_loss: 1.8445 - val_acc: 0.3223\n",
            "Epoch 11/300\n",
            "7/7 [==============================] - 0s 34ms/step - loss: 2.2765 - acc: 0.2505 - val_loss: 1.8370 - val_acc: 0.3407\n",
            "Epoch 12/300\n",
            "7/7 [==============================] - 0s 33ms/step - loss: 2.3388 - acc: 0.1999 - val_loss: 1.8457 - val_acc: 0.2637\n",
            "Epoch 13/300\n",
            "7/7 [==============================] - 0s 32ms/step - loss: 2.2044 - acc: 0.2583 - val_loss: 1.8377 - val_acc: 0.3077\n",
            "Epoch 14/300\n",
            "7/7 [==============================] - 0s 31ms/step - loss: 2.1564 - acc: 0.2252 - val_loss: 1.8274 - val_acc: 0.3370\n",
            "Epoch 15/300\n",
            "7/7 [==============================] - 0s 31ms/step - loss: 2.1831 - acc: 0.2764 - val_loss: 1.8382 - val_acc: 0.3077\n",
            "Epoch 16/300\n",
            "7/7 [==============================] - 0s 30ms/step - loss: 2.2360 - acc: 0.2219 - val_loss: 1.8453 - val_acc: 0.3040\n",
            "Epoch 17/300\n",
            "7/7 [==============================] - 0s 30ms/step - loss: 2.1157 - acc: 0.2453 - val_loss: 1.8553 - val_acc: 0.2308\n",
            "Epoch 18/300\n",
            "7/7 [==============================] - 0s 33ms/step - loss: 2.0636 - acc: 0.2258 - val_loss: 1.8420 - val_acc: 0.2234\n",
            "Epoch 19/300\n",
            "7/7 [==============================] - 0s 35ms/step - loss: 2.0098 - acc: 0.2803 - val_loss: 1.8240 - val_acc: 0.3590\n",
            "Epoch 20/300\n",
            "7/7 [==============================] - 0s 32ms/step - loss: 1.9737 - acc: 0.2680 - val_loss: 1.8123 - val_acc: 0.3077\n",
            "Epoch 21/300\n",
            "7/7 [==============================] - 0s 33ms/step - loss: 2.0281 - acc: 0.2693 - val_loss: 1.8129 - val_acc: 0.2967\n",
            "Epoch 22/300\n",
            "7/7 [==============================] - 0s 32ms/step - loss: 2.0075 - acc: 0.2810 - val_loss: 1.8209 - val_acc: 0.3370\n",
            "Epoch 23/300\n",
            "7/7 [==============================] - 0s 35ms/step - loss: 1.9358 - acc: 0.2596 - val_loss: 1.8145 - val_acc: 0.3370\n",
            "Epoch 24/300\n",
            "7/7 [==============================] - 0s 36ms/step - loss: 1.9822 - acc: 0.2881 - val_loss: 1.8147 - val_acc: 0.3553\n",
            "Epoch 25/300\n",
            "7/7 [==============================] - 0s 33ms/step - loss: 1.9124 - acc: 0.2609 - val_loss: 1.8223 - val_acc: 0.2491\n",
            "Epoch 26/300\n",
            "7/7 [==============================] - 0s 31ms/step - loss: 1.8930 - acc: 0.2764 - val_loss: 1.8316 - val_acc: 0.2308\n",
            "Epoch 27/300\n",
            "7/7 [==============================] - 0s 33ms/step - loss: 1.9446 - acc: 0.2732 - val_loss: 1.8254 - val_acc: 0.2821\n",
            "Epoch 28/300\n",
            "7/7 [==============================] - 0s 32ms/step - loss: 1.8663 - acc: 0.2881 - val_loss: 1.8254 - val_acc: 0.3077\n",
            "Epoch 29/300\n",
            "7/7 [==============================] - 0s 29ms/step - loss: 1.9137 - acc: 0.3095 - val_loss: 1.8193 - val_acc: 0.3260\n",
            "Epoch 30/300\n",
            "7/7 [==============================] - 0s 34ms/step - loss: 1.8888 - acc: 0.2862 - val_loss: 1.8042 - val_acc: 0.3736\n",
            "Epoch 31/300\n",
            "7/7 [==============================] - 0s 32ms/step - loss: 1.8475 - acc: 0.3069 - val_loss: 1.7930 - val_acc: 0.3553\n",
            "Epoch 32/300\n",
            "7/7 [==============================] - 0s 31ms/step - loss: 1.8738 - acc: 0.2894 - val_loss: 1.7827 - val_acc: 0.3223\n",
            "Epoch 33/300\n",
            "7/7 [==============================] - 0s 32ms/step - loss: 1.8689 - acc: 0.2868 - val_loss: 1.7731 - val_acc: 0.3370\n",
            "Epoch 34/300\n",
            "7/7 [==============================] - 0s 30ms/step - loss: 1.8625 - acc: 0.3167 - val_loss: 1.7699 - val_acc: 0.3663\n",
            "Epoch 35/300\n",
            "7/7 [==============================] - 0s 31ms/step - loss: 1.9287 - acc: 0.2323 - val_loss: 1.7763 - val_acc: 0.3919\n",
            "Epoch 36/300\n",
            "7/7 [==============================] - 0s 31ms/step - loss: 1.8562 - acc: 0.3037 - val_loss: 1.7778 - val_acc: 0.4139\n",
            "Epoch 37/300\n",
            "7/7 [==============================] - 0s 33ms/step - loss: 1.8950 - acc: 0.2933 - val_loss: 1.7930 - val_acc: 0.3297\n",
            "Epoch 38/300\n",
            "7/7 [==============================] - 0s 31ms/step - loss: 1.8653 - acc: 0.2706 - val_loss: 1.7651 - val_acc: 0.3700\n",
            "Epoch 39/300\n",
            "7/7 [==============================] - 0s 32ms/step - loss: 1.8464 - acc: 0.3186 - val_loss: 1.7503 - val_acc: 0.4029\n",
            "Epoch 40/300\n",
            "7/7 [==============================] - 0s 31ms/step - loss: 1.8157 - acc: 0.3056 - val_loss: 1.7397 - val_acc: 0.3590\n",
            "Epoch 41/300\n",
            "7/7 [==============================] - 0s 31ms/step - loss: 1.8505 - acc: 0.3147 - val_loss: 1.7343 - val_acc: 0.3516\n",
            "Epoch 42/300\n",
            "7/7 [==============================] - 0s 32ms/step - loss: 1.8548 - acc: 0.2797 - val_loss: 1.7354 - val_acc: 0.3663\n",
            "Epoch 43/300\n",
            "7/7 [==============================] - 0s 34ms/step - loss: 1.8088 - acc: 0.3245 - val_loss: 1.7401 - val_acc: 0.3883\n",
            "Epoch 44/300\n",
            "7/7 [==============================] - 0s 30ms/step - loss: 1.9084 - acc: 0.2894 - val_loss: 1.7347 - val_acc: 0.3883\n",
            "Epoch 45/300\n",
            "7/7 [==============================] - 0s 33ms/step - loss: 1.7949 - acc: 0.3173 - val_loss: 1.7416 - val_acc: 0.3663\n",
            "Epoch 46/300\n",
            "7/7 [==============================] - 0s 31ms/step - loss: 1.8745 - acc: 0.2842 - val_loss: 1.7437 - val_acc: 0.3553\n",
            "Epoch 47/300\n",
            "7/7 [==============================] - 0s 31ms/step - loss: 1.7799 - acc: 0.3056 - val_loss: 1.7330 - val_acc: 0.3626\n",
            "Epoch 48/300\n",
            "7/7 [==============================] - 0s 32ms/step - loss: 1.8197 - acc: 0.3180 - val_loss: 1.7297 - val_acc: 0.3663\n",
            "Epoch 49/300\n",
            "7/7 [==============================] - 0s 35ms/step - loss: 1.8061 - acc: 0.3037 - val_loss: 1.7333 - val_acc: 0.3883\n",
            "Epoch 50/300\n",
            "7/7 [==============================] - 0s 32ms/step - loss: 1.7676 - acc: 0.2979 - val_loss: 1.7236 - val_acc: 0.4139\n",
            "Epoch 51/300\n",
            "7/7 [==============================] - 0s 33ms/step - loss: 1.7244 - acc: 0.3485 - val_loss: 1.7139 - val_acc: 0.4139\n",
            "Epoch 52/300\n",
            "7/7 [==============================] - 0s 32ms/step - loss: 1.7945 - acc: 0.3284 - val_loss: 1.7310 - val_acc: 0.3956\n",
            "Epoch 53/300\n",
            "7/7 [==============================] - 0s 31ms/step - loss: 1.7404 - acc: 0.3426 - val_loss: 1.7274 - val_acc: 0.3663\n",
            "Epoch 54/300\n",
            "7/7 [==============================] - 0s 31ms/step - loss: 1.7831 - acc: 0.3141 - val_loss: 1.6910 - val_acc: 0.4066\n",
            "Epoch 55/300\n",
            "7/7 [==============================] - 0s 31ms/step - loss: 1.8063 - acc: 0.3297 - val_loss: 1.6738 - val_acc: 0.3956\n",
            "Epoch 56/300\n",
            "7/7 [==============================] - 0s 32ms/step - loss: 1.7808 - acc: 0.3232 - val_loss: 1.6765 - val_acc: 0.4176\n",
            "Epoch 57/300\n",
            "7/7 [==============================] - 0s 30ms/step - loss: 1.7780 - acc: 0.3115 - val_loss: 1.6626 - val_acc: 0.3846\n",
            "Epoch 58/300\n",
            "7/7 [==============================] - 0s 31ms/step - loss: 1.7963 - acc: 0.3368 - val_loss: 1.6648 - val_acc: 0.3810\n",
            "Epoch 59/300\n",
            "7/7 [==============================] - 0s 30ms/step - loss: 1.7665 - acc: 0.3108 - val_loss: 1.6655 - val_acc: 0.3919\n",
            "Epoch 60/300\n",
            "7/7 [==============================] - 0s 35ms/step - loss: 1.7502 - acc: 0.3323 - val_loss: 1.6519 - val_acc: 0.4029\n",
            "Epoch 61/300\n",
            "7/7 [==============================] - 0s 32ms/step - loss: 1.8064 - acc: 0.3498 - val_loss: 1.6483 - val_acc: 0.4176\n",
            "Epoch 62/300\n",
            "7/7 [==============================] - 0s 32ms/step - loss: 1.7402 - acc: 0.3550 - val_loss: 1.6499 - val_acc: 0.4103\n",
            "Epoch 63/300\n",
            "7/7 [==============================] - 0s 33ms/step - loss: 1.7424 - acc: 0.3219 - val_loss: 1.6470 - val_acc: 0.3846\n",
            "Epoch 64/300\n",
            "7/7 [==============================] - 0s 30ms/step - loss: 1.7542 - acc: 0.3498 - val_loss: 1.6486 - val_acc: 0.3919\n",
            "Epoch 65/300\n",
            "7/7 [==============================] - 0s 32ms/step - loss: 1.7213 - acc: 0.3329 - val_loss: 1.6540 - val_acc: 0.4139\n",
            "Epoch 66/300\n",
            "7/7 [==============================] - 0s 33ms/step - loss: 1.7291 - acc: 0.3556 - val_loss: 1.6474 - val_acc: 0.4286\n",
            "Epoch 67/300\n",
            "7/7 [==============================] - 0s 33ms/step - loss: 1.7118 - acc: 0.3485 - val_loss: 1.6348 - val_acc: 0.4322\n",
            "Epoch 68/300\n",
            "7/7 [==============================] - 0s 33ms/step - loss: 1.7470 - acc: 0.3400 - val_loss: 1.6384 - val_acc: 0.4066\n",
            "Epoch 69/300\n",
            "7/7 [==============================] - 0s 34ms/step - loss: 1.7310 - acc: 0.3348 - val_loss: 1.6430 - val_acc: 0.4103\n",
            "Epoch 70/300\n",
            "7/7 [==============================] - 0s 33ms/step - loss: 1.6947 - acc: 0.3608 - val_loss: 1.6359 - val_acc: 0.4103\n",
            "Epoch 71/300\n",
            "7/7 [==============================] - 0s 35ms/step - loss: 1.7160 - acc: 0.3550 - val_loss: 1.6287 - val_acc: 0.4212\n",
            "Epoch 72/300\n",
            "7/7 [==============================] - 0s 31ms/step - loss: 1.7152 - acc: 0.3679 - val_loss: 1.6268 - val_acc: 0.4249\n",
            "Epoch 73/300\n",
            "7/7 [==============================] - 0s 34ms/step - loss: 1.7042 - acc: 0.3686 - val_loss: 1.6379 - val_acc: 0.4359\n",
            "Epoch 74/300\n",
            "7/7 [==============================] - 0s 31ms/step - loss: 1.7314 - acc: 0.3316 - val_loss: 1.6294 - val_acc: 0.4139\n",
            "Epoch 75/300\n",
            "7/7 [==============================] - 0s 33ms/step - loss: 1.6648 - acc: 0.3705 - val_loss: 1.6270 - val_acc: 0.4322\n",
            "Epoch 76/300\n",
            "7/7 [==============================] - 0s 32ms/step - loss: 1.6611 - acc: 0.3640 - val_loss: 1.6316 - val_acc: 0.4139\n",
            "Epoch 77/300\n",
            "7/7 [==============================] - 0s 30ms/step - loss: 1.6907 - acc: 0.3628 - val_loss: 1.6295 - val_acc: 0.4176\n",
            "Epoch 78/300\n",
            "7/7 [==============================] - 0s 33ms/step - loss: 1.6712 - acc: 0.3550 - val_loss: 1.6478 - val_acc: 0.4176\n",
            "Epoch 79/300\n",
            "7/7 [==============================] - 0s 31ms/step - loss: 1.7196 - acc: 0.3407 - val_loss: 1.6265 - val_acc: 0.4176\n",
            "Epoch 80/300\n",
            "7/7 [==============================] - 0s 32ms/step - loss: 1.7184 - acc: 0.3699 - val_loss: 1.6130 - val_acc: 0.4322\n",
            "Epoch 81/300\n",
            "7/7 [==============================] - 0s 31ms/step - loss: 1.6457 - acc: 0.3874 - val_loss: 1.6097 - val_acc: 0.4212\n",
            "Epoch 82/300\n",
            "7/7 [==============================] - 0s 30ms/step - loss: 1.6566 - acc: 0.3660 - val_loss: 1.6032 - val_acc: 0.4103\n",
            "Epoch 83/300\n",
            "7/7 [==============================] - 0s 33ms/step - loss: 1.6349 - acc: 0.3738 - val_loss: 1.5898 - val_acc: 0.4322\n",
            "Epoch 84/300\n",
            "7/7 [==============================] - 0s 33ms/step - loss: 1.6413 - acc: 0.3868 - val_loss: 1.5805 - val_acc: 0.4286\n",
            "Epoch 85/300\n",
            "7/7 [==============================] - 0s 32ms/step - loss: 1.6549 - acc: 0.3809 - val_loss: 1.5659 - val_acc: 0.4579\n",
            "Epoch 86/300\n",
            "7/7 [==============================] - 0s 34ms/step - loss: 1.6368 - acc: 0.3868 - val_loss: 1.5467 - val_acc: 0.4835\n",
            "Epoch 87/300\n",
            "7/7 [==============================] - 0s 33ms/step - loss: 1.6537 - acc: 0.3790 - val_loss: 1.5384 - val_acc: 0.4872\n",
            "Epoch 88/300\n",
            "7/7 [==============================] - 0s 31ms/step - loss: 1.6018 - acc: 0.3913 - val_loss: 1.5267 - val_acc: 0.4945\n",
            "Epoch 89/300\n",
            "7/7 [==============================] - 0s 31ms/step - loss: 1.6267 - acc: 0.3887 - val_loss: 1.5176 - val_acc: 0.4689\n",
            "Epoch 90/300\n",
            "7/7 [==============================] - 0s 33ms/step - loss: 1.5968 - acc: 0.3939 - val_loss: 1.5083 - val_acc: 0.4799\n",
            "Epoch 91/300\n",
            "7/7 [==============================] - 0s 31ms/step - loss: 1.6020 - acc: 0.4004 - val_loss: 1.5096 - val_acc: 0.4799\n",
            "Epoch 92/300\n",
            "7/7 [==============================] - 0s 35ms/step - loss: 1.6214 - acc: 0.3803 - val_loss: 1.5101 - val_acc: 0.4982\n",
            "Epoch 93/300\n",
            "7/7 [==============================] - 0s 32ms/step - loss: 1.6040 - acc: 0.3913 - val_loss: 1.4994 - val_acc: 0.4725\n",
            "Epoch 94/300\n",
            "7/7 [==============================] - 0s 31ms/step - loss: 1.6251 - acc: 0.3835 - val_loss: 1.5013 - val_acc: 0.4762\n",
            "Epoch 95/300\n",
            "7/7 [==============================] - 0s 32ms/step - loss: 1.6066 - acc: 0.3920 - val_loss: 1.5098 - val_acc: 0.4725\n",
            "Epoch 96/300\n",
            "7/7 [==============================] - 0s 34ms/step - loss: 1.6232 - acc: 0.4101 - val_loss: 1.5057 - val_acc: 0.4835\n",
            "Epoch 97/300\n",
            "7/7 [==============================] - 0s 30ms/step - loss: 1.5659 - acc: 0.4205 - val_loss: 1.5074 - val_acc: 0.4835\n",
            "Epoch 98/300\n",
            "7/7 [==============================] - 0s 32ms/step - loss: 1.5687 - acc: 0.4036 - val_loss: 1.4996 - val_acc: 0.4652\n",
            "Epoch 99/300\n",
            "7/7 [==============================] - 0s 34ms/step - loss: 1.6047 - acc: 0.3933 - val_loss: 1.4869 - val_acc: 0.4652\n",
            "Epoch 100/300\n",
            "7/7 [==============================] - 0s 33ms/step - loss: 1.6068 - acc: 0.4075 - val_loss: 1.4799 - val_acc: 0.4725\n",
            "Epoch 101/300\n",
            "7/7 [==============================] - 0s 31ms/step - loss: 1.5795 - acc: 0.4270 - val_loss: 1.4821 - val_acc: 0.4945\n",
            "Epoch 102/300\n",
            "7/7 [==============================] - 0s 31ms/step - loss: 1.6280 - acc: 0.3939 - val_loss: 1.4770 - val_acc: 0.4872\n",
            "Epoch 103/300\n",
            "7/7 [==============================] - 0s 34ms/step - loss: 1.5626 - acc: 0.4244 - val_loss: 1.4771 - val_acc: 0.4835\n",
            "Epoch 104/300\n",
            "7/7 [==============================] - 0s 32ms/step - loss: 1.5806 - acc: 0.4010 - val_loss: 1.4731 - val_acc: 0.4945\n",
            "Epoch 105/300\n",
            "7/7 [==============================] - 0s 32ms/step - loss: 1.5835 - acc: 0.4121 - val_loss: 1.4674 - val_acc: 0.4908\n",
            "Epoch 106/300\n",
            "7/7 [==============================] - 0s 31ms/step - loss: 1.5664 - acc: 0.4250 - val_loss: 1.4596 - val_acc: 0.4872\n",
            "Epoch 107/300\n",
            "7/7 [==============================] - 0s 32ms/step - loss: 1.6088 - acc: 0.4166 - val_loss: 1.4561 - val_acc: 0.4908\n",
            "Epoch 108/300\n",
            "7/7 [==============================] - 0s 31ms/step - loss: 1.5175 - acc: 0.4263 - val_loss: 1.4588 - val_acc: 0.4945\n",
            "Epoch 109/300\n",
            "7/7 [==============================] - 0s 34ms/step - loss: 1.5470 - acc: 0.4218 - val_loss: 1.4557 - val_acc: 0.4908\n",
            "Epoch 110/300\n",
            "7/7 [==============================] - 0s 34ms/step - loss: 1.5235 - acc: 0.4238 - val_loss: 1.4620 - val_acc: 0.4799\n",
            "Epoch 111/300\n",
            "7/7 [==============================] - 0s 32ms/step - loss: 1.5784 - acc: 0.4082 - val_loss: 1.4528 - val_acc: 0.4725\n",
            "Epoch 112/300\n",
            "7/7 [==============================] - 0s 34ms/step - loss: 1.5415 - acc: 0.4322 - val_loss: 1.4514 - val_acc: 0.4725\n",
            "Epoch 113/300\n",
            "7/7 [==============================] - 0s 30ms/step - loss: 1.5056 - acc: 0.4491 - val_loss: 1.4492 - val_acc: 0.4652\n",
            "Epoch 114/300\n",
            "7/7 [==============================] - 0s 35ms/step - loss: 1.5394 - acc: 0.4212 - val_loss: 1.4404 - val_acc: 0.4579\n",
            "Epoch 115/300\n",
            "7/7 [==============================] - 0s 35ms/step - loss: 1.5093 - acc: 0.4393 - val_loss: 1.4401 - val_acc: 0.4725\n",
            "Epoch 116/300\n",
            "7/7 [==============================] - 0s 38ms/step - loss: 1.5231 - acc: 0.4270 - val_loss: 1.4450 - val_acc: 0.4908\n",
            "Epoch 117/300\n",
            "7/7 [==============================] - 0s 33ms/step - loss: 1.5308 - acc: 0.4179 - val_loss: 1.4395 - val_acc: 0.4799\n",
            "Epoch 118/300\n",
            "7/7 [==============================] - 0s 33ms/step - loss: 1.4873 - acc: 0.4484 - val_loss: 1.4339 - val_acc: 0.4799\n",
            "Epoch 119/300\n",
            "7/7 [==============================] - 0s 32ms/step - loss: 1.4971 - acc: 0.4562 - val_loss: 1.4374 - val_acc: 0.4835\n",
            "Epoch 120/300\n",
            "7/7 [==============================] - 0s 30ms/step - loss: 1.5396 - acc: 0.4257 - val_loss: 1.4145 - val_acc: 0.4945\n",
            "Epoch 121/300\n",
            "7/7 [==============================] - 0s 30ms/step - loss: 1.4794 - acc: 0.4555 - val_loss: 1.3954 - val_acc: 0.4982\n",
            "Epoch 122/300\n",
            "7/7 [==============================] - 0s 30ms/step - loss: 1.4646 - acc: 0.4555 - val_loss: 1.3896 - val_acc: 0.4982\n",
            "Epoch 123/300\n",
            "7/7 [==============================] - 0s 31ms/step - loss: 1.5177 - acc: 0.4361 - val_loss: 1.3954 - val_acc: 0.4945\n",
            "Epoch 124/300\n",
            "7/7 [==============================] - 0s 32ms/step - loss: 1.4703 - acc: 0.4783 - val_loss: 1.3964 - val_acc: 0.5018\n",
            "Epoch 125/300\n",
            "7/7 [==============================] - 0s 32ms/step - loss: 1.4803 - acc: 0.4640 - val_loss: 1.3874 - val_acc: 0.5092\n",
            "Epoch 126/300\n",
            "7/7 [==============================] - 0s 30ms/step - loss: 1.4709 - acc: 0.4555 - val_loss: 1.3829 - val_acc: 0.4982\n",
            "Epoch 127/300\n",
            "7/7 [==============================] - 0s 34ms/step - loss: 1.4825 - acc: 0.4620 - val_loss: 1.3624 - val_acc: 0.4982\n",
            "Epoch 128/300\n",
            "7/7 [==============================] - 0s 32ms/step - loss: 1.4693 - acc: 0.4776 - val_loss: 1.3629 - val_acc: 0.5092\n",
            "Epoch 129/300\n",
            "7/7 [==============================] - 0s 34ms/step - loss: 1.4545 - acc: 0.4594 - val_loss: 1.3446 - val_acc: 0.5092\n",
            "Epoch 130/300\n",
            "7/7 [==============================] - 0s 31ms/step - loss: 1.4054 - acc: 0.4731 - val_loss: 1.3396 - val_acc: 0.5275\n",
            "Epoch 131/300\n",
            "7/7 [==============================] - 0s 32ms/step - loss: 1.4325 - acc: 0.4789 - val_loss: 1.3329 - val_acc: 0.5311\n",
            "Epoch 132/300\n",
            "7/7 [==============================] - 0s 32ms/step - loss: 1.4172 - acc: 0.4737 - val_loss: 1.3303 - val_acc: 0.5385\n",
            "Epoch 133/300\n",
            "7/7 [==============================] - 0s 31ms/step - loss: 1.4424 - acc: 0.4685 - val_loss: 1.3332 - val_acc: 0.5238\n",
            "Epoch 134/300\n",
            "7/7 [==============================] - 0s 34ms/step - loss: 1.4359 - acc: 0.4620 - val_loss: 1.3333 - val_acc: 0.5348\n",
            "Epoch 135/300\n",
            "7/7 [==============================] - 0s 31ms/step - loss: 1.4077 - acc: 0.4672 - val_loss: 1.3252 - val_acc: 0.5348\n",
            "Epoch 136/300\n",
            "7/7 [==============================] - 0s 33ms/step - loss: 1.3958 - acc: 0.4938 - val_loss: 1.3172 - val_acc: 0.5311\n",
            "Epoch 137/300\n",
            "7/7 [==============================] - 0s 32ms/step - loss: 1.4321 - acc: 0.4737 - val_loss: 1.3039 - val_acc: 0.5348\n",
            "Epoch 138/300\n",
            "7/7 [==============================] - 0s 33ms/step - loss: 1.3801 - acc: 0.5010 - val_loss: 1.3020 - val_acc: 0.5275\n",
            "Epoch 139/300\n",
            "7/7 [==============================] - 0s 32ms/step - loss: 1.3948 - acc: 0.4906 - val_loss: 1.2990 - val_acc: 0.5275\n",
            "Epoch 140/300\n",
            "7/7 [==============================] - 0s 31ms/step - loss: 1.4180 - acc: 0.4951 - val_loss: 1.2959 - val_acc: 0.5348\n",
            "Epoch 141/300\n",
            "7/7 [==============================] - 0s 33ms/step - loss: 1.3635 - acc: 0.5088 - val_loss: 1.2934 - val_acc: 0.5385\n",
            "Epoch 142/300\n",
            "7/7 [==============================] - 0s 31ms/step - loss: 1.3603 - acc: 0.5088 - val_loss: 1.2854 - val_acc: 0.5348\n",
            "Epoch 143/300\n",
            "7/7 [==============================] - 0s 31ms/step - loss: 1.3611 - acc: 0.5036 - val_loss: 1.2794 - val_acc: 0.5385\n",
            "Epoch 144/300\n",
            "7/7 [==============================] - 0s 34ms/step - loss: 1.3604 - acc: 0.4964 - val_loss: 1.2784 - val_acc: 0.5348\n",
            "Epoch 145/300\n",
            "7/7 [==============================] - 0s 35ms/step - loss: 1.3238 - acc: 0.5081 - val_loss: 1.2727 - val_acc: 0.5421\n",
            "Epoch 146/300\n",
            "7/7 [==============================] - 0s 31ms/step - loss: 1.3399 - acc: 0.5211 - val_loss: 1.2734 - val_acc: 0.5348\n",
            "Epoch 147/300\n",
            "7/7 [==============================] - 0s 33ms/step - loss: 1.3138 - acc: 0.5224 - val_loss: 1.2749 - val_acc: 0.5458\n",
            "Epoch 148/300\n",
            "7/7 [==============================] - 0s 34ms/step - loss: 1.3338 - acc: 0.5133 - val_loss: 1.2794 - val_acc: 0.5458\n",
            "Epoch 149/300\n",
            "7/7 [==============================] - 0s 33ms/step - loss: 1.3143 - acc: 0.5120 - val_loss: 1.2766 - val_acc: 0.5348\n",
            "Epoch 150/300\n",
            "7/7 [==============================] - 0s 32ms/step - loss: 1.3346 - acc: 0.5191 - val_loss: 1.2727 - val_acc: 0.5275\n",
            "Epoch 151/300\n",
            "7/7 [==============================] - 0s 34ms/step - loss: 1.3274 - acc: 0.5075 - val_loss: 1.2763 - val_acc: 0.5421\n",
            "Epoch 152/300\n",
            "7/7 [==============================] - 0s 34ms/step - loss: 1.3018 - acc: 0.5321 - val_loss: 1.2689 - val_acc: 0.5458\n",
            "Epoch 153/300\n",
            "7/7 [==============================] - 0s 34ms/step - loss: 1.3517 - acc: 0.5036 - val_loss: 1.2523 - val_acc: 0.5458\n",
            "Epoch 154/300\n",
            "7/7 [==============================] - 0s 37ms/step - loss: 1.2974 - acc: 0.5399 - val_loss: 1.2355 - val_acc: 0.5678\n",
            "Epoch 155/300\n",
            "7/7 [==============================] - 0s 34ms/step - loss: 1.3166 - acc: 0.5178 - val_loss: 1.2251 - val_acc: 0.5458\n",
            "Epoch 156/300\n",
            "7/7 [==============================] - 0s 38ms/step - loss: 1.3323 - acc: 0.5107 - val_loss: 1.2253 - val_acc: 0.5788\n",
            "Epoch 157/300\n",
            "7/7 [==============================] - 0s 30ms/step - loss: 1.3556 - acc: 0.5289 - val_loss: 1.2215 - val_acc: 0.5751\n",
            "Epoch 158/300\n",
            "7/7 [==============================] - 0s 34ms/step - loss: 1.2894 - acc: 0.5341 - val_loss: 1.2325 - val_acc: 0.5788\n",
            "Epoch 159/300\n",
            "7/7 [==============================] - 0s 33ms/step - loss: 1.2921 - acc: 0.5302 - val_loss: 1.2362 - val_acc: 0.5641\n",
            "Epoch 160/300\n",
            "7/7 [==============================] - 0s 32ms/step - loss: 1.3200 - acc: 0.5263 - val_loss: 1.2314 - val_acc: 0.5751\n",
            "Epoch 161/300\n",
            "7/7 [==============================] - 0s 37ms/step - loss: 1.3121 - acc: 0.5321 - val_loss: 1.2132 - val_acc: 0.5714\n",
            "Epoch 162/300\n",
            "7/7 [==============================] - 0s 34ms/step - loss: 1.2514 - acc: 0.5432 - val_loss: 1.2037 - val_acc: 0.5641\n",
            "Epoch 163/300\n",
            "7/7 [==============================] - 0s 34ms/step - loss: 1.2739 - acc: 0.5295 - val_loss: 1.2044 - val_acc: 0.5751\n",
            "Epoch 164/300\n",
            "7/7 [==============================] - 0s 36ms/step - loss: 1.2629 - acc: 0.5483 - val_loss: 1.2047 - val_acc: 0.5861\n",
            "Epoch 165/300\n",
            "7/7 [==============================] - 0s 34ms/step - loss: 1.2565 - acc: 0.5451 - val_loss: 1.2039 - val_acc: 0.5861\n",
            "Epoch 166/300\n",
            "7/7 [==============================] - 0s 32ms/step - loss: 1.2243 - acc: 0.5568 - val_loss: 1.1998 - val_acc: 0.5788\n",
            "Epoch 167/300\n",
            "7/7 [==============================] - 0s 35ms/step - loss: 1.2321 - acc: 0.5724 - val_loss: 1.2045 - val_acc: 0.5678\n",
            "Epoch 168/300\n",
            "7/7 [==============================] - 0s 36ms/step - loss: 1.2391 - acc: 0.5600 - val_loss: 1.1868 - val_acc: 0.5897\n",
            "Epoch 169/300\n",
            "7/7 [==============================] - 0s 34ms/step - loss: 1.2663 - acc: 0.5295 - val_loss: 1.1599 - val_acc: 0.6081\n",
            "Epoch 170/300\n",
            "7/7 [==============================] - 0s 34ms/step - loss: 1.3078 - acc: 0.5185 - val_loss: 1.1559 - val_acc: 0.6190\n",
            "Epoch 171/300\n",
            "7/7 [==============================] - 0s 34ms/step - loss: 1.2608 - acc: 0.5516 - val_loss: 1.1637 - val_acc: 0.6410\n",
            "Epoch 172/300\n",
            "7/7 [==============================] - 0s 35ms/step - loss: 1.2460 - acc: 0.5380 - val_loss: 1.1608 - val_acc: 0.6227\n",
            "Epoch 173/300\n",
            "7/7 [==============================] - 0s 34ms/step - loss: 1.2238 - acc: 0.5529 - val_loss: 1.1502 - val_acc: 0.6337\n",
            "Epoch 174/300\n",
            "7/7 [==============================] - 0s 33ms/step - loss: 1.2205 - acc: 0.5490 - val_loss: 1.1475 - val_acc: 0.6154\n",
            "Epoch 175/300\n",
            "7/7 [==============================] - 0s 34ms/step - loss: 1.2278 - acc: 0.5574 - val_loss: 1.1508 - val_acc: 0.6007\n",
            "Epoch 176/300\n",
            "7/7 [==============================] - 0s 34ms/step - loss: 1.2043 - acc: 0.5581 - val_loss: 1.1479 - val_acc: 0.5897\n",
            "Epoch 177/300\n",
            "7/7 [==============================] - 0s 33ms/step - loss: 1.1974 - acc: 0.5620 - val_loss: 1.1436 - val_acc: 0.5897\n",
            "Epoch 178/300\n",
            "7/7 [==============================] - 0s 31ms/step - loss: 1.2122 - acc: 0.5535 - val_loss: 1.1378 - val_acc: 0.6117\n",
            "Epoch 179/300\n",
            "7/7 [==============================] - 0s 41ms/step - loss: 1.2106 - acc: 0.5730 - val_loss: 1.1251 - val_acc: 0.6117\n",
            "Epoch 180/300\n",
            "7/7 [==============================] - 0s 32ms/step - loss: 1.1719 - acc: 0.5737 - val_loss: 1.1079 - val_acc: 0.6264\n",
            "Epoch 181/300\n",
            "7/7 [==============================] - 0s 31ms/step - loss: 1.2055 - acc: 0.5639 - val_loss: 1.0988 - val_acc: 0.6190\n",
            "Epoch 182/300\n",
            "7/7 [==============================] - 0s 32ms/step - loss: 1.1946 - acc: 0.5613 - val_loss: 1.0906 - val_acc: 0.6154\n",
            "Epoch 183/300\n",
            "7/7 [==============================] - 0s 33ms/step - loss: 1.1979 - acc: 0.5633 - val_loss: 1.0765 - val_acc: 0.6264\n",
            "Epoch 184/300\n",
            "7/7 [==============================] - 0s 31ms/step - loss: 1.1948 - acc: 0.5756 - val_loss: 1.0832 - val_acc: 0.6227\n",
            "Epoch 185/300\n",
            "7/7 [==============================] - 0s 34ms/step - loss: 1.1720 - acc: 0.5834 - val_loss: 1.0865 - val_acc: 0.6374\n",
            "Epoch 186/300\n",
            "7/7 [==============================] - 0s 35ms/step - loss: 1.1558 - acc: 0.5879 - val_loss: 1.0687 - val_acc: 0.6447\n",
            "Epoch 187/300\n",
            "7/7 [==============================] - 0s 31ms/step - loss: 1.1926 - acc: 0.5788 - val_loss: 1.0679 - val_acc: 0.6447\n",
            "Epoch 188/300\n",
            "7/7 [==============================] - 0s 37ms/step - loss: 1.1807 - acc: 0.5775 - val_loss: 1.0693 - val_acc: 0.6520\n",
            "Epoch 189/300\n",
            "7/7 [==============================] - 0s 32ms/step - loss: 1.1560 - acc: 0.5788 - val_loss: 1.0691 - val_acc: 0.6410\n",
            "Epoch 190/300\n",
            "7/7 [==============================] - 0s 33ms/step - loss: 1.1672 - acc: 0.5866 - val_loss: 1.0730 - val_acc: 0.6520\n",
            "Epoch 191/300\n",
            "7/7 [==============================] - 0s 32ms/step - loss: 1.1387 - acc: 0.5866 - val_loss: 1.0843 - val_acc: 0.6484\n",
            "Epoch 192/300\n",
            "7/7 [==============================] - 0s 37ms/step - loss: 1.1598 - acc: 0.5756 - val_loss: 1.0771 - val_acc: 0.6520\n",
            "Epoch 193/300\n",
            "7/7 [==============================] - 0s 35ms/step - loss: 1.0837 - acc: 0.6126 - val_loss: 1.0635 - val_acc: 0.6447\n",
            "Epoch 194/300\n",
            "7/7 [==============================] - 0s 32ms/step - loss: 1.1423 - acc: 0.5944 - val_loss: 1.0503 - val_acc: 0.6520\n",
            "Epoch 195/300\n",
            "7/7 [==============================] - 0s 32ms/step - loss: 1.1170 - acc: 0.5905 - val_loss: 1.0329 - val_acc: 0.6520\n",
            "Epoch 196/300\n",
            "7/7 [==============================] - 0s 38ms/step - loss: 1.0630 - acc: 0.6236 - val_loss: 1.0238 - val_acc: 0.6593\n",
            "Epoch 197/300\n",
            "7/7 [==============================] - 0s 32ms/step - loss: 1.1198 - acc: 0.5886 - val_loss: 1.0245 - val_acc: 0.6520\n",
            "Epoch 198/300\n",
            "7/7 [==============================] - 0s 37ms/step - loss: 1.1279 - acc: 0.5983 - val_loss: 1.0378 - val_acc: 0.6520\n",
            "Epoch 199/300\n",
            "7/7 [==============================] - 0s 34ms/step - loss: 1.0583 - acc: 0.6113 - val_loss: 1.0516 - val_acc: 0.6447\n",
            "Epoch 200/300\n",
            "7/7 [==============================] - 0s 31ms/step - loss: 1.0760 - acc: 0.6243 - val_loss: 1.0567 - val_acc: 0.6484\n",
            "Epoch 201/300\n",
            "7/7 [==============================] - 0s 33ms/step - loss: 1.0654 - acc: 0.6145 - val_loss: 1.0490 - val_acc: 0.6593\n",
            "Epoch 202/300\n",
            "7/7 [==============================] - 0s 34ms/step - loss: 1.0995 - acc: 0.6171 - val_loss: 1.0453 - val_acc: 0.6593\n",
            "Epoch 203/300\n",
            "7/7 [==============================] - 0s 31ms/step - loss: 1.0916 - acc: 0.6100 - val_loss: 1.0350 - val_acc: 0.6484\n",
            "Epoch 204/300\n",
            "7/7 [==============================] - 0s 31ms/step - loss: 1.0674 - acc: 0.6067 - val_loss: 1.0332 - val_acc: 0.6593\n",
            "Epoch 205/300\n",
            "7/7 [==============================] - 0s 37ms/step - loss: 1.0295 - acc: 0.6353 - val_loss: 1.0268 - val_acc: 0.6703\n",
            "Epoch 206/300\n",
            "7/7 [==============================] - 0s 31ms/step - loss: 1.0872 - acc: 0.6093 - val_loss: 1.0222 - val_acc: 0.6520\n",
            "Epoch 207/300\n",
            "7/7 [==============================] - 0s 31ms/step - loss: 1.0646 - acc: 0.6295 - val_loss: 1.0217 - val_acc: 0.6630\n",
            "Epoch 208/300\n",
            "7/7 [==============================] - 0s 34ms/step - loss: 1.0185 - acc: 0.6295 - val_loss: 1.0394 - val_acc: 0.6593\n",
            "Epoch 209/300\n",
            "7/7 [==============================] - 0s 35ms/step - loss: 1.0650 - acc: 0.6139 - val_loss: 1.0463 - val_acc: 0.6520\n",
            "Epoch 210/300\n",
            "7/7 [==============================] - 0s 33ms/step - loss: 1.0469 - acc: 0.6327 - val_loss: 1.0457 - val_acc: 0.6557\n",
            "Epoch 211/300\n",
            "7/7 [==============================] - 0s 33ms/step - loss: 1.0894 - acc: 0.6243 - val_loss: 1.0357 - val_acc: 0.6667\n",
            "Epoch 212/300\n",
            "7/7 [==============================] - 0s 37ms/step - loss: 1.0697 - acc: 0.6152 - val_loss: 1.0219 - val_acc: 0.6813\n",
            "Epoch 213/300\n",
            "7/7 [==============================] - 0s 33ms/step - loss: 1.0495 - acc: 0.6204 - val_loss: 1.0178 - val_acc: 0.6923\n",
            "Epoch 214/300\n",
            "7/7 [==============================] - 0s 34ms/step - loss: 1.0275 - acc: 0.6372 - val_loss: 1.0297 - val_acc: 0.6813\n",
            "Epoch 215/300\n",
            "7/7 [==============================] - 0s 31ms/step - loss: 1.0654 - acc: 0.6327 - val_loss: 1.0420 - val_acc: 0.6777\n",
            "Epoch 216/300\n",
            "7/7 [==============================] - 0s 32ms/step - loss: 1.0668 - acc: 0.6093 - val_loss: 1.0414 - val_acc: 0.6813\n",
            "Epoch 217/300\n",
            "7/7 [==============================] - 0s 34ms/step - loss: 1.0345 - acc: 0.6347 - val_loss: 1.0383 - val_acc: 0.6813\n",
            "Epoch 218/300\n",
            "7/7 [==============================] - 0s 35ms/step - loss: 1.0637 - acc: 0.6191 - val_loss: 1.0278 - val_acc: 0.6777\n",
            "Epoch 219/300\n",
            "7/7 [==============================] - 0s 33ms/step - loss: 1.0271 - acc: 0.6321 - val_loss: 1.0169 - val_acc: 0.6850\n",
            "Epoch 220/300\n",
            "7/7 [==============================] - 0s 34ms/step - loss: 1.0449 - acc: 0.6489 - val_loss: 1.0093 - val_acc: 0.6813\n",
            "Epoch 221/300\n",
            "7/7 [==============================] - 0s 32ms/step - loss: 1.0339 - acc: 0.6353 - val_loss: 1.0118 - val_acc: 0.6777\n",
            "Epoch 222/300\n",
            "7/7 [==============================] - 0s 31ms/step - loss: 1.0203 - acc: 0.6398 - val_loss: 1.0204 - val_acc: 0.6667\n",
            "Epoch 223/300\n",
            "7/7 [==============================] - 0s 33ms/step - loss: 1.0318 - acc: 0.6392 - val_loss: 1.0229 - val_acc: 0.6777\n",
            "Epoch 224/300\n",
            "7/7 [==============================] - 0s 33ms/step - loss: 1.0275 - acc: 0.6502 - val_loss: 1.0211 - val_acc: 0.6813\n",
            "Epoch 225/300\n",
            "7/7 [==============================] - 0s 36ms/step - loss: 1.0269 - acc: 0.6418 - val_loss: 1.0141 - val_acc: 0.6960\n",
            "Epoch 226/300\n",
            "7/7 [==============================] - 0s 30ms/step - loss: 1.0515 - acc: 0.6204 - val_loss: 1.0025 - val_acc: 0.6850\n",
            "Epoch 227/300\n",
            "7/7 [==============================] - 0s 32ms/step - loss: 1.0328 - acc: 0.6321 - val_loss: 0.9965 - val_acc: 0.6960\n",
            "Epoch 228/300\n",
            "7/7 [==============================] - 0s 31ms/step - loss: 1.0409 - acc: 0.6327 - val_loss: 0.9750 - val_acc: 0.6850\n",
            "Epoch 229/300\n",
            "7/7 [==============================] - 0s 33ms/step - loss: 1.0308 - acc: 0.6405 - val_loss: 0.9723 - val_acc: 0.6996\n",
            "Epoch 230/300\n",
            "7/7 [==============================] - 0s 31ms/step - loss: 1.0572 - acc: 0.6217 - val_loss: 0.9702 - val_acc: 0.6923\n",
            "Epoch 231/300\n",
            "7/7 [==============================] - 0s 34ms/step - loss: 1.0541 - acc: 0.6184 - val_loss: 0.9710 - val_acc: 0.6850\n",
            "Epoch 232/300\n",
            "7/7 [==============================] - 0s 33ms/step - loss: 1.0224 - acc: 0.6340 - val_loss: 0.9695 - val_acc: 0.6850\n",
            "Epoch 233/300\n",
            "7/7 [==============================] - 0s 34ms/step - loss: 1.0022 - acc: 0.6483 - val_loss: 0.9651 - val_acc: 0.6960\n",
            "Epoch 234/300\n",
            "7/7 [==============================] - 0s 36ms/step - loss: 1.0006 - acc: 0.6541 - val_loss: 0.9647 - val_acc: 0.7033\n",
            "Epoch 235/300\n",
            "7/7 [==============================] - 0s 35ms/step - loss: 1.0280 - acc: 0.6411 - val_loss: 0.9673 - val_acc: 0.6996\n",
            "Epoch 236/300\n",
            "7/7 [==============================] - 0s 34ms/step - loss: 0.9834 - acc: 0.6671 - val_loss: 0.9588 - val_acc: 0.6996\n",
            "Epoch 237/300\n",
            "7/7 [==============================] - 0s 32ms/step - loss: 0.9766 - acc: 0.6437 - val_loss: 0.9509 - val_acc: 0.6886\n",
            "Epoch 238/300\n",
            "7/7 [==============================] - 0s 36ms/step - loss: 0.9607 - acc: 0.6535 - val_loss: 0.9430 - val_acc: 0.6813\n",
            "Epoch 239/300\n",
            "7/7 [==============================] - 0s 34ms/step - loss: 1.0103 - acc: 0.6379 - val_loss: 0.9393 - val_acc: 0.6740\n",
            "Epoch 240/300\n",
            "7/7 [==============================] - 0s 34ms/step - loss: 0.9761 - acc: 0.6567 - val_loss: 0.9313 - val_acc: 0.6777\n",
            "Epoch 241/300\n",
            "7/7 [==============================] - 0s 31ms/step - loss: 0.9676 - acc: 0.6535 - val_loss: 0.9339 - val_acc: 0.6777\n",
            "Epoch 242/300\n",
            "7/7 [==============================] - 0s 34ms/step - loss: 0.9760 - acc: 0.6554 - val_loss: 0.9403 - val_acc: 0.6703\n",
            "Epoch 243/300\n",
            "7/7 [==============================] - 0s 32ms/step - loss: 0.9677 - acc: 0.6567 - val_loss: 0.9412 - val_acc: 0.6850\n",
            "Epoch 244/300\n",
            "7/7 [==============================] - 0s 35ms/step - loss: 0.9277 - acc: 0.6820 - val_loss: 0.9387 - val_acc: 0.6777\n",
            "Epoch 245/300\n",
            "7/7 [==============================] - 0s 34ms/step - loss: 0.9723 - acc: 0.6580 - val_loss: 0.9439 - val_acc: 0.6923\n",
            "Epoch 246/300\n",
            "7/7 [==============================] - 0s 33ms/step - loss: 0.9223 - acc: 0.6723 - val_loss: 0.9217 - val_acc: 0.6850\n",
            "Epoch 247/300\n",
            "7/7 [==============================] - 0s 34ms/step - loss: 0.9786 - acc: 0.6561 - val_loss: 0.9174 - val_acc: 0.6996\n",
            "Epoch 248/300\n",
            "7/7 [==============================] - 0s 36ms/step - loss: 0.9659 - acc: 0.6567 - val_loss: 0.9211 - val_acc: 0.6960\n",
            "Epoch 249/300\n",
            "7/7 [==============================] - 0s 34ms/step - loss: 0.9552 - acc: 0.6554 - val_loss: 0.9135 - val_acc: 0.6996\n",
            "Epoch 250/300\n",
            "7/7 [==============================] - 0s 33ms/step - loss: 0.9532 - acc: 0.6626 - val_loss: 0.9186 - val_acc: 0.6850\n",
            "Epoch 251/300\n",
            "7/7 [==============================] - 0s 34ms/step - loss: 0.9072 - acc: 0.6859 - val_loss: 0.9238 - val_acc: 0.6850\n",
            "Epoch 252/300\n",
            "7/7 [==============================] - 0s 33ms/step - loss: 0.9121 - acc: 0.6827 - val_loss: 0.9339 - val_acc: 0.6960\n",
            "Epoch 253/300\n",
            "7/7 [==============================] - 0s 37ms/step - loss: 0.9172 - acc: 0.6872 - val_loss: 0.9386 - val_acc: 0.7033\n",
            "Epoch 254/300\n",
            "7/7 [==============================] - 0s 35ms/step - loss: 0.9426 - acc: 0.6580 - val_loss: 0.9309 - val_acc: 0.7033\n",
            "Epoch 255/300\n",
            "7/7 [==============================] - 0s 35ms/step - loss: 0.9348 - acc: 0.6749 - val_loss: 0.9313 - val_acc: 0.6996\n",
            "Epoch 256/300\n",
            "7/7 [==============================] - 0s 34ms/step - loss: 0.9225 - acc: 0.6807 - val_loss: 0.9302 - val_acc: 0.7106\n",
            "Epoch 257/300\n",
            "7/7 [==============================] - 0s 37ms/step - loss: 0.9659 - acc: 0.6574 - val_loss: 0.9315 - val_acc: 0.6960\n",
            "Epoch 258/300\n",
            "7/7 [==============================] - 0s 35ms/step - loss: 0.9562 - acc: 0.6781 - val_loss: 0.9379 - val_acc: 0.6886\n",
            "Epoch 259/300\n",
            "7/7 [==============================] - 0s 33ms/step - loss: 0.9384 - acc: 0.6697 - val_loss: 0.9451 - val_acc: 0.6886\n",
            "Epoch 260/300\n",
            "7/7 [==============================] - 0s 35ms/step - loss: 0.9661 - acc: 0.6749 - val_loss: 0.9556 - val_acc: 0.6850\n",
            "Epoch 261/300\n",
            "7/7 [==============================] - 0s 39ms/step - loss: 0.9493 - acc: 0.6593 - val_loss: 0.9430 - val_acc: 0.6886\n",
            "Epoch 262/300\n",
            "7/7 [==============================] - 0s 34ms/step - loss: 0.9169 - acc: 0.6703 - val_loss: 0.9235 - val_acc: 0.6923\n",
            "Epoch 263/300\n",
            "7/7 [==============================] - 0s 34ms/step - loss: 0.9351 - acc: 0.6794 - val_loss: 0.9190 - val_acc: 0.6886\n",
            "Epoch 264/300\n",
            "7/7 [==============================] - 0s 35ms/step - loss: 0.9425 - acc: 0.6600 - val_loss: 0.9265 - val_acc: 0.6703\n",
            "Epoch 265/300\n",
            "7/7 [==============================] - 0s 36ms/step - loss: 0.9097 - acc: 0.6924 - val_loss: 0.9343 - val_acc: 0.6630\n",
            "Epoch 266/300\n",
            "7/7 [==============================] - 0s 37ms/step - loss: 0.8947 - acc: 0.6833 - val_loss: 0.9388 - val_acc: 0.6703\n",
            "Epoch 267/300\n",
            "7/7 [==============================] - 0s 34ms/step - loss: 0.8697 - acc: 0.6853 - val_loss: 0.9335 - val_acc: 0.6703\n",
            "Epoch 268/300\n",
            "7/7 [==============================] - 0s 32ms/step - loss: 0.8900 - acc: 0.6963 - val_loss: 0.9398 - val_acc: 0.6777\n",
            "Epoch 269/300\n",
            "7/7 [==============================] - 0s 38ms/step - loss: 0.8452 - acc: 0.7034 - val_loss: 0.9455 - val_acc: 0.6703\n",
            "Epoch 270/300\n",
            "7/7 [==============================] - 0s 32ms/step - loss: 0.9111 - acc: 0.6814 - val_loss: 0.9498 - val_acc: 0.6777\n",
            "Epoch 271/300\n",
            "7/7 [==============================] - 0s 34ms/step - loss: 0.9500 - acc: 0.6677 - val_loss: 0.9480 - val_acc: 0.6667\n",
            "Epoch 272/300\n",
            "7/7 [==============================] - 0s 34ms/step - loss: 0.9150 - acc: 0.6729 - val_loss: 0.9397 - val_acc: 0.6886\n",
            "Epoch 273/300\n",
            "7/7 [==============================] - 0s 37ms/step - loss: 0.8996 - acc: 0.6801 - val_loss: 0.9430 - val_acc: 0.6923\n",
            "Epoch 274/300\n",
            "7/7 [==============================] - 0s 33ms/step - loss: 0.8735 - acc: 0.7034 - val_loss: 0.9458 - val_acc: 0.6960\n",
            "Epoch 275/300\n",
            "7/7 [==============================] - 0s 33ms/step - loss: 0.8652 - acc: 0.6924 - val_loss: 0.9519 - val_acc: 0.6813\n",
            "Epoch 276/300\n",
            "7/7 [==============================] - 0s 32ms/step - loss: 0.8580 - acc: 0.7047 - val_loss: 0.9612 - val_acc: 0.6850\n",
            "Epoch 277/300\n",
            "7/7 [==============================] - 0s 35ms/step - loss: 0.8709 - acc: 0.6859 - val_loss: 0.9664 - val_acc: 0.6850\n",
            "Epoch 278/300\n",
            "7/7 [==============================] - 0s 34ms/step - loss: 0.8830 - acc: 0.6892 - val_loss: 0.9718 - val_acc: 0.6813\n",
            "Epoch 279/300\n",
            "7/7 [==============================] - 0s 33ms/step - loss: 0.8383 - acc: 0.7034 - val_loss: 0.9798 - val_acc: 0.6777\n",
            "Epoch 280/300\n",
            "7/7 [==============================] - 0s 31ms/step - loss: 0.8852 - acc: 0.6905 - val_loss: 0.9868 - val_acc: 0.6813\n",
            "Epoch 281/300\n",
            "7/7 [==============================] - 0s 33ms/step - loss: 0.8215 - acc: 0.7054 - val_loss: 0.9741 - val_acc: 0.6777\n",
            "Epoch 282/300\n",
            "7/7 [==============================] - 0s 34ms/step - loss: 0.8614 - acc: 0.6905 - val_loss: 0.9552 - val_acc: 0.6923\n",
            "Epoch 283/300\n",
            "7/7 [==============================] - 0s 34ms/step - loss: 0.8494 - acc: 0.7015 - val_loss: 0.9441 - val_acc: 0.6886\n",
            "Epoch 284/300\n",
            "7/7 [==============================] - 0s 32ms/step - loss: 0.8659 - acc: 0.6924 - val_loss: 0.9517 - val_acc: 0.6960\n",
            "Epoch 285/300\n",
            "7/7 [==============================] - 0s 34ms/step - loss: 0.8990 - acc: 0.6859 - val_loss: 0.9659 - val_acc: 0.6740\n",
            "Epoch 286/300\n",
            "7/7 [==============================] - 0s 35ms/step - loss: 0.8451 - acc: 0.6970 - val_loss: 0.9698 - val_acc: 0.6813\n",
            "Epoch 287/300\n",
            "7/7 [==============================] - 0s 34ms/step - loss: 0.8558 - acc: 0.7015 - val_loss: 0.9641 - val_acc: 0.6850\n",
            "Epoch 288/300\n",
            "7/7 [==============================] - 0s 33ms/step - loss: 0.8605 - acc: 0.7034 - val_loss: 0.9623 - val_acc: 0.6777\n",
            "Epoch 289/300\n",
            "7/7 [==============================] - 0s 32ms/step - loss: 0.8321 - acc: 0.6944 - val_loss: 0.9504 - val_acc: 0.6813\n",
            "Epoch 290/300\n",
            "7/7 [==============================] - 0s 34ms/step - loss: 0.8328 - acc: 0.7002 - val_loss: 0.9337 - val_acc: 0.6813\n",
            "Epoch 291/300\n",
            "7/7 [==============================] - 0s 34ms/step - loss: 0.8393 - acc: 0.7041 - val_loss: 0.9239 - val_acc: 0.6777\n",
            "Epoch 292/300\n",
            "7/7 [==============================] - 0s 37ms/step - loss: 0.9007 - acc: 0.6729 - val_loss: 0.9223 - val_acc: 0.6886\n",
            "Epoch 293/300\n",
            "7/7 [==============================] - 0s 34ms/step - loss: 0.8811 - acc: 0.6989 - val_loss: 0.9141 - val_acc: 0.6886\n",
            "Epoch 294/300\n",
            "7/7 [==============================] - 0s 35ms/step - loss: 0.8792 - acc: 0.6781 - val_loss: 0.9204 - val_acc: 0.6960\n",
            "Epoch 295/300\n",
            "7/7 [==============================] - 0s 38ms/step - loss: 0.8652 - acc: 0.6957 - val_loss: 0.9283 - val_acc: 0.6923\n",
            "Epoch 296/300\n",
            "7/7 [==============================] - 0s 36ms/step - loss: 0.8420 - acc: 0.6957 - val_loss: 0.9318 - val_acc: 0.6960\n",
            "Epoch 297/300\n",
            "7/7 [==============================] - 0s 33ms/step - loss: 0.7991 - acc: 0.7151 - val_loss: 0.9299 - val_acc: 0.6850\n",
            "Epoch 298/300\n",
            "7/7 [==============================] - 0s 33ms/step - loss: 0.8152 - acc: 0.7008 - val_loss: 0.9330 - val_acc: 0.6813\n",
            "Epoch 299/300\n",
            "7/7 [==============================] - 0s 39ms/step - loss: 0.7936 - acc: 0.7138 - val_loss: 0.9406 - val_acc: 0.6813\n",
            "Epoch 300/300\n",
            "7/7 [==============================] - 0s 35ms/step - loss: 0.8587 - acc: 0.6892 - val_loss: 0.9367 - val_acc: 0.6813\n"
          ]
        }
      ]
    },
    {
      "cell_type": "code",
      "source": [
        "display_learning_curves(history3)"
      ],
      "metadata": {
        "colab": {
          "base_uri": "https://localhost:8080/",
          "height": 337
        },
        "id": "wgyfcs6hGkUS",
        "outputId": "a5ab7186-2431-451a-f80b-3efa2962e237"
      },
      "execution_count": null,
      "outputs": [
        {
          "output_type": "display_data",
          "data": {
            "image/png": "[encoded data removed]",
            "text/plain": [
              "<Figure size 1080x360 with 2 Axes>"
            ]
          },
          "metadata": {
            "needs_background": "light"
          }
        }
      ]
    },
    {
      "cell_type": "code",
      "source": [
        "_, test_accuracy = baseline_model.evaluate(x=x_test_all, y=y_test_all, verbose=0)\n",
        "print(f\"Test accuracy: {round(test_accuracy * 100, 2)}%\")"
      ],
      "metadata": {
        "colab": {
          "base_uri": "https://localhost:8080/"
        },
        "id": "k7Ck8aXmGk2b",
        "outputId": "034eadee-b85d-4595-98c4-22e7a2610ddb"
      },
      "execution_count": null,
      "outputs": [
        {
          "output_type": "stream",
          "name": "stdout",
          "text": [
            "Test accuracy: 69.13%\n"
          ]
        }
      ]
    },
    {
      "cell_type": "markdown",
      "source": [
        "### <div dir=\"rtl\">نتیجه گیری بخش دوم:</div>\n",
        "\n",
        "<div dir=\"rtl\">\n",
        "در این بخش از شبکه عصبی Feedforward برای آموزش مدلمان برای دسته‌بندی نودها استفاده کردیم. مشابه قسمت قبل در اینجا نیز با رویکردهای گوناگونی عملکرد شبکه‌مان رو با استفاده از داده‌های گوناگون بررسی کردیم که در زیر به اختصار در مورد آن توضیح می‌دهیم:\n",
        "\n",
        "در روش اول از معیارهای سنتی که برای هر نود استخراج شده است برای آموزش شبکه‌ی FFN استفاده کردیم و نهایتا به صحت ۳۰ درصد رسیدیم.\n",
        "\n",
        "در روش دوم تنها از ویژگی‌های باینری نودها استفاده کردیم و شبکه‌ی FFN را آموزش دادیم. در این قسمت پیشرفت چشمگیری داشتیم و توانستیم داد‌های تست را با صحت ۷۸ درصد کلاسبندی کنیم.\n",
        "\n",
        "نهایتا در آخرین روش شبکه‌مان را با استفاده از ترکیبی از ویژگیهای باینری نودها و معیارهای سنتی آموزش دادیم و برخلاف قسمت با افت صحت در زمان دسته‌بندی داده‌های تست مواجه شدیم و به صحت ۶۹ درصد رسیدیم.\n",
        "نتیجه میگیریم به دلیل تفاوت ماهیت داده‌های معیارهای سنتی و ویژگیهای باینری نودها عملکد شبکه افت کرده است.\n",
        "<div>"
      ],
      "metadata": {
        "id": "OzH5zBwVY20n"
      }
    },
    {
      "cell_type": "markdown",
      "metadata": {
        "id": "v5ADjlW-U8oy"
      },
      "source": [
        "##(GNN)بخش سوم: ساخت یک شبکه‌ی عصبی گراف \n",
        "\n",
        "### آماده سازی داده برای شبکه‌ی عصبی گراف\n",
        "\n",
        "<div dir=rtl>\n",
        "آماده‌سازی و بارگذاری داده‌های نمودارها در مدل برای آموزش، چالش‌برانگیزترین بخش در مدل‌های GNN است.\n",
        "در این پروژه، ما یک رویکرد ساده برای تهیه و استفاده از داده‌های گراف را نشان می‌دهیم که اگر مجموعه داده از یک نمودار تشکیل شده باشد که به طور کامل در حافظه جا می‌گیرد، مناسب است.\n",
        "\n",
        "داده های گراف با تاپل «graph_info» نشان داده می شود که از سه عنصر زیر تشکیل شده است:\n",
        "\n",
        "1. \"node_features\": این یک آرایه NumPy با ابعاد [num_nodes, num_features] است که شامل ویژگی‌های گره است. در این مجموعه داده، گره ها مقالات هستند و ویژگی های_گره بردارهای باینری حضور کلمه هر مقاله هستند.\n",
        "2. \"edges\": این یک آرایه NumPy با ابعاد [num_edges, num_edges] است که یک ماتریس مجاورت پراکنده از یال‌های بین گره‌ها را نشان می‌دهد. در این مثال، پیوندها، ارجاعات بین مقالات هستند.\n",
        "3. \"Edge_weights\" (اختیاری):این یک آرایه NumPy با ابعاد \"[num_edges]\" است که شامل وزن‌های یال‌ها است و قدرت روابط بین گره‌ها را در نمودار مشخص می‌کند. در این مثال، وزنی برای ارجاعات مقاله وجود ندارد.\n",
        "<div>\n"
      ]
    },
    {
      "cell_type": "code",
      "execution_count": null,
      "metadata": {
        "colab": {
          "base_uri": "https://localhost:8080/"
        },
        "id": "X35G5nyFU8oy",
        "outputId": "6b4d66e8-916c-426a-bedb-7b18f848d07e"
      },
      "outputs": [
        {
          "output_type": "stream",
          "name": "stdout",
          "text": [
            "Edges shape: (2, 5429)\n",
            "Nodes shape: (2708, 1433)\n"
          ]
        }
      ],
      "source": [
        "# Create an edges array (sparse adjacency matrix) of shape [2, num_edges].\n",
        "edges = citations[[\"source\", \"target\"]].to_numpy().T\n",
        "# Create an edge weights array of ones.\n",
        "edge_weights = tf.ones(shape=edges.shape[1])\n",
        "# Create a node features array of shape [num_nodes, num_features].\n",
        "node_features = tf.cast(\n",
        "    papers.sort_values(\"paper_id\")[feature_names].to_numpy(), dtype=tf.dtypes.float32\n",
        ")\n",
        "# Create graph info tuple with node_features, edges, and edge_weights.\n",
        "graph_info = (node_features, edges, edge_weights)\n",
        "\n",
        "print(\"Edges shape:\", edges.shape)\n",
        "print(\"Nodes shape:\", node_features.shape)"
      ]
    },
    {
      "cell_type": "markdown",
      "metadata": {
        "id": "HTs1RciDU8oz"
      },
      "source": [
        "### graph convolution layer پیاده سازی \n",
        "\n",
        "<div dir=rtl>\n",
        "ما یک ماژول graph convolution را به عنوان لایه Keras پیاده سازی می کنیم\n",
        "«GraphConvLayer» ما مراحل زیر را انجام می دهد:\n",
        "\n",
        "1.  **Prepare** : نمایش گره ورودی (node representation) با استفاده از FFN برای تولید یک پیام پردازش می شود. این عمل میتواند با استفاده از توابع خطی نیز به سادگی انجام شود.\n",
        "2. **Aggregate**: پیام های همسایگان هر گره با توجه به \"edge_weights\" با استفاده از یک عملیات permutaion invariant، مانند *جمع*، *میانگین*، و ...، تجمیع می شوند تا یک پیام برای هر گره ایجاد شود.\n",
        "3. **Update**: representation هر گره و پیام‌‌ ‌‌‌‌‌‌‌ت‌‌ج‌م‌ی‌ع‌ ‌ش‌د‌ه‌‌‌ی‌ ‌آ‌ن‌ ‌ب‌ا‌ ‌ه‌‌م‌ ‌ت‌ر‌ک‌ی‌ب‌ ‌م‌ی‌‌‌ش‌و‌‌ن‌د‌ ‌و‌ ‌ی‌ک‌ ‌r‌e‌p‌r‌e‌s‌e‌n‌t‌a‌t‌i‌o‌n‌ ‌ج‌د‌ی‌د‌ ‌ب‌ر‌ا‌ی‌ ‌ه‌ر‌ ‌گ‌ر‌ه‌ ‌ا‌ی‌‌ج‌ا‌د‌ ‌م‌ی‌ش‌و‌د‌.‌\n",
        "<div>\n"
      ]
    },
    {
      "cell_type": "code",
      "execution_count": null,
      "metadata": {
        "id": "Wf4CwZ8vU8o0"
      },
      "outputs": [],
      "source": [
        "class GraphConvLayer(layers.Layer):\n",
        "    def __init__(\n",
        "        self,\n",
        "        hidden_units,\n",
        "        dropout_rate=0.2,\n",
        "        aggregation_type=\"mean\",\n",
        "        combination_type=\"concat\",\n",
        "        normalize=False,\n",
        "        *args,\n",
        "        **kwargs,\n",
        "    ):\n",
        "        super(GraphConvLayer, self).__init__(*args, **kwargs)\n",
        "\n",
        "        self.aggregation_type = aggregation_type\n",
        "        self.combination_type = combination_type\n",
        "        self.normalize = normalize\n",
        "\n",
        "        self.ffn_prepare = create_ffn(hidden_units, dropout_rate)\n",
        "        self.update_fn = create_ffn(hidden_units, dropout_rate)\n",
        "\n",
        "    def prepare(self, node_repesentations, weights=None):\n",
        "        # node_repesentations shape is [num_edges, embedding_dim].\n",
        "        messages = self.ffn_prepare(node_repesentations)\n",
        "        if weights is not None:\n",
        "            messages = messages * tf.expand_dims(weights, -1)\n",
        "        return messages\n",
        "\n",
        "    def aggregate(self, node_indices, neighbour_messages):\n",
        "        # node_indices shape is [num_edges].\n",
        "        # neighbour_messages shape: [num_edges, representation_dim].\n",
        "        num_nodes = tf.math.reduce_max(node_indices) + 1\n",
        "        if self.aggregation_type == \"sum\":\n",
        "            aggregated_message = tf.math.unsorted_segment_sum(\n",
        "                neighbour_messages, node_indices, num_segments=num_nodes\n",
        "            )\n",
        "        elif self.aggregation_type == \"mean\":\n",
        "            aggregated_message = tf.math.unsorted_segment_mean(\n",
        "                neighbour_messages, node_indices, num_segments=num_nodes\n",
        "            )\n",
        "        elif self.aggregation_type == \"max\":\n",
        "            aggregated_message = tf.math.unsorted_segment_max(\n",
        "                neighbour_messages, node_indices, num_segments=num_nodes\n",
        "            )\n",
        "        else:\n",
        "            raise ValueError(f\"Invalid aggregation type: {self.aggregation_type}.\")\n",
        "\n",
        "        return aggregated_message\n",
        "\n",
        "    def update(self, node_repesentations, aggregated_messages):\n",
        "        # node_repesentations shape is [num_nodes, representation_dim].\n",
        "        # aggregated_messages shape is [num_nodes, representation_dim].\n",
        "        if self.combination_type == \"concat\":\n",
        "            # Concatenate the node_repesentations and aggregated_messages.\n",
        "            h = tf.concat([node_repesentations, aggregated_messages], axis=1)\n",
        "        elif self.combination_type == \"add\":\n",
        "            # Add node_repesentations and aggregated_messages.\n",
        "            h = node_repesentations + aggregated_messages\n",
        "        else:\n",
        "            raise ValueError(f\"Invalid combination type: {self.combination_type}.\")\n",
        "\n",
        "        # Apply the processing function.\n",
        "        node_embeddings = self.update_fn(h)\n",
        "        if self.normalize:\n",
        "            node_embeddings = tf.nn.l2_normalize(node_embeddings, axis=-1)\n",
        "        return node_embeddings\n",
        "\n",
        "    def call(self, inputs):\n",
        "        \"\"\"Process the inputs to produce the node_embeddings.\n",
        "\n",
        "        inputs: a tuple of three elements: node_repesentations, edges, edge_weights.\n",
        "        Returns: node_embeddings of shape [num_nodes, representation_dim].\n",
        "        \"\"\"\n",
        "\n",
        "        node_repesentations, edges, edge_weights = inputs\n",
        "        # Get node_indices (source) and neighbour_indices (target) from edges.\n",
        "        node_indices, neighbour_indices = edges[0], edges[1]\n",
        "        # neighbour_repesentations shape is [num_edges, representation_dim].\n",
        "        neighbour_repesentations = tf.gather(node_repesentations, neighbour_indices)\n",
        "\n",
        "        # Prepare the messages of the neighbours.\n",
        "        neighbour_messages = self.prepare(neighbour_repesentations, edge_weights)\n",
        "        # Aggregate the neighbour messages.\n",
        "        aggregated_messages = self.aggregate(node_indices, neighbour_messages)\n",
        "        # Update the node embedding with the neighbour messages.\n",
        "        return self.update(node_repesentations, aggregated_messages)\n"
      ]
    },
    {
      "cell_type": "markdown",
      "metadata": {
        "id": "sCvWrOFdU8o2"
      },
      "source": [
        "### پیاده سازی یک شبکه‌ی عصبی گراف برای طبقه‌بندی نود‌ها\n",
        "\n",
        "‌<div dir=rtl>\n",
        "مدل GNN طبقه بندی نود‌ها به صورت زیر عمل می‌کند:\n",
        "1. پیش پردازش با استفاده از FFN به ویژگی های گره اعمال می‌شود تا نمایش  اولیه‌ی گره ها ایجاد شود.\n",
        "2. یک یا بیشتر لایه‌ی convolution با skip connection برای ایجاد node embedding به نمایش گره‌ها اعمال می‌شود.\n",
        "3. پس پردازش با استفاده از FFN به embedding گره ها اعمال میشود تا node embedding های نهایی ایجاد شود.\n",
        "4. برای تخمین کلاس گره یک لایه‌ی softmax روی embedding نهایی اعمال می‌شود.\n",
        "<div>\n"
      ]
    },
    {
      "cell_type": "code",
      "execution_count": null,
      "metadata": {
        "id": "-YqX1PM8U8o3"
      },
      "outputs": [],
      "source": [
        "class GNNNodeClassifier(tf.keras.Model):\n",
        "    def __init__(\n",
        "        self,\n",
        "        graph_info,\n",
        "        num_classes,\n",
        "        hidden_units,\n",
        "        aggregation_type=\"sum\",\n",
        "        combination_type=\"concat\",\n",
        "        dropout_rate=0.2,\n",
        "        normalize=True,\n",
        "        *args,\n",
        "        **kwargs,\n",
        "    ):\n",
        "        super(GNNNodeClassifier, self).__init__(*args, **kwargs)\n",
        "\n",
        "        # Unpack graph_info to three elements: node_features, edges, and edge_weight.\n",
        "        node_features, edges, edge_weights = graph_info\n",
        "        self.node_features = node_features\n",
        "        self.edges = edges\n",
        "        self.edge_weights = edge_weights\n",
        "        # Set edge_weights to ones if not provided.\n",
        "        if self.edge_weights is None:\n",
        "            self.edge_weights = tf.ones(shape=edges.shape[1])\n",
        "        # Scale edge_weights to sum to 1.\n",
        "        self.edge_weights = self.edge_weights / tf.math.reduce_sum(self.edge_weights)\n",
        "\n",
        "        # Create a process layer.\n",
        "        self.preprocess = create_ffn(hidden_units, dropout_rate, name=\"preprocess\")\n",
        "        # Create the first GraphConv layer.\n",
        "        self.conv1 = GraphConvLayer(\n",
        "            hidden_units,\n",
        "            dropout_rate,\n",
        "            aggregation_type,\n",
        "            combination_type,\n",
        "            normalize,\n",
        "            name=\"graph_conv1\",\n",
        "        )\n",
        "        # Create the second GraphConv layer.\n",
        "        self.conv2 = GraphConvLayer(\n",
        "            hidden_units,\n",
        "            dropout_rate,\n",
        "            aggregation_type,\n",
        "            combination_type,\n",
        "            normalize,\n",
        "            name=\"graph_conv2\",\n",
        "        )\n",
        "        # Create the third GraphConv layer.\n",
        "        self.conv3 = GraphConvLayer(\n",
        "            hidden_units,\n",
        "            dropout_rate,\n",
        "            aggregation_type,\n",
        "            combination_type,\n",
        "            normalize,\n",
        "            name=\"graph_conv3\",\n",
        "        )\n",
        "        # Create the forth GraphConv layer.\n",
        "        self.conv4 = GraphConvLayer(\n",
        "            hidden_units,\n",
        "            dropout_rate,\n",
        "            aggregation_type,\n",
        "            combination_type,\n",
        "            normalize,\n",
        "            name=\"graph_conv4\",\n",
        "        )\n",
        "        # Create the fifth GraphConv layer.\n",
        "        self.conv5 = GraphConvLayer(\n",
        "            hidden_units,\n",
        "            dropout_rate,\n",
        "            aggregation_type,\n",
        "            combination_type,\n",
        "            normalize,\n",
        "            name=\"graph_conv5\",\n",
        "        )\n",
        "        # Create the sixth GraphConv layer.\n",
        "        self.conv6 = GraphConvLayer(\n",
        "            hidden_units,\n",
        "            dropout_rate,\n",
        "            aggregation_type,\n",
        "            combination_type,\n",
        "            normalize,\n",
        "            name=\"graph_conv6\",\n",
        "        )\n",
        "        # Create a postprocess layer.\n",
        "        self.postprocess = create_ffn(hidden_units, dropout_rate, name=\"postprocess\")\n",
        "        # Create a compute logits layer.\n",
        "        self.compute_logits = layers.Dense(units=num_classes, name=\"logits\")\n",
        "\n",
        "    def call(self, input_node_indices):\n",
        "        # Preprocess the node_features to produce node representations.\n",
        "        x = self.preprocess(self.node_features)\n",
        "        # Apply the first graph conv layer.\n",
        "        x1 = self.conv1((x, self.edges, self.edge_weights))\n",
        "        # Skip connection.\n",
        "        x = x1 + x\n",
        "        # Apply the second graph conv layer.\n",
        "        x2 = self.conv2((x, self.edges, self.edge_weights))\n",
        "        # Skip connection.\n",
        "        x = x2 + x\n",
        "        # Apply the third graph conv layer.\n",
        "        x3 = self.conv3((x, self.edges, self.edge_weights))\n",
        "        # Skip connection.\n",
        "        x = x3 + x\n",
        "        # Apply the forth graph conv layer.\n",
        "        x4 = self.conv4((x, self.edges, self.edge_weights))\n",
        "        # Skip connection.\n",
        "        x = x4 + x\n",
        "        # Apply the fifth graph conv layer.\n",
        "        x5 = self.conv5((x, self.edges, self.edge_weights))\n",
        "        # Skip connection.\n",
        "        x = x5 + x\n",
        "        # Apply the sixth graph conv layer.\n",
        "        x6 = self.conv6((x, self.edges, self.edge_weights))\n",
        "        # Skip connection.\n",
        "        x = x6 + x\n",
        "        # Postprocess node embedding.\n",
        "        x = self.postprocess(x)\n",
        "        # Fetch node embeddings for the input node_indices.\n",
        "        node_embeddings = tf.gather(x, input_node_indices)\n",
        "        # Compute logits\n",
        "        return self.compute_logits(node_embeddings)\n"
      ]
    },
    {
      "cell_type": "markdown",
      "metadata": {
        "id": "C_RHqlMRU8o4"
      },
      "source": [
        "<div dir=rtl>\n",
        "در این‌جا نمونه سازی و فراخوانی مدل GNN را آزمایش میکنیم.\n",
        "</div>\n"
      ]
    },
    {
      "cell_type": "code",
      "execution_count": null,
      "metadata": {
        "colab": {
          "base_uri": "https://localhost:8080/"
        },
        "id": "AVhi7QjBU8o4",
        "outputId": "8fc3fa31-a433-410c-e10b-6405fb2e6be0"
      },
      "outputs": [
        {
          "output_type": "stream",
          "name": "stdout",
          "text": [
            "GNN output shape: tf.Tensor(\n",
            "[[-0.14861467 -0.09815494  0.05052063  0.0286662  -0.12208878 -0.16932918\n",
            "   0.10487613]\n",
            " [ 0.04386604 -0.05445424  0.05483924 -0.09570114 -0.24510577 -0.06470599\n",
            "   0.11537778]\n",
            " [-0.06569505  0.04367747  0.05626149 -0.05045615 -0.08924629 -0.03616297\n",
            "   0.06142385]], shape=(3, 7), dtype=float32)\n",
            "Model: \"gnn_model\"\n",
            "_________________________________________________________________\n",
            " Layer (type)                Output Shape              Param #   \n",
            "=================================================================\n",
            " preprocess (Sequential)     (2708, 32)                52804     \n",
            "                                                                 \n",
            " graph_conv1 (GraphConvLayer  multiple                 5888      \n",
            " )                                                               \n",
            "                                                                 \n",
            " graph_conv2 (GraphConvLayer  multiple                 5888      \n",
            " )                                                               \n",
            "                                                                 \n",
            " graph_conv3 (GraphConvLayer  multiple                 5888      \n",
            " )                                                               \n",
            "                                                                 \n",
            " graph_conv4 (GraphConvLayer  multiple                 5888      \n",
            " )                                                               \n",
            "                                                                 \n",
            " graph_conv5 (GraphConvLayer  multiple                 5888      \n",
            " )                                                               \n",
            "                                                                 \n",
            " graph_conv6 (GraphConvLayer  multiple                 5888      \n",
            " )                                                               \n",
            "                                                                 \n",
            " postprocess (Sequential)    (2708, 32)                2368      \n",
            "                                                                 \n",
            " logits (Dense)              multiple                  231       \n",
            "                                                                 \n",
            "=================================================================\n",
            "Total params: 90,731\n",
            "Trainable params: 85,753\n",
            "Non-trainable params: 4,978\n",
            "_________________________________________________________________\n"
          ]
        }
      ],
      "source": [
        "gnn_model = GNNNodeClassifier(\n",
        "    graph_info=graph_info,\n",
        "    num_classes=num_classes,\n",
        "    hidden_units=hidden_units,\n",
        "    dropout_rate=dropout_rate,\n",
        "    name=\"gnn_model\",\n",
        ")\n",
        "\n",
        "print(\"GNN output shape:\", gnn_model([1, 10, 100]))\n",
        "\n",
        "gnn_model.summary()"
      ]
    },
    {
      "cell_type": "markdown",
      "metadata": {
        "id": "Pz8fBk1DU8o4"
      },
      "source": [
        "### GNN ‌آموزش مدل\n",
        "\n",
        "<div dir=rtl>\n",
        "برای آموزش مدل از standard supervised cross-entropy loss استفاده می کنیم. \n",
        "</div>"
      ]
    },
    {
      "cell_type": "code",
      "execution_count": null,
      "metadata": {
        "colab": {
          "base_uri": "https://localhost:8080/"
        },
        "id": "oJjF2tFfU8o5",
        "outputId": "dc66048d-5ad3-4c4c-f5aa-9a38c726a29d"
      },
      "outputs": [
        {
          "output_type": "stream",
          "name": "stdout",
          "text": [
            "Epoch 1/300\n",
            "7/7 [==============================] - 14s 544ms/step - loss: 2.1641 - acc: 0.1991 - val_loss: 1.8826 - val_acc: 0.2962\n",
            "Epoch 2/300\n",
            "7/7 [==============================] - 2s 326ms/step - loss: 1.9627 - acc: 0.2655 - val_loss: 1.9048 - val_acc: 0.3025\n",
            "Epoch 3/300\n",
            "7/7 [==============================] - 2s 323ms/step - loss: 1.8824 - acc: 0.2750 - val_loss: 1.9186 - val_acc: 0.2229\n",
            "Epoch 4/300\n",
            "7/7 [==============================] - 2s 315ms/step - loss: 1.8850 - acc: 0.2756 - val_loss: 1.9028 - val_acc: 0.2962\n",
            "Epoch 5/300\n",
            "7/7 [==============================] - 2s 319ms/step - loss: 1.8550 - acc: 0.2942 - val_loss: 1.8877 - val_acc: 0.3217\n",
            "Epoch 6/300\n",
            "7/7 [==============================] - 2s 321ms/step - loss: 1.8415 - acc: 0.2936 - val_loss: 1.8662 - val_acc: 0.3057\n",
            "Epoch 7/300\n",
            "7/7 [==============================] - 2s 321ms/step - loss: 1.8299 - acc: 0.2964 - val_loss: 1.8547 - val_acc: 0.3121\n",
            "Epoch 8/300\n",
            "7/7 [==============================] - 2s 326ms/step - loss: 1.8036 - acc: 0.3031 - val_loss: 1.8262 - val_acc: 0.3376\n",
            "Epoch 9/300\n",
            "7/7 [==============================] - 2s 324ms/step - loss: 1.7863 - acc: 0.3155 - val_loss: 1.8059 - val_acc: 0.3185\n",
            "Epoch 10/300\n",
            "7/7 [==============================] - 2s 318ms/step - loss: 1.7253 - acc: 0.3240 - val_loss: 1.7844 - val_acc: 0.3153\n",
            "Epoch 11/300\n",
            "7/7 [==============================] - 2s 322ms/step - loss: 1.6897 - acc: 0.3420 - val_loss: 1.6941 - val_acc: 0.3439\n",
            "Epoch 12/300\n",
            "7/7 [==============================] - 2s 323ms/step - loss: 1.6507 - acc: 0.3633 - val_loss: 1.6164 - val_acc: 0.3726\n",
            "Epoch 13/300\n",
            "7/7 [==============================] - 2s 317ms/step - loss: 1.6298 - acc: 0.3622 - val_loss: 1.6023 - val_acc: 0.3790\n",
            "Epoch 14/300\n",
            "7/7 [==============================] - 2s 312ms/step - loss: 1.5630 - acc: 0.4145 - val_loss: 1.6457 - val_acc: 0.3726\n",
            "Epoch 15/300\n",
            "7/7 [==============================] - 2s 320ms/step - loss: 1.4978 - acc: 0.4314 - val_loss: 1.6173 - val_acc: 0.4076\n",
            "Epoch 16/300\n",
            "7/7 [==============================] - 2s 328ms/step - loss: 1.4841 - acc: 0.4319 - val_loss: 1.6938 - val_acc: 0.4713\n",
            "Epoch 17/300\n",
            "7/7 [==============================] - 2s 319ms/step - loss: 1.4308 - acc: 0.4578 - val_loss: 1.8084 - val_acc: 0.3981\n",
            "Epoch 18/300\n",
            "7/7 [==============================] - 2s 318ms/step - loss: 1.3958 - acc: 0.4978 - val_loss: 1.8135 - val_acc: 0.4013\n",
            "Epoch 19/300\n",
            "7/7 [==============================] - 2s 322ms/step - loss: 1.3483 - acc: 0.5197 - val_loss: 1.7175 - val_acc: 0.4554\n",
            "Epoch 20/300\n",
            "7/7 [==============================] - 2s 322ms/step - loss: 1.2634 - acc: 0.5326 - val_loss: 1.5074 - val_acc: 0.5350\n",
            "Epoch 21/300\n",
            "7/7 [==============================] - 2s 318ms/step - loss: 1.2686 - acc: 0.5433 - val_loss: 1.3948 - val_acc: 0.5127\n",
            "Epoch 22/300\n",
            "7/7 [==============================] - 2s 324ms/step - loss: 1.2253 - acc: 0.5529 - val_loss: 1.3068 - val_acc: 0.5510\n",
            "Epoch 23/300\n",
            "7/7 [==============================] - 2s 329ms/step - loss: 1.1789 - acc: 0.5703 - val_loss: 1.2310 - val_acc: 0.5828\n",
            "Epoch 24/300\n",
            "7/7 [==============================] - 2s 322ms/step - loss: 1.1147 - acc: 0.6085 - val_loss: 1.1977 - val_acc: 0.5796\n",
            "Epoch 25/300\n",
            "7/7 [==============================] - 2s 321ms/step - loss: 1.0855 - acc: 0.6108 - val_loss: 1.2467 - val_acc: 0.5764\n",
            "Epoch 26/300\n",
            "7/7 [==============================] - 2s 331ms/step - loss: 1.0391 - acc: 0.6361 - val_loss: 1.2318 - val_acc: 0.6051\n",
            "Epoch 27/300\n",
            "7/7 [==============================] - 2s 326ms/step - loss: 1.0540 - acc: 0.6237 - val_loss: 1.1420 - val_acc: 0.6083\n",
            "Epoch 28/300\n",
            "7/7 [==============================] - 2s 333ms/step - loss: 0.9648 - acc: 0.6603 - val_loss: 1.0201 - val_acc: 0.6274\n",
            "Epoch 29/300\n",
            "7/7 [==============================] - 2s 336ms/step - loss: 0.9182 - acc: 0.6777 - val_loss: 1.0140 - val_acc: 0.6656\n",
            "Epoch 30/300\n",
            "7/7 [==============================] - 2s 332ms/step - loss: 0.9114 - acc: 0.6845 - val_loss: 1.0907 - val_acc: 0.6274\n",
            "Epoch 31/300\n",
            "7/7 [==============================] - 2s 327ms/step - loss: 0.9299 - acc: 0.6789 - val_loss: 0.9569 - val_acc: 0.6592\n",
            "Epoch 32/300\n",
            "7/7 [==============================] - 2s 325ms/step - loss: 0.8492 - acc: 0.7042 - val_loss: 0.8742 - val_acc: 0.6911\n",
            "Epoch 33/300\n",
            "7/7 [==============================] - 2s 318ms/step - loss: 0.8096 - acc: 0.7210 - val_loss: 0.9197 - val_acc: 0.6975\n",
            "Epoch 34/300\n",
            "7/7 [==============================] - 2s 317ms/step - loss: 0.8261 - acc: 0.7120 - val_loss: 0.9669 - val_acc: 0.6242\n",
            "Epoch 35/300\n",
            "7/7 [==============================] - 2s 315ms/step - loss: 0.7884 - acc: 0.7171 - val_loss: 1.0071 - val_acc: 0.6401\n",
            "Epoch 36/300\n",
            "7/7 [==============================] - 2s 321ms/step - loss: 0.7803 - acc: 0.7306 - val_loss: 0.9275 - val_acc: 0.6338\n",
            "Epoch 37/300\n",
            "7/7 [==============================] - 2s 319ms/step - loss: 0.7478 - acc: 0.7447 - val_loss: 0.7693 - val_acc: 0.7070\n",
            "Epoch 38/300\n",
            "7/7 [==============================] - 2s 319ms/step - loss: 0.7572 - acc: 0.7362 - val_loss: 0.7210 - val_acc: 0.7580\n",
            "Epoch 39/300\n",
            "7/7 [==============================] - 2s 319ms/step - loss: 0.7268 - acc: 0.7447 - val_loss: 0.6804 - val_acc: 0.7771\n",
            "Epoch 40/300\n",
            "7/7 [==============================] - 2s 319ms/step - loss: 0.6995 - acc: 0.7632 - val_loss: 0.7035 - val_acc: 0.7420\n",
            "Epoch 41/300\n",
            "7/7 [==============================] - 2s 313ms/step - loss: 0.6819 - acc: 0.7660 - val_loss: 0.7520 - val_acc: 0.7229\n",
            "Epoch 42/300\n",
            "7/7 [==============================] - 2s 324ms/step - loss: 0.6993 - acc: 0.7621 - val_loss: 0.9615 - val_acc: 0.6624\n",
            "Epoch 43/300\n",
            "7/7 [==============================] - 2s 322ms/step - loss: 0.6809 - acc: 0.7475 - val_loss: 1.0259 - val_acc: 0.6720\n",
            "Epoch 44/300\n",
            "7/7 [==============================] - 2s 314ms/step - loss: 0.6689 - acc: 0.7621 - val_loss: 1.0779 - val_acc: 0.6242\n",
            "Epoch 45/300\n",
            "7/7 [==============================] - 2s 318ms/step - loss: 0.6490 - acc: 0.7812 - val_loss: 0.6917 - val_acc: 0.7516\n",
            "Epoch 46/300\n",
            "7/7 [==============================] - 2s 317ms/step - loss: 0.6291 - acc: 0.7823 - val_loss: 0.7734 - val_acc: 0.7197\n",
            "Epoch 47/300\n",
            "7/7 [==============================] - 2s 319ms/step - loss: 0.6150 - acc: 0.7930 - val_loss: 0.7122 - val_acc: 0.7739\n",
            "Epoch 48/300\n",
            "7/7 [==============================] - 2s 317ms/step - loss: 0.5878 - acc: 0.8048 - val_loss: 0.5611 - val_acc: 0.8439\n",
            "Epoch 49/300\n",
            "7/7 [==============================] - 2s 320ms/step - loss: 0.6329 - acc: 0.7908 - val_loss: 0.6052 - val_acc: 0.7930\n",
            "Epoch 50/300\n",
            "7/7 [==============================] - 2s 328ms/step - loss: 0.6236 - acc: 0.7947 - val_loss: 0.6003 - val_acc: 0.7803\n",
            "Epoch 51/300\n",
            "7/7 [==============================] - 2s 315ms/step - loss: 0.5758 - acc: 0.8060 - val_loss: 0.6118 - val_acc: 0.7994\n",
            "Epoch 52/300\n",
            "7/7 [==============================] - 2s 321ms/step - loss: 0.5956 - acc: 0.8105 - val_loss: 0.6515 - val_acc: 0.7771\n",
            "Epoch 53/300\n",
            "7/7 [==============================] - 2s 324ms/step - loss: 0.5816 - acc: 0.8026 - val_loss: 0.6441 - val_acc: 0.7803\n",
            "Epoch 54/300\n",
            "7/7 [==============================] - 2s 316ms/step - loss: 0.5931 - acc: 0.8144 - val_loss: 0.5753 - val_acc: 0.8217\n",
            "Epoch 55/300\n",
            "7/7 [==============================] - 2s 324ms/step - loss: 0.5819 - acc: 0.8048 - val_loss: 0.5517 - val_acc: 0.8312\n",
            "Epoch 56/300\n",
            "7/7 [==============================] - 2s 330ms/step - loss: 0.5583 - acc: 0.8262 - val_loss: 0.5352 - val_acc: 0.8376\n",
            "Epoch 57/300\n",
            "7/7 [==============================] - 2s 326ms/step - loss: 0.5509 - acc: 0.8200 - val_loss: 0.5218 - val_acc: 0.8376\n",
            "Epoch 58/300\n",
            "7/7 [==============================] - 2s 323ms/step - loss: 0.5846 - acc: 0.8105 - val_loss: 0.5159 - val_acc: 0.8503\n",
            "Epoch 59/300\n",
            "7/7 [==============================] - 2s 327ms/step - loss: 0.5801 - acc: 0.8206 - val_loss: 0.5012 - val_acc: 0.8535\n",
            "Epoch 60/300\n",
            "7/7 [==============================] - 2s 316ms/step - loss: 0.5676 - acc: 0.8178 - val_loss: 0.5311 - val_acc: 0.8217\n",
            "Epoch 61/300\n",
            "7/7 [==============================] - 2s 317ms/step - loss: 0.5364 - acc: 0.8313 - val_loss: 0.5121 - val_acc: 0.8503\n",
            "Epoch 62/300\n",
            "7/7 [==============================] - 2s 319ms/step - loss: 0.5446 - acc: 0.8296 - val_loss: 0.5388 - val_acc: 0.8376\n",
            "Epoch 63/300\n",
            "7/7 [==============================] - 2s 323ms/step - loss: 0.5161 - acc: 0.8318 - val_loss: 0.6108 - val_acc: 0.8025\n",
            "Epoch 64/300\n",
            "7/7 [==============================] - 2s 319ms/step - loss: 0.5513 - acc: 0.8262 - val_loss: 0.5954 - val_acc: 0.8153\n",
            "Epoch 65/300\n",
            "7/7 [==============================] - 2s 317ms/step - loss: 0.5135 - acc: 0.8369 - val_loss: 0.5128 - val_acc: 0.8439\n",
            "Epoch 66/300\n",
            "7/7 [==============================] - 2s 321ms/step - loss: 0.4917 - acc: 0.8448 - val_loss: 0.5285 - val_acc: 0.8408\n",
            "Epoch 67/300\n",
            "7/7 [==============================] - 2s 319ms/step - loss: 0.5018 - acc: 0.8425 - val_loss: 0.5288 - val_acc: 0.8408\n",
            "Epoch 68/300\n",
            "7/7 [==============================] - 2s 324ms/step - loss: 0.5390 - acc: 0.8330 - val_loss: 0.5106 - val_acc: 0.8503\n",
            "Epoch 69/300\n",
            "7/7 [==============================] - 2s 319ms/step - loss: 0.5186 - acc: 0.8391 - val_loss: 0.5095 - val_acc: 0.8471\n",
            "Epoch 70/300\n",
            "7/7 [==============================] - 2s 323ms/step - loss: 0.4815 - acc: 0.8459 - val_loss: 0.5402 - val_acc: 0.8471\n",
            "Epoch 71/300\n",
            "7/7 [==============================] - 2s 317ms/step - loss: 0.5122 - acc: 0.8330 - val_loss: 0.5491 - val_acc: 0.8344\n",
            "Epoch 72/300\n",
            "7/7 [==============================] - 2s 320ms/step - loss: 0.4837 - acc: 0.8504 - val_loss: 0.5978 - val_acc: 0.8217\n",
            "Epoch 73/300\n",
            "7/7 [==============================] - 2s 323ms/step - loss: 0.4741 - acc: 0.8510 - val_loss: 0.5416 - val_acc: 0.8312\n",
            "Epoch 74/300\n",
            "7/7 [==============================] - 2s 320ms/step - loss: 0.4518 - acc: 0.8487 - val_loss: 0.5434 - val_acc: 0.8471\n",
            "Epoch 75/300\n",
            "7/7 [==============================] - 2s 325ms/step - loss: 0.4691 - acc: 0.8436 - val_loss: 0.5388 - val_acc: 0.8471\n",
            "Epoch 76/300\n",
            "7/7 [==============================] - 2s 329ms/step - loss: 0.4985 - acc: 0.8515 - val_loss: 0.5261 - val_acc: 0.8567\n",
            "Epoch 77/300\n",
            "7/7 [==============================] - 2s 326ms/step - loss: 0.4915 - acc: 0.8459 - val_loss: 0.5070 - val_acc: 0.8631\n",
            "Epoch 78/300\n",
            "7/7 [==============================] - 2s 326ms/step - loss: 0.4744 - acc: 0.8571 - val_loss: 0.4864 - val_acc: 0.8694\n",
            "Epoch 79/300\n",
            "7/7 [==============================] - 2s 328ms/step - loss: 0.4885 - acc: 0.8453 - val_loss: 0.4962 - val_acc: 0.8599\n",
            "Epoch 80/300\n",
            "7/7 [==============================] - 2s 323ms/step - loss: 0.4880 - acc: 0.8346 - val_loss: 0.5655 - val_acc: 0.8503\n",
            "Epoch 81/300\n",
            "7/7 [==============================] - 2s 320ms/step - loss: 0.4475 - acc: 0.8588 - val_loss: 0.5658 - val_acc: 0.8439\n",
            "Epoch 82/300\n",
            "7/7 [==============================] - 2s 325ms/step - loss: 0.4656 - acc: 0.8515 - val_loss: 0.4989 - val_acc: 0.8631\n",
            "Epoch 83/300\n",
            "7/7 [==============================] - 2s 335ms/step - loss: 0.4672 - acc: 0.8465 - val_loss: 0.5209 - val_acc: 0.8599\n",
            "Epoch 84/300\n",
            "7/7 [==============================] - 2s 320ms/step - loss: 0.4362 - acc: 0.8656 - val_loss: 0.5241 - val_acc: 0.8631\n",
            "Epoch 85/300\n",
            "7/7 [==============================] - 2s 323ms/step - loss: 0.4409 - acc: 0.8633 - val_loss: 0.5309 - val_acc: 0.8599\n",
            "Epoch 86/300\n",
            "7/7 [==============================] - 2s 325ms/step - loss: 0.4550 - acc: 0.8633 - val_loss: 0.5153 - val_acc: 0.8631\n",
            "Epoch 87/300\n",
            "7/7 [==============================] - 2s 321ms/step - loss: 0.4291 - acc: 0.8673 - val_loss: 0.5143 - val_acc: 0.8662\n",
            "Epoch 88/300\n",
            "7/7 [==============================] - 2s 319ms/step - loss: 0.4503 - acc: 0.8515 - val_loss: 0.4982 - val_acc: 0.8631\n",
            "Epoch 89/300\n",
            "7/7 [==============================] - 2s 320ms/step - loss: 0.4350 - acc: 0.8605 - val_loss: 0.5460 - val_acc: 0.8535\n",
            "Epoch 90/300\n",
            "7/7 [==============================] - 2s 324ms/step - loss: 0.4429 - acc: 0.8667 - val_loss: 0.5070 - val_acc: 0.8567\n",
            "Epoch 91/300\n",
            "7/7 [==============================] - 2s 317ms/step - loss: 0.4574 - acc: 0.8560 - val_loss: 0.5323 - val_acc: 0.8503\n",
            "Epoch 92/300\n",
            "7/7 [==============================] - 2s 328ms/step - loss: 0.4388 - acc: 0.8628 - val_loss: 0.5325 - val_acc: 0.8567\n",
            "Epoch 93/300\n",
            "7/7 [==============================] - 2s 330ms/step - loss: 0.4324 - acc: 0.8690 - val_loss: 0.5016 - val_acc: 0.8535\n",
            "Epoch 94/300\n",
            "7/7 [==============================] - 2s 329ms/step - loss: 0.4058 - acc: 0.8808 - val_loss: 0.5136 - val_acc: 0.8726\n",
            "Epoch 95/300\n",
            "7/7 [==============================] - 2s 320ms/step - loss: 0.4191 - acc: 0.8684 - val_loss: 0.5471 - val_acc: 0.8599\n",
            "Epoch 96/300\n",
            "7/7 [==============================] - 2s 320ms/step - loss: 0.4345 - acc: 0.8616 - val_loss: 0.5725 - val_acc: 0.8631\n",
            "Epoch 97/300\n",
            "7/7 [==============================] - 2s 322ms/step - loss: 0.4580 - acc: 0.8481 - val_loss: 0.5738 - val_acc: 0.8567\n",
            "Epoch 98/300\n",
            "7/7 [==============================] - 2s 315ms/step - loss: 0.4384 - acc: 0.8555 - val_loss: 0.5888 - val_acc: 0.8567\n",
            "Epoch 99/300\n",
            "7/7 [==============================] - 2s 323ms/step - loss: 0.4340 - acc: 0.8690 - val_loss: 0.5317 - val_acc: 0.8535\n",
            "Epoch 100/300\n",
            "7/7 [==============================] - 2s 317ms/step - loss: 0.4582 - acc: 0.8616 - val_loss: 0.5383 - val_acc: 0.8631\n",
            "Epoch 101/300\n",
            "7/7 [==============================] - 2s 319ms/step - loss: 0.4361 - acc: 0.8560 - val_loss: 0.5340 - val_acc: 0.8567\n",
            "Epoch 102/300\n",
            "7/7 [==============================] - 2s 315ms/step - loss: 0.4208 - acc: 0.8684 - val_loss: 0.5065 - val_acc: 0.8631\n",
            "Epoch 103/300\n",
            "7/7 [==============================] - 2s 323ms/step - loss: 0.4089 - acc: 0.8645 - val_loss: 0.5031 - val_acc: 0.8535\n",
            "Epoch 104/300\n",
            "7/7 [==============================] - 2s 327ms/step - loss: 0.4379 - acc: 0.8706 - val_loss: 0.5008 - val_acc: 0.8535\n",
            "Epoch 105/300\n",
            "7/7 [==============================] - 2s 319ms/step - loss: 0.3846 - acc: 0.8796 - val_loss: 0.5057 - val_acc: 0.8599\n",
            "Epoch 106/300\n",
            "7/7 [==============================] - 2s 325ms/step - loss: 0.3831 - acc: 0.8723 - val_loss: 0.5457 - val_acc: 0.8503\n",
            "Epoch 107/300\n",
            "7/7 [==============================] - 2s 324ms/step - loss: 0.3767 - acc: 0.8808 - val_loss: 0.5414 - val_acc: 0.8599\n",
            "Epoch 108/300\n",
            "7/7 [==============================] - 2s 325ms/step - loss: 0.4066 - acc: 0.8746 - val_loss: 0.5434 - val_acc: 0.8662\n",
            "Epoch 109/300\n",
            "7/7 [==============================] - 2s 322ms/step - loss: 0.4592 - acc: 0.8555 - val_loss: 0.5726 - val_acc: 0.8503\n",
            "Epoch 110/300\n",
            "7/7 [==============================] - 2s 326ms/step - loss: 0.3945 - acc: 0.8768 - val_loss: 0.5925 - val_acc: 0.8471\n",
            "Epoch 111/300\n",
            "7/7 [==============================] - 2s 324ms/step - loss: 0.4228 - acc: 0.8723 - val_loss: 0.5504 - val_acc: 0.8439\n",
            "Epoch 112/300\n",
            "7/7 [==============================] - 2s 321ms/step - loss: 0.4316 - acc: 0.8678 - val_loss: 0.5442 - val_acc: 0.8471\n",
            "Epoch 113/300\n",
            "7/7 [==============================] - 2s 326ms/step - loss: 0.4050 - acc: 0.8695 - val_loss: 0.5372 - val_acc: 0.8503\n",
            "Epoch 114/300\n",
            "7/7 [==============================] - 2s 324ms/step - loss: 0.4141 - acc: 0.8690 - val_loss: 0.4941 - val_acc: 0.8567\n",
            "Epoch 115/300\n",
            "7/7 [==============================] - 2s 323ms/step - loss: 0.3857 - acc: 0.8819 - val_loss: 0.5360 - val_acc: 0.8503\n",
            "Epoch 116/300\n",
            "7/7 [==============================] - 2s 325ms/step - loss: 0.3986 - acc: 0.8791 - val_loss: 0.5452 - val_acc: 0.8599\n",
            "Epoch 117/300\n",
            "7/7 [==============================] - 2s 321ms/step - loss: 0.4050 - acc: 0.8751 - val_loss: 0.5506 - val_acc: 0.8599\n",
            "Epoch 118/300\n",
            "7/7 [==============================] - 2s 317ms/step - loss: 0.4130 - acc: 0.8723 - val_loss: 0.5383 - val_acc: 0.8567\n",
            "Epoch 119/300\n",
            "7/7 [==============================] - 2s 327ms/step - loss: 0.3946 - acc: 0.8785 - val_loss: 0.5374 - val_acc: 0.8567\n",
            "Epoch 120/300\n",
            "7/7 [==============================] - 2s 329ms/step - loss: 0.3854 - acc: 0.8791 - val_loss: 0.5286 - val_acc: 0.8662\n",
            "Epoch 121/300\n",
            "7/7 [==============================] - 2s 323ms/step - loss: 0.3653 - acc: 0.8774 - val_loss: 0.5474 - val_acc: 0.8503\n",
            "Epoch 122/300\n",
            "7/7 [==============================] - 2s 319ms/step - loss: 0.3833 - acc: 0.8780 - val_loss: 0.5917 - val_acc: 0.8471\n",
            "Epoch 123/300\n",
            "7/7 [==============================] - 2s 323ms/step - loss: 0.3814 - acc: 0.8830 - val_loss: 0.5531 - val_acc: 0.8662\n",
            "Epoch 124/300\n",
            "7/7 [==============================] - 2s 323ms/step - loss: 0.3918 - acc: 0.8825 - val_loss: 0.5353 - val_acc: 0.8503\n",
            "Epoch 125/300\n",
            "7/7 [==============================] - 2s 313ms/step - loss: 0.3922 - acc: 0.8813 - val_loss: 0.5228 - val_acc: 0.8567\n",
            "Epoch 126/300\n",
            "7/7 [==============================] - 2s 325ms/step - loss: 0.3698 - acc: 0.8830 - val_loss: 0.5177 - val_acc: 0.8567\n",
            "Epoch 127/300\n",
            "7/7 [==============================] - 2s 323ms/step - loss: 0.3715 - acc: 0.8870 - val_loss: 0.5094 - val_acc: 0.8631\n",
            "Epoch 128/300\n",
            "7/7 [==============================] - 2s 322ms/step - loss: 0.4418 - acc: 0.8729 - val_loss: 0.5274 - val_acc: 0.8567\n",
            "Epoch 129/300\n",
            "7/7 [==============================] - 2s 319ms/step - loss: 0.4160 - acc: 0.8656 - val_loss: 0.5085 - val_acc: 0.8726\n",
            "Epoch 130/300\n",
            "7/7 [==============================] - 2s 326ms/step - loss: 0.3699 - acc: 0.8819 - val_loss: 0.4993 - val_acc: 0.8567\n",
            "Epoch 131/300\n",
            "7/7 [==============================] - 2s 326ms/step - loss: 0.3702 - acc: 0.8813 - val_loss: 0.5288 - val_acc: 0.8599\n",
            "Epoch 132/300\n",
            "7/7 [==============================] - 2s 320ms/step - loss: 0.3451 - acc: 0.8931 - val_loss: 0.5776 - val_acc: 0.8662\n",
            "Epoch 133/300\n",
            "7/7 [==============================] - 2s 326ms/step - loss: 0.3516 - acc: 0.8976 - val_loss: 0.5868 - val_acc: 0.8694\n",
            "Epoch 134/300\n",
            "7/7 [==============================] - 2s 322ms/step - loss: 0.3808 - acc: 0.8841 - val_loss: 0.5499 - val_acc: 0.8567\n",
            "Epoch 135/300\n",
            "7/7 [==============================] - 2s 322ms/step - loss: 0.3699 - acc: 0.8853 - val_loss: 0.5283 - val_acc: 0.8471\n",
            "Epoch 136/300\n",
            "7/7 [==============================] - 2s 319ms/step - loss: 0.3951 - acc: 0.8796 - val_loss: 0.5072 - val_acc: 0.8726\n",
            "Epoch 137/300\n",
            "7/7 [==============================] - 2s 326ms/step - loss: 0.3482 - acc: 0.8808 - val_loss: 0.5340 - val_acc: 0.8535\n",
            "Epoch 138/300\n",
            "7/7 [==============================] - 2s 321ms/step - loss: 0.3817 - acc: 0.8836 - val_loss: 0.5378 - val_acc: 0.8599\n",
            "Epoch 139/300\n",
            "7/7 [==============================] - 2s 319ms/step - loss: 0.4024 - acc: 0.8796 - val_loss: 0.5275 - val_acc: 0.8599\n",
            "Epoch 140/300\n",
            "7/7 [==============================] - 2s 319ms/step - loss: 0.3918 - acc: 0.8825 - val_loss: 0.5261 - val_acc: 0.8662\n",
            "Epoch 141/300\n",
            "7/7 [==============================] - 2s 322ms/step - loss: 0.3874 - acc: 0.8802 - val_loss: 0.5353 - val_acc: 0.8599\n",
            "Epoch 142/300\n",
            "7/7 [==============================] - 2s 317ms/step - loss: 0.3555 - acc: 0.8976 - val_loss: 0.5784 - val_acc: 0.8535\n",
            "Epoch 143/300\n",
            "7/7 [==============================] - 2s 331ms/step - loss: 0.3715 - acc: 0.8825 - val_loss: 0.5478 - val_acc: 0.8503\n",
            "Epoch 144/300\n",
            "7/7 [==============================] - 2s 322ms/step - loss: 0.3872 - acc: 0.8785 - val_loss: 0.5185 - val_acc: 0.8822\n",
            "Epoch 145/300\n",
            "7/7 [==============================] - 2s 317ms/step - loss: 0.3874 - acc: 0.8813 - val_loss: 0.5109 - val_acc: 0.8694\n",
            "Epoch 146/300\n",
            "7/7 [==============================] - 2s 323ms/step - loss: 0.3477 - acc: 0.8909 - val_loss: 0.5283 - val_acc: 0.8567\n",
            "Epoch 147/300\n",
            "7/7 [==============================] - 2s 321ms/step - loss: 0.3773 - acc: 0.8802 - val_loss: 0.5772 - val_acc: 0.8503\n",
            "Epoch 148/300\n",
            "7/7 [==============================] - 2s 319ms/step - loss: 0.3523 - acc: 0.8948 - val_loss: 0.6365 - val_acc: 0.8439\n",
            "Epoch 149/300\n",
            "7/7 [==============================] - 2s 318ms/step - loss: 0.3687 - acc: 0.8780 - val_loss: 0.5817 - val_acc: 0.8662\n",
            "Epoch 150/300\n",
            "7/7 [==============================] - 2s 320ms/step - loss: 0.3442 - acc: 0.8892 - val_loss: 0.5928 - val_acc: 0.8631\n",
            "Epoch 151/300\n",
            "7/7 [==============================] - 2s 319ms/step - loss: 0.3610 - acc: 0.8909 - val_loss: 0.5501 - val_acc: 0.8662\n",
            "Epoch 152/300\n",
            "7/7 [==============================] - 2s 316ms/step - loss: 0.3589 - acc: 0.8915 - val_loss: 0.5469 - val_acc: 0.8662\n",
            "Epoch 153/300\n",
            "7/7 [==============================] - 2s 323ms/step - loss: 0.3503 - acc: 0.8920 - val_loss: 0.5541 - val_acc: 0.8726\n",
            "Epoch 154/300\n",
            "7/7 [==============================] - 2s 314ms/step - loss: 0.3638 - acc: 0.8825 - val_loss: 0.5402 - val_acc: 0.8599\n",
            "Epoch 155/300\n",
            "7/7 [==============================] - 2s 322ms/step - loss: 0.3451 - acc: 0.8943 - val_loss: 0.5595 - val_acc: 0.8694\n",
            "Epoch 156/300\n",
            "7/7 [==============================] - 2s 324ms/step - loss: 0.3464 - acc: 0.8971 - val_loss: 0.5998 - val_acc: 0.8503\n",
            "Epoch 157/300\n",
            "7/7 [==============================] - 2s 332ms/step - loss: 0.3657 - acc: 0.8898 - val_loss: 0.5402 - val_acc: 0.8567\n",
            "Epoch 158/300\n",
            "7/7 [==============================] - 2s 325ms/step - loss: 0.3698 - acc: 0.8875 - val_loss: 0.5596 - val_acc: 0.8567\n",
            "Epoch 159/300\n",
            "7/7 [==============================] - 2s 318ms/step - loss: 0.3978 - acc: 0.8802 - val_loss: 0.5729 - val_acc: 0.8535\n",
            "Epoch 160/300\n",
            "7/7 [==============================] - 2s 323ms/step - loss: 0.3716 - acc: 0.8836 - val_loss: 0.5601 - val_acc: 0.8535\n",
            "Epoch 161/300\n",
            "7/7 [==============================] - 2s 327ms/step - loss: 0.3431 - acc: 0.8881 - val_loss: 0.5541 - val_acc: 0.8535\n",
            "Epoch 162/300\n",
            "7/7 [==============================] - 2s 337ms/step - loss: 0.3278 - acc: 0.8937 - val_loss: 0.5729 - val_acc: 0.8567\n",
            "Epoch 163/300\n",
            "7/7 [==============================] - 2s 331ms/step - loss: 0.3684 - acc: 0.8875 - val_loss: 0.5735 - val_acc: 0.8471\n",
            "Epoch 164/300\n",
            "7/7 [==============================] - 2s 332ms/step - loss: 0.3400 - acc: 0.8965 - val_loss: 0.6110 - val_acc: 0.8471\n",
            "Epoch 165/300\n",
            "7/7 [==============================] - 2s 323ms/step - loss: 0.3550 - acc: 0.8875 - val_loss: 0.5907 - val_acc: 0.8631\n",
            "Epoch 166/300\n",
            "7/7 [==============================] - 2s 324ms/step - loss: 0.3343 - acc: 0.8948 - val_loss: 0.5593 - val_acc: 0.8567\n",
            "Epoch 167/300\n",
            "7/7 [==============================] - 2s 329ms/step - loss: 0.4168 - acc: 0.8774 - val_loss: 0.5835 - val_acc: 0.8599\n",
            "Epoch 168/300\n",
            "7/7 [==============================] - 2s 324ms/step - loss: 0.3549 - acc: 0.8909 - val_loss: 0.5581 - val_acc: 0.8631\n",
            "Epoch 169/300\n",
            "7/7 [==============================] - 2s 324ms/step - loss: 0.3575 - acc: 0.8915 - val_loss: 0.5140 - val_acc: 0.8631\n",
            "Epoch 170/300\n",
            "7/7 [==============================] - 2s 338ms/step - loss: 0.3492 - acc: 0.8903 - val_loss: 0.5533 - val_acc: 0.8599\n",
            "Epoch 171/300\n",
            "7/7 [==============================] - 2s 333ms/step - loss: 0.3523 - acc: 0.8960 - val_loss: 0.5683 - val_acc: 0.8694\n",
            "Epoch 172/300\n",
            "7/7 [==============================] - 2s 324ms/step - loss: 0.3431 - acc: 0.8931 - val_loss: 0.5481 - val_acc: 0.8662\n",
            "Epoch 173/300\n",
            "7/7 [==============================] - 2s 324ms/step - loss: 0.3539 - acc: 0.8774 - val_loss: 0.5756 - val_acc: 0.8694\n",
            "Epoch 174/300\n",
            "7/7 [==============================] - 2s 322ms/step - loss: 0.3631 - acc: 0.9055 - val_loss: 0.5628 - val_acc: 0.8631\n",
            "Epoch 175/300\n",
            "7/7 [==============================] - 2s 325ms/step - loss: 0.3217 - acc: 0.8926 - val_loss: 0.5854 - val_acc: 0.8599\n",
            "Epoch 176/300\n",
            "7/7 [==============================] - 2s 327ms/step - loss: 0.3324 - acc: 0.9049 - val_loss: 0.5726 - val_acc: 0.8567\n",
            "Epoch 177/300\n",
            "7/7 [==============================] - 2s 321ms/step - loss: 0.3264 - acc: 0.8926 - val_loss: 0.5896 - val_acc: 0.8471\n",
            "Epoch 178/300\n",
            "7/7 [==============================] - 2s 313ms/step - loss: 0.3515 - acc: 0.8926 - val_loss: 0.6144 - val_acc: 0.8471\n",
            "Epoch 179/300\n",
            "7/7 [==============================] - 2s 317ms/step - loss: 0.3620 - acc: 0.8898 - val_loss: 0.5850 - val_acc: 0.8662\n",
            "Epoch 180/300\n",
            "7/7 [==============================] - 2s 317ms/step - loss: 0.3318 - acc: 0.8965 - val_loss: 0.5518 - val_acc: 0.8535\n",
            "Epoch 181/300\n",
            "7/7 [==============================] - 2s 327ms/step - loss: 0.3592 - acc: 0.8903 - val_loss: 0.5644 - val_acc: 0.8599\n",
            "Epoch 182/300\n",
            "7/7 [==============================] - 2s 322ms/step - loss: 0.3802 - acc: 0.8802 - val_loss: 0.5430 - val_acc: 0.8662\n",
            "Epoch 183/300\n",
            "7/7 [==============================] - 2s 324ms/step - loss: 0.3399 - acc: 0.8943 - val_loss: 0.5156 - val_acc: 0.8662\n",
            "Epoch 184/300\n",
            "7/7 [==============================] - 2s 315ms/step - loss: 0.3706 - acc: 0.8903 - val_loss: 0.5256 - val_acc: 0.8694\n",
            "Epoch 185/300\n",
            "7/7 [==============================] - 2s 319ms/step - loss: 0.3345 - acc: 0.8881 - val_loss: 0.5368 - val_acc: 0.8567\n",
            "Epoch 186/300\n",
            "7/7 [==============================] - 2s 327ms/step - loss: 0.3215 - acc: 0.8982 - val_loss: 0.5388 - val_acc: 0.8471\n",
            "Epoch 187/300\n",
            "7/7 [==============================] - 2s 320ms/step - loss: 0.3181 - acc: 0.9038 - val_loss: 0.5574 - val_acc: 0.8567\n",
            "Epoch 188/300\n",
            "7/7 [==============================] - 2s 322ms/step - loss: 0.3094 - acc: 0.9038 - val_loss: 0.5799 - val_acc: 0.8631\n",
            "Epoch 189/300\n",
            "7/7 [==============================] - 2s 323ms/step - loss: 0.3335 - acc: 0.9027 - val_loss: 0.5476 - val_acc: 0.8567\n",
            "Epoch 190/300\n",
            "7/7 [==============================] - 2s 326ms/step - loss: 0.3309 - acc: 0.8988 - val_loss: 0.5521 - val_acc: 0.8567\n",
            "Epoch 191/300\n",
            "7/7 [==============================] - 2s 317ms/step - loss: 0.3792 - acc: 0.8870 - val_loss: 0.5582 - val_acc: 0.8694\n",
            "Epoch 192/300\n",
            "7/7 [==============================] - 2s 316ms/step - loss: 0.3698 - acc: 0.8881 - val_loss: 0.5125 - val_acc: 0.8694\n",
            "Epoch 193/300\n",
            "7/7 [==============================] - 2s 317ms/step - loss: 0.3444 - acc: 0.8886 - val_loss: 0.5176 - val_acc: 0.8599\n",
            "Epoch 194/300\n",
            "7/7 [==============================] - 2s 323ms/step - loss: 0.3313 - acc: 0.8971 - val_loss: 0.5287 - val_acc: 0.8662\n"
          ]
        }
      ],
      "source": [
        "X_train = train_data.paper_id.to_numpy()\n",
        "history = run_experiment(gnn_model, X_train, Y_train)"
      ]
    },
    {
      "cell_type": "markdown",
      "metadata": {
        "id": "s7EMQG8bU8o5"
      },
      "source": [
        "<div dir=rtl>\n",
        "در نهایت نمودار‌های مربوط به مدل رسم می‌شود و دقت آن محاسبه می‌شود.\n",
        "<div>"
      ]
    },
    {
      "cell_type": "code",
      "execution_count": null,
      "metadata": {
        "colab": {
          "base_uri": "https://localhost:8080/",
          "height": 337
        },
        "id": "2MG06P_1U8o5",
        "outputId": "514f5d5a-395c-46ca-eb81-eae7676ee5b0"
      },
      "outputs": [
        {
          "output_type": "display_data",
          "data": {
            "image/png": "[encoded data removed]",
            "text/plain": [
              "<Figure size 1080x360 with 2 Axes>"
            ]
          },
          "metadata": {
            "needs_background": "light"
          }
        }
      ],
      "source": [
        "display_learning_curves(history)"
      ]
    },
    {
      "cell_type": "code",
      "execution_count": null,
      "metadata": {
        "colab": {
          "base_uri": "https://localhost:8080/"
        },
        "id": "eeYUZfvCU8o5",
        "outputId": "3eacca5a-7631-4397-eef2-ddf775200905"
      },
      "outputs": [
        {
          "output_type": "stream",
          "name": "stdout",
          "text": [
            "Test accuracy: 88.15%\n"
          ]
        }
      ],
      "source": [
        "X_test = test_data.paper_id.to_numpy()\n",
        "_, test_accuracy = gnn_model.evaluate(x=X_test, y=Y_test, verbose=0)\n",
        "print(f\"Test accuracy: {round(test_accuracy * 100, 2)}%\")"
      ]
    },
    {
      "cell_type": "markdown",
      "source": [
        "### <div dir=\"rtl\">نتیجه گیری بخش سوم:</div>\n",
        "\n",
        "<div dir=\"rtl\">\n",
        "در این قسمت از ساختار شبکه Graph Neural Network برای آموزش مدلمان بهره بردیم. از بخش دوم نتیجه گرفتیم که استفاده از ویژگیهای باینری نودها به تنهایی بهترین نتیجه را نسبت به دیگر روش‌ها برای ما به ارمغان می‌اورد و در این قسمت نیز تنها از ویژگیهای نودها برای آموزش مدل استفاده کردیم.\n",
        "\n",
        "صحت دسته‌بندی نودها در داده‌های تست با استفاده از مدلی که به کمک GNN آموزش داده‌شده است برابر با ۸۸ درصد است که تفاوت قابل توجهی با بهترین صحت قسمتهای قبلی دارد، چرا که این شبکه بطور خاص برای کار با گراف‌ها و داده‌های ساختار یافته و شبکه ای طراحی شده است و ما این روش را به عنوان بهترین روش استفاده شده در این پروژه معرفی می‌کنیم.\n",
        "<div>\n"
      ],
      "metadata": {
        "id": "OfqVkxMoY9tZ"
      }
    },
    {
      "cell_type": "markdown",
      "source": [
        "### با تشکر از توجه شما"
      ],
      "metadata": {
        "id": "1-tAXU-qZB6W"
      }
    },
    {
      "cell_type": "code",
      "source": [
        ""
      ],
      "metadata": {
        "id": "lFUFqQCMZBUg"
      },
      "execution_count": null,
      "outputs": []
    }
  ],
  "metadata": {
    "colab": {
      "collapsed_sections": [
        "0Z9h5WdLU8oa"
      ],
      "name": "gnn_citations_final.ipynb",
      "provenance": [],
      "include_colab_link": true
    },
    "kernelspec": {
      "display_name": "Python 3",
      "language": "python",
      "name": "python3"
    },
    "language_info": {
      "codemirror_mode": {
        "name": "ipython",
        "version": 3
      },
      "file_extension": ".py",
      "mimetype": "text/x-python",
      "name": "python",
      "nbconvert_exporter": "python",
      "pygments_lexer": "ipython3",
      "version": "3.8.8"
    }
  },
  "nbformat": 4,
  "nbformat_minor": 0
}